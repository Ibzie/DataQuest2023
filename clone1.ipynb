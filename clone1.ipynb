{
 "cells": [
  {
   "cell_type": "code",
   "execution_count": 4,
   "id": "dbc37d83",
   "metadata": {},
   "outputs": [],
   "source": [
    "import pandas as pd\n",
    "import numpy as np"
   ]
  },
  {
   "cell_type": "code",
   "execution_count": 5,
   "id": "f083d75b",
   "metadata": {},
   "outputs": [],
   "source": [
    "import pandas as pd\n",
    "\n",
    "# Read the text file\n",
    "file = 'dataquest-nascon23/Glucose-Data/Glucose-Data/1.txt'\n",
    "df = pd.read_csv(file, sep='\\t', header=None)\n",
    "\n",
    "# Rename the columns\n",
    "df.columns = ['Date', 'Time', 'Code', 'Glucose_Level']\n"
   ]
  },
  {
   "cell_type": "code",
   "execution_count": 6,
   "id": "4e453e9d",
   "metadata": {},
   "outputs": [],
   "source": [
    "import os\n",
    "import pandas as pd\n",
    "\n",
    "# Get the filename and use it as the patient name\n",
    "filename = file\n",
    "patient_name = os.path.splitext(filename)[0]\n",
    "\n",
    "# Read the text file\n",
    "df = pd.read_csv(filename, sep='\\t', header=None)\n",
    "\n",
    "# Rename the columns and add the patient name and ID columns\n",
    "df.columns = ['Date', 'Time', 'Code', 'GlucoseLevel']\n",
    "df.insert(0, 'PatientID', patient_name)\n",
    "df.set_index('PatientID', inplace=True)\n",
    "# Remove the default index\n",
    "df.index.name = None"
   ]
  },
  {
   "cell_type": "code",
   "execution_count": 7,
   "id": "417e2f16",
   "metadata": {},
   "outputs": [],
   "source": [
    "#day column containing day\n",
    "# Extract the day from the date and create a new column\n",
    "df['Date'] = pd.to_datetime(df['Date'])\n",
    "df['Day'] = df['Date'].dt.strftime('%A')"
   ]
  },
  {
   "cell_type": "code",
   "execution_count": 8,
   "id": "1e7c2d0b",
   "metadata": {
    "scrolled": false
   },
   "outputs": [
    {
     "data": {
      "text/plain": "                                                     Date   Time  Code  \\\ndataquest-nascon23/Glucose-Data/Glucose-Data/1 1991-05-14  05:53    58   \ndataquest-nascon23/Glucose-Data/Glucose-Data/1 1991-05-14  05:55    33   \ndataquest-nascon23/Glucose-Data/Glucose-Data/1 1991-05-14  05:55    35   \ndataquest-nascon23/Glucose-Data/Glucose-Data/1 1991-05-15  11:50    60   \ndataquest-nascon23/Glucose-Data/Glucose-Data/1 1991-05-15  11:52    33   \n\n                                                GlucoseLevel        Day  \ndataquest-nascon23/Glucose-Data/Glucose-Data/1           275    Tuesday  \ndataquest-nascon23/Glucose-Data/Glucose-Data/1             7    Tuesday  \ndataquest-nascon23/Glucose-Data/Glucose-Data/1            10    Tuesday  \ndataquest-nascon23/Glucose-Data/Glucose-Data/1           191  Wednesday  \ndataquest-nascon23/Glucose-Data/Glucose-Data/1             5  Wednesday  ",
      "text/html": "<div>\n<style scoped>\n    .dataframe tbody tr th:only-of-type {\n        vertical-align: middle;\n    }\n\n    .dataframe tbody tr th {\n        vertical-align: top;\n    }\n\n    .dataframe thead th {\n        text-align: right;\n    }\n</style>\n<table border=\"1\" class=\"dataframe\">\n  <thead>\n    <tr style=\"text-align: right;\">\n      <th></th>\n      <th>Date</th>\n      <th>Time</th>\n      <th>Code</th>\n      <th>GlucoseLevel</th>\n      <th>Day</th>\n    </tr>\n  </thead>\n  <tbody>\n    <tr>\n      <th>dataquest-nascon23/Glucose-Data/Glucose-Data/1</th>\n      <td>1991-05-14</td>\n      <td>05:53</td>\n      <td>58</td>\n      <td>275</td>\n      <td>Tuesday</td>\n    </tr>\n    <tr>\n      <th>dataquest-nascon23/Glucose-Data/Glucose-Data/1</th>\n      <td>1991-05-14</td>\n      <td>05:55</td>\n      <td>33</td>\n      <td>7</td>\n      <td>Tuesday</td>\n    </tr>\n    <tr>\n      <th>dataquest-nascon23/Glucose-Data/Glucose-Data/1</th>\n      <td>1991-05-14</td>\n      <td>05:55</td>\n      <td>35</td>\n      <td>10</td>\n      <td>Tuesday</td>\n    </tr>\n    <tr>\n      <th>dataquest-nascon23/Glucose-Data/Glucose-Data/1</th>\n      <td>1991-05-15</td>\n      <td>11:50</td>\n      <td>60</td>\n      <td>191</td>\n      <td>Wednesday</td>\n    </tr>\n    <tr>\n      <th>dataquest-nascon23/Glucose-Data/Glucose-Data/1</th>\n      <td>1991-05-15</td>\n      <td>11:52</td>\n      <td>33</td>\n      <td>5</td>\n      <td>Wednesday</td>\n    </tr>\n  </tbody>\n</table>\n</div>"
     },
     "execution_count": 8,
     "metadata": {},
     "output_type": "execute_result"
    }
   ],
   "source": [
    "df.tail()"
   ]
  },
  {
   "cell_type": "code",
   "execution_count": 9,
   "id": "11481fc9",
   "metadata": {},
   "outputs": [],
   "source": [
    "# Convert the 'Time' column to a datetime data type\n",
    "df['Time'] = pd.to_datetime(df['Time'], errors='coerce')\n",
    "\n",
    "# Define a function to get the time of day\n",
    "def get_time_of_day(row):\n",
    "    hour = row['Time'].hour\n",
    "    if hour >= 3 and hour < 12:\n",
    "        return 'Morning'\n",
    "    elif hour >= 12 and hour < 16:\n",
    "        return 'Afternoon'\n",
    "    elif hour >= 16 and hour < 19:\n",
    "        return 'Evening'\n",
    "    else:\n",
    "        return 'Night' if hour >= 19 or hour < 3 else None\n",
    "\n",
    "# Create a new column 'time_of_day'\n",
    "df['time_of_day'] = df.apply(get_time_of_day, axis=1)\n",
    "df['Time'] = pd.to_datetime(df['Time'])\n",
    "df['Time'] = df['Time'].dt.time"
   ]
  },
  {
   "cell_type": "code",
   "execution_count": 10,
   "id": "5b745677",
   "metadata": {
    "scrolled": false
   },
   "outputs": [
    {
     "data": {
      "text/plain": "                                                     Date      Time  Code  \\\ndataquest-nascon23/Glucose-Data/Glucose-Data/1 1991-04-15  13:08:00    33   \ndataquest-nascon23/Glucose-Data/Glucose-Data/1 1991-04-15  17:17:00    62   \ndataquest-nascon23/Glucose-Data/Glucose-Data/1 1991-04-15  18:23:00    33   \ndataquest-nascon23/Glucose-Data/Glucose-Data/1 1991-04-15  18:24:00    35   \ndataquest-nascon23/Glucose-Data/Glucose-Data/1 1991-04-15  21:16:00    64   \n...                                                   ...       ...   ...   \ndataquest-nascon23/Glucose-Data/Glucose-Data/1 1991-05-14  05:53:00    58   \ndataquest-nascon23/Glucose-Data/Glucose-Data/1 1991-05-14  05:55:00    33   \ndataquest-nascon23/Glucose-Data/Glucose-Data/1 1991-05-14  05:55:00    35   \ndataquest-nascon23/Glucose-Data/Glucose-Data/1 1991-05-15  11:50:00    60   \ndataquest-nascon23/Glucose-Data/Glucose-Data/1 1991-05-15  11:52:00    33   \n\n                                                GlucoseLevel        Day  \\\ndataquest-nascon23/Glucose-Data/Glucose-Data/1             5     Monday   \ndataquest-nascon23/Glucose-Data/Glucose-Data/1            41     Monday   \ndataquest-nascon23/Glucose-Data/Glucose-Data/1             6     Monday   \ndataquest-nascon23/Glucose-Data/Glucose-Data/1             3     Monday   \ndataquest-nascon23/Glucose-Data/Glucose-Data/1           119     Monday   \n...                                                      ...        ...   \ndataquest-nascon23/Glucose-Data/Glucose-Data/1           275    Tuesday   \ndataquest-nascon23/Glucose-Data/Glucose-Data/1             7    Tuesday   \ndataquest-nascon23/Glucose-Data/Glucose-Data/1            10    Tuesday   \ndataquest-nascon23/Glucose-Data/Glucose-Data/1           191  Wednesday   \ndataquest-nascon23/Glucose-Data/Glucose-Data/1             5  Wednesday   \n\n                                               time_of_day  \ndataquest-nascon23/Glucose-Data/Glucose-Data/1   Afternoon  \ndataquest-nascon23/Glucose-Data/Glucose-Data/1     Evening  \ndataquest-nascon23/Glucose-Data/Glucose-Data/1     Evening  \ndataquest-nascon23/Glucose-Data/Glucose-Data/1     Evening  \ndataquest-nascon23/Glucose-Data/Glucose-Data/1       Night  \n...                                                    ...  \ndataquest-nascon23/Glucose-Data/Glucose-Data/1     Morning  \ndataquest-nascon23/Glucose-Data/Glucose-Data/1     Morning  \ndataquest-nascon23/Glucose-Data/Glucose-Data/1     Morning  \ndataquest-nascon23/Glucose-Data/Glucose-Data/1     Morning  \ndataquest-nascon23/Glucose-Data/Glucose-Data/1     Morning  \n\n[300 rows x 6 columns]",
      "text/html": "<div>\n<style scoped>\n    .dataframe tbody tr th:only-of-type {\n        vertical-align: middle;\n    }\n\n    .dataframe tbody tr th {\n        vertical-align: top;\n    }\n\n    .dataframe thead th {\n        text-align: right;\n    }\n</style>\n<table border=\"1\" class=\"dataframe\">\n  <thead>\n    <tr style=\"text-align: right;\">\n      <th></th>\n      <th>Date</th>\n      <th>Time</th>\n      <th>Code</th>\n      <th>GlucoseLevel</th>\n      <th>Day</th>\n      <th>time_of_day</th>\n    </tr>\n  </thead>\n  <tbody>\n    <tr>\n      <th>dataquest-nascon23/Glucose-Data/Glucose-Data/1</th>\n      <td>1991-04-15</td>\n      <td>13:08:00</td>\n      <td>33</td>\n      <td>5</td>\n      <td>Monday</td>\n      <td>Afternoon</td>\n    </tr>\n    <tr>\n      <th>dataquest-nascon23/Glucose-Data/Glucose-Data/1</th>\n      <td>1991-04-15</td>\n      <td>17:17:00</td>\n      <td>62</td>\n      <td>41</td>\n      <td>Monday</td>\n      <td>Evening</td>\n    </tr>\n    <tr>\n      <th>dataquest-nascon23/Glucose-Data/Glucose-Data/1</th>\n      <td>1991-04-15</td>\n      <td>18:23:00</td>\n      <td>33</td>\n      <td>6</td>\n      <td>Monday</td>\n      <td>Evening</td>\n    </tr>\n    <tr>\n      <th>dataquest-nascon23/Glucose-Data/Glucose-Data/1</th>\n      <td>1991-04-15</td>\n      <td>18:24:00</td>\n      <td>35</td>\n      <td>3</td>\n      <td>Monday</td>\n      <td>Evening</td>\n    </tr>\n    <tr>\n      <th>dataquest-nascon23/Glucose-Data/Glucose-Data/1</th>\n      <td>1991-04-15</td>\n      <td>21:16:00</td>\n      <td>64</td>\n      <td>119</td>\n      <td>Monday</td>\n      <td>Night</td>\n    </tr>\n    <tr>\n      <th>...</th>\n      <td>...</td>\n      <td>...</td>\n      <td>...</td>\n      <td>...</td>\n      <td>...</td>\n      <td>...</td>\n    </tr>\n    <tr>\n      <th>dataquest-nascon23/Glucose-Data/Glucose-Data/1</th>\n      <td>1991-05-14</td>\n      <td>05:53:00</td>\n      <td>58</td>\n      <td>275</td>\n      <td>Tuesday</td>\n      <td>Morning</td>\n    </tr>\n    <tr>\n      <th>dataquest-nascon23/Glucose-Data/Glucose-Data/1</th>\n      <td>1991-05-14</td>\n      <td>05:55:00</td>\n      <td>33</td>\n      <td>7</td>\n      <td>Tuesday</td>\n      <td>Morning</td>\n    </tr>\n    <tr>\n      <th>dataquest-nascon23/Glucose-Data/Glucose-Data/1</th>\n      <td>1991-05-14</td>\n      <td>05:55:00</td>\n      <td>35</td>\n      <td>10</td>\n      <td>Tuesday</td>\n      <td>Morning</td>\n    </tr>\n    <tr>\n      <th>dataquest-nascon23/Glucose-Data/Glucose-Data/1</th>\n      <td>1991-05-15</td>\n      <td>11:50:00</td>\n      <td>60</td>\n      <td>191</td>\n      <td>Wednesday</td>\n      <td>Morning</td>\n    </tr>\n    <tr>\n      <th>dataquest-nascon23/Glucose-Data/Glucose-Data/1</th>\n      <td>1991-05-15</td>\n      <td>11:52:00</td>\n      <td>33</td>\n      <td>5</td>\n      <td>Wednesday</td>\n      <td>Morning</td>\n    </tr>\n  </tbody>\n</table>\n<p>300 rows × 6 columns</p>\n</div>"
     },
     "execution_count": 10,
     "metadata": {},
     "output_type": "execute_result"
    }
   ],
   "source": [
    "df"
   ]
  },
  {
   "cell_type": "code",
   "execution_count": 11,
   "id": "5a300a14",
   "metadata": {},
   "outputs": [],
   "source": [
    "#seperate column for year and month\n",
    "# Convert the 'Date' column to a datetime data type\n",
    "df['Date'] = pd.to_datetime(df['Date'])\n",
    "\n",
    "# Create new columns 'Year' and 'Month'\n",
    "df['Year'] = df['Date'].dt.year\n",
    "df['Month'] = df['Date'].dt.month\n"
   ]
  },
  {
   "cell_type": "code",
   "execution_count": 12,
   "id": "d90b50f4",
   "metadata": {
    "scrolled": false
   },
   "outputs": [
    {
     "data": {
      "text/plain": "                                                     Date      Time  Code  \\\ndataquest-nascon23/Glucose-Data/Glucose-Data/1 1991-04-15  13:08:00    33   \ndataquest-nascon23/Glucose-Data/Glucose-Data/1 1991-04-15  17:17:00    62   \ndataquest-nascon23/Glucose-Data/Glucose-Data/1 1991-04-15  18:23:00    33   \ndataquest-nascon23/Glucose-Data/Glucose-Data/1 1991-04-15  18:24:00    35   \ndataquest-nascon23/Glucose-Data/Glucose-Data/1 1991-04-15  21:16:00    64   \n\n                                                GlucoseLevel     Day  \\\ndataquest-nascon23/Glucose-Data/Glucose-Data/1             5  Monday   \ndataquest-nascon23/Glucose-Data/Glucose-Data/1            41  Monday   \ndataquest-nascon23/Glucose-Data/Glucose-Data/1             6  Monday   \ndataquest-nascon23/Glucose-Data/Glucose-Data/1             3  Monday   \ndataquest-nascon23/Glucose-Data/Glucose-Data/1           119  Monday   \n\n                                               time_of_day  Year  Month  \ndataquest-nascon23/Glucose-Data/Glucose-Data/1   Afternoon  1991      4  \ndataquest-nascon23/Glucose-Data/Glucose-Data/1     Evening  1991      4  \ndataquest-nascon23/Glucose-Data/Glucose-Data/1     Evening  1991      4  \ndataquest-nascon23/Glucose-Data/Glucose-Data/1     Evening  1991      4  \ndataquest-nascon23/Glucose-Data/Glucose-Data/1       Night  1991      4  ",
      "text/html": "<div>\n<style scoped>\n    .dataframe tbody tr th:only-of-type {\n        vertical-align: middle;\n    }\n\n    .dataframe tbody tr th {\n        vertical-align: top;\n    }\n\n    .dataframe thead th {\n        text-align: right;\n    }\n</style>\n<table border=\"1\" class=\"dataframe\">\n  <thead>\n    <tr style=\"text-align: right;\">\n      <th></th>\n      <th>Date</th>\n      <th>Time</th>\n      <th>Code</th>\n      <th>GlucoseLevel</th>\n      <th>Day</th>\n      <th>time_of_day</th>\n      <th>Year</th>\n      <th>Month</th>\n    </tr>\n  </thead>\n  <tbody>\n    <tr>\n      <th>dataquest-nascon23/Glucose-Data/Glucose-Data/1</th>\n      <td>1991-04-15</td>\n      <td>13:08:00</td>\n      <td>33</td>\n      <td>5</td>\n      <td>Monday</td>\n      <td>Afternoon</td>\n      <td>1991</td>\n      <td>4</td>\n    </tr>\n    <tr>\n      <th>dataquest-nascon23/Glucose-Data/Glucose-Data/1</th>\n      <td>1991-04-15</td>\n      <td>17:17:00</td>\n      <td>62</td>\n      <td>41</td>\n      <td>Monday</td>\n      <td>Evening</td>\n      <td>1991</td>\n      <td>4</td>\n    </tr>\n    <tr>\n      <th>dataquest-nascon23/Glucose-Data/Glucose-Data/1</th>\n      <td>1991-04-15</td>\n      <td>18:23:00</td>\n      <td>33</td>\n      <td>6</td>\n      <td>Monday</td>\n      <td>Evening</td>\n      <td>1991</td>\n      <td>4</td>\n    </tr>\n    <tr>\n      <th>dataquest-nascon23/Glucose-Data/Glucose-Data/1</th>\n      <td>1991-04-15</td>\n      <td>18:24:00</td>\n      <td>35</td>\n      <td>3</td>\n      <td>Monday</td>\n      <td>Evening</td>\n      <td>1991</td>\n      <td>4</td>\n    </tr>\n    <tr>\n      <th>dataquest-nascon23/Glucose-Data/Glucose-Data/1</th>\n      <td>1991-04-15</td>\n      <td>21:16:00</td>\n      <td>64</td>\n      <td>119</td>\n      <td>Monday</td>\n      <td>Night</td>\n      <td>1991</td>\n      <td>4</td>\n    </tr>\n  </tbody>\n</table>\n</div>"
     },
     "execution_count": 12,
     "metadata": {},
     "output_type": "execute_result"
    }
   ],
   "source": [
    "df.head()"
   ]
  },
  {
   "cell_type": "code",
   "execution_count": 13,
   "id": "cdc02251",
   "metadata": {},
   "outputs": [],
   "source": [
    "#7 weak day\n",
    "df['week_day'] = (df['Day'] != 'Saturday') & (df['Day'] != 'Sunday')\n",
    "df['week_day'] = df['week_day'].astype(int)\n"
   ]
  },
  {
   "cell_type": "code",
   "execution_count": 14,
   "id": "9bb00eec",
   "metadata": {},
   "outputs": [],
   "source": [
    "#QUARTER OF DAY\n",
    "def get_quarter(row):\n",
    "    if row['time_of_day'] == 'Morning':\n",
    "        return 1\n",
    "    elif row['time_of_day'] == 'Afternoon':\n",
    "        return 2\n",
    "    elif row['time_of_day'] == 'Evening':\n",
    "        return 3\n",
    "    elif row['time_of_day'] == 'Night':\n",
    "        return 4\n",
    "    else:\n",
    "        return None\n",
    "\n",
    "df['quarter'] = df.apply(get_quarter, axis=1)\n"
   ]
  },
  {
   "cell_type": "code",
   "execution_count": 15,
   "id": "6b85b45a",
   "metadata": {
    "scrolled": true
   },
   "outputs": [
    {
     "data": {
      "text/plain": "                                                     Date      Time  Code  \\\ndataquest-nascon23/Glucose-Data/Glucose-Data/1 1991-04-15  13:08:00    33   \ndataquest-nascon23/Glucose-Data/Glucose-Data/1 1991-04-15  17:17:00    62   \ndataquest-nascon23/Glucose-Data/Glucose-Data/1 1991-04-15  18:23:00    33   \ndataquest-nascon23/Glucose-Data/Glucose-Data/1 1991-04-15  18:24:00    35   \ndataquest-nascon23/Glucose-Data/Glucose-Data/1 1991-04-15  21:16:00    64   \n\n                                                GlucoseLevel     Day  \\\ndataquest-nascon23/Glucose-Data/Glucose-Data/1             5  Monday   \ndataquest-nascon23/Glucose-Data/Glucose-Data/1            41  Monday   \ndataquest-nascon23/Glucose-Data/Glucose-Data/1             6  Monday   \ndataquest-nascon23/Glucose-Data/Glucose-Data/1             3  Monday   \ndataquest-nascon23/Glucose-Data/Glucose-Data/1           119  Monday   \n\n                                               time_of_day  Year  Month  \\\ndataquest-nascon23/Glucose-Data/Glucose-Data/1   Afternoon  1991      4   \ndataquest-nascon23/Glucose-Data/Glucose-Data/1     Evening  1991      4   \ndataquest-nascon23/Glucose-Data/Glucose-Data/1     Evening  1991      4   \ndataquest-nascon23/Glucose-Data/Glucose-Data/1     Evening  1991      4   \ndataquest-nascon23/Glucose-Data/Glucose-Data/1       Night  1991      4   \n\n                                                week_day  quarter  \ndataquest-nascon23/Glucose-Data/Glucose-Data/1         1        2  \ndataquest-nascon23/Glucose-Data/Glucose-Data/1         1        3  \ndataquest-nascon23/Glucose-Data/Glucose-Data/1         1        3  \ndataquest-nascon23/Glucose-Data/Glucose-Data/1         1        3  \ndataquest-nascon23/Glucose-Data/Glucose-Data/1         1        4  ",
      "text/html": "<div>\n<style scoped>\n    .dataframe tbody tr th:only-of-type {\n        vertical-align: middle;\n    }\n\n    .dataframe tbody tr th {\n        vertical-align: top;\n    }\n\n    .dataframe thead th {\n        text-align: right;\n    }\n</style>\n<table border=\"1\" class=\"dataframe\">\n  <thead>\n    <tr style=\"text-align: right;\">\n      <th></th>\n      <th>Date</th>\n      <th>Time</th>\n      <th>Code</th>\n      <th>GlucoseLevel</th>\n      <th>Day</th>\n      <th>time_of_day</th>\n      <th>Year</th>\n      <th>Month</th>\n      <th>week_day</th>\n      <th>quarter</th>\n    </tr>\n  </thead>\n  <tbody>\n    <tr>\n      <th>dataquest-nascon23/Glucose-Data/Glucose-Data/1</th>\n      <td>1991-04-15</td>\n      <td>13:08:00</td>\n      <td>33</td>\n      <td>5</td>\n      <td>Monday</td>\n      <td>Afternoon</td>\n      <td>1991</td>\n      <td>4</td>\n      <td>1</td>\n      <td>2</td>\n    </tr>\n    <tr>\n      <th>dataquest-nascon23/Glucose-Data/Glucose-Data/1</th>\n      <td>1991-04-15</td>\n      <td>17:17:00</td>\n      <td>62</td>\n      <td>41</td>\n      <td>Monday</td>\n      <td>Evening</td>\n      <td>1991</td>\n      <td>4</td>\n      <td>1</td>\n      <td>3</td>\n    </tr>\n    <tr>\n      <th>dataquest-nascon23/Glucose-Data/Glucose-Data/1</th>\n      <td>1991-04-15</td>\n      <td>18:23:00</td>\n      <td>33</td>\n      <td>6</td>\n      <td>Monday</td>\n      <td>Evening</td>\n      <td>1991</td>\n      <td>4</td>\n      <td>1</td>\n      <td>3</td>\n    </tr>\n    <tr>\n      <th>dataquest-nascon23/Glucose-Data/Glucose-Data/1</th>\n      <td>1991-04-15</td>\n      <td>18:24:00</td>\n      <td>35</td>\n      <td>3</td>\n      <td>Monday</td>\n      <td>Evening</td>\n      <td>1991</td>\n      <td>4</td>\n      <td>1</td>\n      <td>3</td>\n    </tr>\n    <tr>\n      <th>dataquest-nascon23/Glucose-Data/Glucose-Data/1</th>\n      <td>1991-04-15</td>\n      <td>21:16:00</td>\n      <td>64</td>\n      <td>119</td>\n      <td>Monday</td>\n      <td>Night</td>\n      <td>1991</td>\n      <td>4</td>\n      <td>1</td>\n      <td>4</td>\n    </tr>\n  </tbody>\n</table>\n</div>"
     },
     "execution_count": 15,
     "metadata": {},
     "output_type": "execute_result"
    }
   ],
   "source": [
    "df.head()"
   ]
  },
  {
   "cell_type": "code",
   "execution_count": 16,
   "id": "d83cd7ad",
   "metadata": {},
   "outputs": [
    {
     "data": {
      "text/plain": "                                                     Date      Time  Code  \\\ndataquest-nascon23/Glucose-Data/Glucose-Data/1 1991-04-15  13:08:00    33   \ndataquest-nascon23/Glucose-Data/Glucose-Data/1 1991-04-15  17:17:00    62   \ndataquest-nascon23/Glucose-Data/Glucose-Data/1 1991-04-15  18:23:00    33   \ndataquest-nascon23/Glucose-Data/Glucose-Data/1 1991-04-15  18:24:00    35   \ndataquest-nascon23/Glucose-Data/Glucose-Data/1 1991-04-15  21:16:00    64   \n\n                                                GlucoseLevel     Day  \\\ndataquest-nascon23/Glucose-Data/Glucose-Data/1             5  Monday   \ndataquest-nascon23/Glucose-Data/Glucose-Data/1            41  Monday   \ndataquest-nascon23/Glucose-Data/Glucose-Data/1             6  Monday   \ndataquest-nascon23/Glucose-Data/Glucose-Data/1             3  Monday   \ndataquest-nascon23/Glucose-Data/Glucose-Data/1           119  Monday   \n\n                                               time_of_day  Year  Month  \\\ndataquest-nascon23/Glucose-Data/Glucose-Data/1   Afternoon  1991      4   \ndataquest-nascon23/Glucose-Data/Glucose-Data/1     Evening  1991      4   \ndataquest-nascon23/Glucose-Data/Glucose-Data/1     Evening  1991      4   \ndataquest-nascon23/Glucose-Data/Glucose-Data/1     Evening  1991      4   \ndataquest-nascon23/Glucose-Data/Glucose-Data/1       Night  1991      4   \n\n                                                week_day  quarter  \ndataquest-nascon23/Glucose-Data/Glucose-Data/1         1        2  \ndataquest-nascon23/Glucose-Data/Glucose-Data/1         1        3  \ndataquest-nascon23/Glucose-Data/Glucose-Data/1         1        3  \ndataquest-nascon23/Glucose-Data/Glucose-Data/1         1        3  \ndataquest-nascon23/Glucose-Data/Glucose-Data/1         1        4  ",
      "text/html": "<div>\n<style scoped>\n    .dataframe tbody tr th:only-of-type {\n        vertical-align: middle;\n    }\n\n    .dataframe tbody tr th {\n        vertical-align: top;\n    }\n\n    .dataframe thead th {\n        text-align: right;\n    }\n</style>\n<table border=\"1\" class=\"dataframe\">\n  <thead>\n    <tr style=\"text-align: right;\">\n      <th></th>\n      <th>Date</th>\n      <th>Time</th>\n      <th>Code</th>\n      <th>GlucoseLevel</th>\n      <th>Day</th>\n      <th>time_of_day</th>\n      <th>Year</th>\n      <th>Month</th>\n      <th>week_day</th>\n      <th>quarter</th>\n    </tr>\n  </thead>\n  <tbody>\n    <tr>\n      <th>dataquest-nascon23/Glucose-Data/Glucose-Data/1</th>\n      <td>1991-04-15</td>\n      <td>13:08:00</td>\n      <td>33</td>\n      <td>5</td>\n      <td>Monday</td>\n      <td>Afternoon</td>\n      <td>1991</td>\n      <td>4</td>\n      <td>1</td>\n      <td>2</td>\n    </tr>\n    <tr>\n      <th>dataquest-nascon23/Glucose-Data/Glucose-Data/1</th>\n      <td>1991-04-15</td>\n      <td>17:17:00</td>\n      <td>62</td>\n      <td>41</td>\n      <td>Monday</td>\n      <td>Evening</td>\n      <td>1991</td>\n      <td>4</td>\n      <td>1</td>\n      <td>3</td>\n    </tr>\n    <tr>\n      <th>dataquest-nascon23/Glucose-Data/Glucose-Data/1</th>\n      <td>1991-04-15</td>\n      <td>18:23:00</td>\n      <td>33</td>\n      <td>6</td>\n      <td>Monday</td>\n      <td>Evening</td>\n      <td>1991</td>\n      <td>4</td>\n      <td>1</td>\n      <td>3</td>\n    </tr>\n    <tr>\n      <th>dataquest-nascon23/Glucose-Data/Glucose-Data/1</th>\n      <td>1991-04-15</td>\n      <td>18:24:00</td>\n      <td>35</td>\n      <td>3</td>\n      <td>Monday</td>\n      <td>Evening</td>\n      <td>1991</td>\n      <td>4</td>\n      <td>1</td>\n      <td>3</td>\n    </tr>\n    <tr>\n      <th>dataquest-nascon23/Glucose-Data/Glucose-Data/1</th>\n      <td>1991-04-15</td>\n      <td>21:16:00</td>\n      <td>64</td>\n      <td>119</td>\n      <td>Monday</td>\n      <td>Night</td>\n      <td>1991</td>\n      <td>4</td>\n      <td>1</td>\n      <td>4</td>\n    </tr>\n  </tbody>\n</table>\n</div>"
     },
     "execution_count": 16,
     "metadata": {},
     "output_type": "execute_result"
    }
   ],
   "source": [
    "df.head()"
   ]
  },
  {
   "cell_type": "code",
   "execution_count": 17,
   "id": "ecd6013d",
   "metadata": {},
   "outputs": [],
   "source": [
    "my_dict = {\n",
    "    33: \"Regular insulin dose\",\n",
    "    34: \"NPH insulin dose\",\n",
    "    35: \"UltraLente insulin dose\",\n",
    "    48: \"Unspecified blood glucose measurement\",\n",
    "    57: \"Unspecified blood glucose measurement\",\n",
    "    58: \"Pre-breakfast blood glucose measurement\",\n",
    "    59: \"Post-breakfast blood glucose measurement\",\n",
    "    60: \"Pre-lunch blood glucose measurement\",\n",
    "    61: \"Post-lunch blood glucose measurement\",\n",
    "    62: \"Pre-supper blood glucose measurement\",\n",
    "    63: \"Post-supper blood glucose measurement\",\n",
    "    64: \"Pre-snack blood glucose measurement\",\n",
    "    65: \"Hypoglycemic symptoms\",\n",
    "    66: \"Typical meal ingestion\",\n",
    "    67: \"More-than-usual meal ingestion\",\n",
    "    68: \"Less-than-usual meal ingestion\",\n",
    "    69: \"Typical exercise activity\",\n",
    "    70: \"More-than-usual exercise activity\",\n",
    "    71: \"Less-than-usual exercise activity\",\n",
    "    72: \"Unspecified special event\"\n",
    "}\n"
   ]
  },
  {
   "cell_type": "code",
   "execution_count": 18,
   "id": "58944906",
   "metadata": {},
   "outputs": [],
   "source": [
    "# Loop through the keys in the dictionary and assign 1 if the key is present in the code column, else 0\n",
    "for key in my_dict.keys():\n",
    "    df[my_dict[key]] = df['Code'].apply(lambda x: 1 if x == key else 0)\n"
   ]
  },
  {
   "cell_type": "code",
   "execution_count": 19,
   "id": "d6988f38",
   "metadata": {},
   "outputs": [
    {
     "data": {
      "text/plain": "                                                     Date      Time  Code  \\\ndataquest-nascon23/Glucose-Data/Glucose-Data/1 1991-04-15  13:08:00    33   \ndataquest-nascon23/Glucose-Data/Glucose-Data/1 1991-04-15  17:17:00    62   \ndataquest-nascon23/Glucose-Data/Glucose-Data/1 1991-04-15  18:23:00    33   \ndataquest-nascon23/Glucose-Data/Glucose-Data/1 1991-04-15  18:24:00    35   \ndataquest-nascon23/Glucose-Data/Glucose-Data/1 1991-04-15  21:16:00    64   \n\n                                                GlucoseLevel     Day  \\\ndataquest-nascon23/Glucose-Data/Glucose-Data/1             5  Monday   \ndataquest-nascon23/Glucose-Data/Glucose-Data/1            41  Monday   \ndataquest-nascon23/Glucose-Data/Glucose-Data/1             6  Monday   \ndataquest-nascon23/Glucose-Data/Glucose-Data/1             3  Monday   \ndataquest-nascon23/Glucose-Data/Glucose-Data/1           119  Monday   \n\n                                               time_of_day  Year  Month  \\\ndataquest-nascon23/Glucose-Data/Glucose-Data/1   Afternoon  1991      4   \ndataquest-nascon23/Glucose-Data/Glucose-Data/1     Evening  1991      4   \ndataquest-nascon23/Glucose-Data/Glucose-Data/1     Evening  1991      4   \ndataquest-nascon23/Glucose-Data/Glucose-Data/1     Evening  1991      4   \ndataquest-nascon23/Glucose-Data/Glucose-Data/1       Night  1991      4   \n\n                                                week_day  quarter  ...  \\\ndataquest-nascon23/Glucose-Data/Glucose-Data/1         1        2  ...   \ndataquest-nascon23/Glucose-Data/Glucose-Data/1         1        3  ...   \ndataquest-nascon23/Glucose-Data/Glucose-Data/1         1        3  ...   \ndataquest-nascon23/Glucose-Data/Glucose-Data/1         1        3  ...   \ndataquest-nascon23/Glucose-Data/Glucose-Data/1         1        4  ...   \n\n                                                Post-supper blood glucose measurement  \\\ndataquest-nascon23/Glucose-Data/Glucose-Data/1                                      0   \ndataquest-nascon23/Glucose-Data/Glucose-Data/1                                      0   \ndataquest-nascon23/Glucose-Data/Glucose-Data/1                                      0   \ndataquest-nascon23/Glucose-Data/Glucose-Data/1                                      0   \ndataquest-nascon23/Glucose-Data/Glucose-Data/1                                      0   \n\n                                                Pre-snack blood glucose measurement  \\\ndataquest-nascon23/Glucose-Data/Glucose-Data/1                                    0   \ndataquest-nascon23/Glucose-Data/Glucose-Data/1                                    0   \ndataquest-nascon23/Glucose-Data/Glucose-Data/1                                    0   \ndataquest-nascon23/Glucose-Data/Glucose-Data/1                                    0   \ndataquest-nascon23/Glucose-Data/Glucose-Data/1                                    1   \n\n                                                Hypoglycemic symptoms  \\\ndataquest-nascon23/Glucose-Data/Glucose-Data/1                      0   \ndataquest-nascon23/Glucose-Data/Glucose-Data/1                      0   \ndataquest-nascon23/Glucose-Data/Glucose-Data/1                      0   \ndataquest-nascon23/Glucose-Data/Glucose-Data/1                      0   \ndataquest-nascon23/Glucose-Data/Glucose-Data/1                      0   \n\n                                                Typical meal ingestion  \\\ndataquest-nascon23/Glucose-Data/Glucose-Data/1                       0   \ndataquest-nascon23/Glucose-Data/Glucose-Data/1                       0   \ndataquest-nascon23/Glucose-Data/Glucose-Data/1                       0   \ndataquest-nascon23/Glucose-Data/Glucose-Data/1                       0   \ndataquest-nascon23/Glucose-Data/Glucose-Data/1                       0   \n\n                                                More-than-usual meal ingestion  \\\ndataquest-nascon23/Glucose-Data/Glucose-Data/1                               0   \ndataquest-nascon23/Glucose-Data/Glucose-Data/1                               0   \ndataquest-nascon23/Glucose-Data/Glucose-Data/1                               0   \ndataquest-nascon23/Glucose-Data/Glucose-Data/1                               0   \ndataquest-nascon23/Glucose-Data/Glucose-Data/1                               0   \n\n                                                Less-than-usual meal ingestion  \\\ndataquest-nascon23/Glucose-Data/Glucose-Data/1                               0   \ndataquest-nascon23/Glucose-Data/Glucose-Data/1                               0   \ndataquest-nascon23/Glucose-Data/Glucose-Data/1                               0   \ndataquest-nascon23/Glucose-Data/Glucose-Data/1                               0   \ndataquest-nascon23/Glucose-Data/Glucose-Data/1                               0   \n\n                                                Typical exercise activity  \\\ndataquest-nascon23/Glucose-Data/Glucose-Data/1                          0   \ndataquest-nascon23/Glucose-Data/Glucose-Data/1                          0   \ndataquest-nascon23/Glucose-Data/Glucose-Data/1                          0   \ndataquest-nascon23/Glucose-Data/Glucose-Data/1                          0   \ndataquest-nascon23/Glucose-Data/Glucose-Data/1                          0   \n\n                                                More-than-usual exercise activity  \\\ndataquest-nascon23/Glucose-Data/Glucose-Data/1                                  0   \ndataquest-nascon23/Glucose-Data/Glucose-Data/1                                  0   \ndataquest-nascon23/Glucose-Data/Glucose-Data/1                                  0   \ndataquest-nascon23/Glucose-Data/Glucose-Data/1                                  0   \ndataquest-nascon23/Glucose-Data/Glucose-Data/1                                  0   \n\n                                                Less-than-usual exercise activity  \\\ndataquest-nascon23/Glucose-Data/Glucose-Data/1                                  0   \ndataquest-nascon23/Glucose-Data/Glucose-Data/1                                  0   \ndataquest-nascon23/Glucose-Data/Glucose-Data/1                                  0   \ndataquest-nascon23/Glucose-Data/Glucose-Data/1                                  0   \ndataquest-nascon23/Glucose-Data/Glucose-Data/1                                  0   \n\n                                                Unspecified special event  \ndataquest-nascon23/Glucose-Data/Glucose-Data/1                          0  \ndataquest-nascon23/Glucose-Data/Glucose-Data/1                          0  \ndataquest-nascon23/Glucose-Data/Glucose-Data/1                          0  \ndataquest-nascon23/Glucose-Data/Glucose-Data/1                          0  \ndataquest-nascon23/Glucose-Data/Glucose-Data/1                          0  \n\n[5 rows x 29 columns]",
      "text/html": "<div>\n<style scoped>\n    .dataframe tbody tr th:only-of-type {\n        vertical-align: middle;\n    }\n\n    .dataframe tbody tr th {\n        vertical-align: top;\n    }\n\n    .dataframe thead th {\n        text-align: right;\n    }\n</style>\n<table border=\"1\" class=\"dataframe\">\n  <thead>\n    <tr style=\"text-align: right;\">\n      <th></th>\n      <th>Date</th>\n      <th>Time</th>\n      <th>Code</th>\n      <th>GlucoseLevel</th>\n      <th>Day</th>\n      <th>time_of_day</th>\n      <th>Year</th>\n      <th>Month</th>\n      <th>week_day</th>\n      <th>quarter</th>\n      <th>...</th>\n      <th>Post-supper blood glucose measurement</th>\n      <th>Pre-snack blood glucose measurement</th>\n      <th>Hypoglycemic symptoms</th>\n      <th>Typical meal ingestion</th>\n      <th>More-than-usual meal ingestion</th>\n      <th>Less-than-usual meal ingestion</th>\n      <th>Typical exercise activity</th>\n      <th>More-than-usual exercise activity</th>\n      <th>Less-than-usual exercise activity</th>\n      <th>Unspecified special event</th>\n    </tr>\n  </thead>\n  <tbody>\n    <tr>\n      <th>dataquest-nascon23/Glucose-Data/Glucose-Data/1</th>\n      <td>1991-04-15</td>\n      <td>13:08:00</td>\n      <td>33</td>\n      <td>5</td>\n      <td>Monday</td>\n      <td>Afternoon</td>\n      <td>1991</td>\n      <td>4</td>\n      <td>1</td>\n      <td>2</td>\n      <td>...</td>\n      <td>0</td>\n      <td>0</td>\n      <td>0</td>\n      <td>0</td>\n      <td>0</td>\n      <td>0</td>\n      <td>0</td>\n      <td>0</td>\n      <td>0</td>\n      <td>0</td>\n    </tr>\n    <tr>\n      <th>dataquest-nascon23/Glucose-Data/Glucose-Data/1</th>\n      <td>1991-04-15</td>\n      <td>17:17:00</td>\n      <td>62</td>\n      <td>41</td>\n      <td>Monday</td>\n      <td>Evening</td>\n      <td>1991</td>\n      <td>4</td>\n      <td>1</td>\n      <td>3</td>\n      <td>...</td>\n      <td>0</td>\n      <td>0</td>\n      <td>0</td>\n      <td>0</td>\n      <td>0</td>\n      <td>0</td>\n      <td>0</td>\n      <td>0</td>\n      <td>0</td>\n      <td>0</td>\n    </tr>\n    <tr>\n      <th>dataquest-nascon23/Glucose-Data/Glucose-Data/1</th>\n      <td>1991-04-15</td>\n      <td>18:23:00</td>\n      <td>33</td>\n      <td>6</td>\n      <td>Monday</td>\n      <td>Evening</td>\n      <td>1991</td>\n      <td>4</td>\n      <td>1</td>\n      <td>3</td>\n      <td>...</td>\n      <td>0</td>\n      <td>0</td>\n      <td>0</td>\n      <td>0</td>\n      <td>0</td>\n      <td>0</td>\n      <td>0</td>\n      <td>0</td>\n      <td>0</td>\n      <td>0</td>\n    </tr>\n    <tr>\n      <th>dataquest-nascon23/Glucose-Data/Glucose-Data/1</th>\n      <td>1991-04-15</td>\n      <td>18:24:00</td>\n      <td>35</td>\n      <td>3</td>\n      <td>Monday</td>\n      <td>Evening</td>\n      <td>1991</td>\n      <td>4</td>\n      <td>1</td>\n      <td>3</td>\n      <td>...</td>\n      <td>0</td>\n      <td>0</td>\n      <td>0</td>\n      <td>0</td>\n      <td>0</td>\n      <td>0</td>\n      <td>0</td>\n      <td>0</td>\n      <td>0</td>\n      <td>0</td>\n    </tr>\n    <tr>\n      <th>dataquest-nascon23/Glucose-Data/Glucose-Data/1</th>\n      <td>1991-04-15</td>\n      <td>21:16:00</td>\n      <td>64</td>\n      <td>119</td>\n      <td>Monday</td>\n      <td>Night</td>\n      <td>1991</td>\n      <td>4</td>\n      <td>1</td>\n      <td>4</td>\n      <td>...</td>\n      <td>0</td>\n      <td>1</td>\n      <td>0</td>\n      <td>0</td>\n      <td>0</td>\n      <td>0</td>\n      <td>0</td>\n      <td>0</td>\n      <td>0</td>\n      <td>0</td>\n    </tr>\n  </tbody>\n</table>\n<p>5 rows × 29 columns</p>\n</div>"
     },
     "execution_count": 19,
     "metadata": {},
     "output_type": "execute_result"
    }
   ],
   "source": [
    "df.head()"
   ]
  },
  {
   "cell_type": "code",
   "execution_count": 21,
   "outputs": [],
   "source": [
    "df.to_csv('Features.csv')"
   ],
   "metadata": {
    "collapsed": false
   }
  },
  {
   "cell_type": "code",
   "execution_count": null,
   "outputs": [],
   "source": [],
   "metadata": {
    "collapsed": false
   }
  }
 ],
 "metadata": {
  "kernelspec": {
   "display_name": "Python 3 (ipykernel)",
   "language": "python",
   "name": "python3"
  },
  "language_info": {
   "codemirror_mode": {
    "name": "ipython",
    "version": 3
   },
   "file_extension": ".py",
   "mimetype": "text/x-python",
   "name": "python",
   "nbconvert_exporter": "python",
   "pygments_lexer": "ipython3",
   "version": "3.9.12"
  }
 },
 "nbformat": 4,
 "nbformat_minor": 5
}
