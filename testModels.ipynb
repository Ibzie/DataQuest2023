{
 "cells": [
  {
   "cell_type": "code",
   "execution_count": 64,
   "metadata": {
    "collapsed": true
   },
   "outputs": [],
   "source": [
    "import pandas as pd\n",
    "import numpy as np"
   ]
  },
  {
   "cell_type": "code",
   "execution_count": 104,
   "outputs": [
    {
     "data": {
      "text/plain": "     GlucoseLevel  quarter  Regular insulin dose  NPH insulin dose  \\\n0               5        2                     1                 0   \n1              41        3                     0                 0   \n2               6        3                     1                 0   \n3               3        3                     0                 0   \n4             119        4                     0                 0   \n..            ...      ...                   ...               ...   \n295           275        1                     0                 0   \n296             7        1                     1                 0   \n297            10        1                     0                 0   \n298           191        1                     0                 0   \n299             5        1                     1                 0   \n\n     UltraLente insulin dose  Unspecified blood glucose measurement  \\\n0                          0                                      0   \n1                          0                                      0   \n2                          0                                      0   \n3                          1                                      0   \n4                          0                                      0   \n..                       ...                                    ...   \n295                        0                                      0   \n296                        0                                      0   \n297                        1                                      0   \n298                        0                                      0   \n299                        0                                      0   \n\n     Pre-breakfast blood glucose measurement  \\\n0                                          0   \n1                                          0   \n2                                          0   \n3                                          0   \n4                                          0   \n..                                       ...   \n295                                        1   \n296                                        0   \n297                                        0   \n298                                        0   \n299                                        0   \n\n     Post-breakfast blood glucose measurement  \\\n0                                           0   \n1                                           0   \n2                                           0   \n3                                           0   \n4                                           0   \n..                                        ...   \n295                                         0   \n296                                         0   \n297                                         0   \n298                                         0   \n299                                         0   \n\n     Pre-lunch blood glucose measurement  \\\n0                                      0   \n1                                      0   \n2                                      0   \n3                                      0   \n4                                      0   \n..                                   ...   \n295                                    0   \n296                                    0   \n297                                    0   \n298                                    1   \n299                                    0   \n\n     Post-lunch blood glucose measurement  ...  Time_22:04:00  Time_22:05:00  \\\n0                                       0  ...              0              0   \n1                                       0  ...              0              0   \n2                                       0  ...              0              0   \n3                                       0  ...              0              0   \n4                                       0  ...              0              0   \n..                                    ...  ...            ...            ...   \n295                                     0  ...              0              0   \n296                                     0  ...              0              0   \n297                                     0  ...              0              0   \n298                                     0  ...              0              0   \n299                                     0  ...              0              0   \n\n     Time_23:15:00  Time_23:22:00  Time_23:23:00  Time_23:24:00  \\\n0                0              0              0              0   \n1                0              0              0              0   \n2                0              0              0              0   \n3                0              0              0              0   \n4                0              0              0              0   \n..             ...            ...            ...            ...   \n295              0              0              0              0   \n296              0              0              0              0   \n297              0              0              0              0   \n298              0              0              0              0   \n299              0              0              0              0   \n\n     time_of_day_Afternoon  time_of_day_Evening  time_of_day_Morning  \\\n0                        1                    0                    0   \n1                        0                    1                    0   \n2                        0                    1                    0   \n3                        0                    1                    0   \n4                        0                    0                    0   \n..                     ...                  ...                  ...   \n295                      0                    0                    1   \n296                      0                    0                    1   \n297                      0                    0                    1   \n298                      0                    0                    1   \n299                      0                    0                    1   \n\n     time_of_day_Night  \n0                    0  \n1                    0  \n2                    0  \n3                    0  \n4                    1  \n..                 ...  \n295                  0  \n296                  0  \n297                  0  \n298                  0  \n299                  0  \n\n[300 rows x 209 columns]",
      "text/html": "<div>\n<style scoped>\n    .dataframe tbody tr th:only-of-type {\n        vertical-align: middle;\n    }\n\n    .dataframe tbody tr th {\n        vertical-align: top;\n    }\n\n    .dataframe thead th {\n        text-align: right;\n    }\n</style>\n<table border=\"1\" class=\"dataframe\">\n  <thead>\n    <tr style=\"text-align: right;\">\n      <th></th>\n      <th>GlucoseLevel</th>\n      <th>quarter</th>\n      <th>Regular insulin dose</th>\n      <th>NPH insulin dose</th>\n      <th>UltraLente insulin dose</th>\n      <th>Unspecified blood glucose measurement</th>\n      <th>Pre-breakfast blood glucose measurement</th>\n      <th>Post-breakfast blood glucose measurement</th>\n      <th>Pre-lunch blood glucose measurement</th>\n      <th>Post-lunch blood glucose measurement</th>\n      <th>...</th>\n      <th>Time_22:04:00</th>\n      <th>Time_22:05:00</th>\n      <th>Time_23:15:00</th>\n      <th>Time_23:22:00</th>\n      <th>Time_23:23:00</th>\n      <th>Time_23:24:00</th>\n      <th>time_of_day_Afternoon</th>\n      <th>time_of_day_Evening</th>\n      <th>time_of_day_Morning</th>\n      <th>time_of_day_Night</th>\n    </tr>\n  </thead>\n  <tbody>\n    <tr>\n      <th>0</th>\n      <td>5</td>\n      <td>2</td>\n      <td>1</td>\n      <td>0</td>\n      <td>0</td>\n      <td>0</td>\n      <td>0</td>\n      <td>0</td>\n      <td>0</td>\n      <td>0</td>\n      <td>...</td>\n      <td>0</td>\n      <td>0</td>\n      <td>0</td>\n      <td>0</td>\n      <td>0</td>\n      <td>0</td>\n      <td>1</td>\n      <td>0</td>\n      <td>0</td>\n      <td>0</td>\n    </tr>\n    <tr>\n      <th>1</th>\n      <td>41</td>\n      <td>3</td>\n      <td>0</td>\n      <td>0</td>\n      <td>0</td>\n      <td>0</td>\n      <td>0</td>\n      <td>0</td>\n      <td>0</td>\n      <td>0</td>\n      <td>...</td>\n      <td>0</td>\n      <td>0</td>\n      <td>0</td>\n      <td>0</td>\n      <td>0</td>\n      <td>0</td>\n      <td>0</td>\n      <td>1</td>\n      <td>0</td>\n      <td>0</td>\n    </tr>\n    <tr>\n      <th>2</th>\n      <td>6</td>\n      <td>3</td>\n      <td>1</td>\n      <td>0</td>\n      <td>0</td>\n      <td>0</td>\n      <td>0</td>\n      <td>0</td>\n      <td>0</td>\n      <td>0</td>\n      <td>...</td>\n      <td>0</td>\n      <td>0</td>\n      <td>0</td>\n      <td>0</td>\n      <td>0</td>\n      <td>0</td>\n      <td>0</td>\n      <td>1</td>\n      <td>0</td>\n      <td>0</td>\n    </tr>\n    <tr>\n      <th>3</th>\n      <td>3</td>\n      <td>3</td>\n      <td>0</td>\n      <td>0</td>\n      <td>1</td>\n      <td>0</td>\n      <td>0</td>\n      <td>0</td>\n      <td>0</td>\n      <td>0</td>\n      <td>...</td>\n      <td>0</td>\n      <td>0</td>\n      <td>0</td>\n      <td>0</td>\n      <td>0</td>\n      <td>0</td>\n      <td>0</td>\n      <td>1</td>\n      <td>0</td>\n      <td>0</td>\n    </tr>\n    <tr>\n      <th>4</th>\n      <td>119</td>\n      <td>4</td>\n      <td>0</td>\n      <td>0</td>\n      <td>0</td>\n      <td>0</td>\n      <td>0</td>\n      <td>0</td>\n      <td>0</td>\n      <td>0</td>\n      <td>...</td>\n      <td>0</td>\n      <td>0</td>\n      <td>0</td>\n      <td>0</td>\n      <td>0</td>\n      <td>0</td>\n      <td>0</td>\n      <td>0</td>\n      <td>0</td>\n      <td>1</td>\n    </tr>\n    <tr>\n      <th>...</th>\n      <td>...</td>\n      <td>...</td>\n      <td>...</td>\n      <td>...</td>\n      <td>...</td>\n      <td>...</td>\n      <td>...</td>\n      <td>...</td>\n      <td>...</td>\n      <td>...</td>\n      <td>...</td>\n      <td>...</td>\n      <td>...</td>\n      <td>...</td>\n      <td>...</td>\n      <td>...</td>\n      <td>...</td>\n      <td>...</td>\n      <td>...</td>\n      <td>...</td>\n      <td>...</td>\n    </tr>\n    <tr>\n      <th>295</th>\n      <td>275</td>\n      <td>1</td>\n      <td>0</td>\n      <td>0</td>\n      <td>0</td>\n      <td>0</td>\n      <td>1</td>\n      <td>0</td>\n      <td>0</td>\n      <td>0</td>\n      <td>...</td>\n      <td>0</td>\n      <td>0</td>\n      <td>0</td>\n      <td>0</td>\n      <td>0</td>\n      <td>0</td>\n      <td>0</td>\n      <td>0</td>\n      <td>1</td>\n      <td>0</td>\n    </tr>\n    <tr>\n      <th>296</th>\n      <td>7</td>\n      <td>1</td>\n      <td>1</td>\n      <td>0</td>\n      <td>0</td>\n      <td>0</td>\n      <td>0</td>\n      <td>0</td>\n      <td>0</td>\n      <td>0</td>\n      <td>...</td>\n      <td>0</td>\n      <td>0</td>\n      <td>0</td>\n      <td>0</td>\n      <td>0</td>\n      <td>0</td>\n      <td>0</td>\n      <td>0</td>\n      <td>1</td>\n      <td>0</td>\n    </tr>\n    <tr>\n      <th>297</th>\n      <td>10</td>\n      <td>1</td>\n      <td>0</td>\n      <td>0</td>\n      <td>1</td>\n      <td>0</td>\n      <td>0</td>\n      <td>0</td>\n      <td>0</td>\n      <td>0</td>\n      <td>...</td>\n      <td>0</td>\n      <td>0</td>\n      <td>0</td>\n      <td>0</td>\n      <td>0</td>\n      <td>0</td>\n      <td>0</td>\n      <td>0</td>\n      <td>1</td>\n      <td>0</td>\n    </tr>\n    <tr>\n      <th>298</th>\n      <td>191</td>\n      <td>1</td>\n      <td>0</td>\n      <td>0</td>\n      <td>0</td>\n      <td>0</td>\n      <td>0</td>\n      <td>0</td>\n      <td>1</td>\n      <td>0</td>\n      <td>...</td>\n      <td>0</td>\n      <td>0</td>\n      <td>0</td>\n      <td>0</td>\n      <td>0</td>\n      <td>0</td>\n      <td>0</td>\n      <td>0</td>\n      <td>1</td>\n      <td>0</td>\n    </tr>\n    <tr>\n      <th>299</th>\n      <td>5</td>\n      <td>1</td>\n      <td>1</td>\n      <td>0</td>\n      <td>0</td>\n      <td>0</td>\n      <td>0</td>\n      <td>0</td>\n      <td>0</td>\n      <td>0</td>\n      <td>...</td>\n      <td>0</td>\n      <td>0</td>\n      <td>0</td>\n      <td>0</td>\n      <td>0</td>\n      <td>0</td>\n      <td>0</td>\n      <td>0</td>\n      <td>1</td>\n      <td>0</td>\n    </tr>\n  </tbody>\n</table>\n<p>300 rows × 209 columns</p>\n</div>"
     },
     "execution_count": 104,
     "metadata": {},
     "output_type": "execute_result"
    }
   ],
   "source": [
    "df = pd.read_csv('Features.csv', index_col=False)\n",
    "df = df.iloc[: , 1:]\n",
    "df = df.iloc[: , 1:]\n",
    "del df['Day']\n",
    "del df['Month']\n",
    "del df['Year']\n",
    "del df['week_day']\n",
    "del df['Code']\n",
    "data = pd.get_dummies(df)\n",
    "data"
   ],
   "metadata": {
    "collapsed": false
   }
  },
  {
   "cell_type": "code",
   "execution_count": 134,
   "outputs": [
    {
     "name": "stdout",
     "output_type": "stream",
     "text": [
      "Accuracy: 0.55\n",
      "CPU times: user 53.9 ms, sys: 3.73 ms, total: 57.6 ms\n",
      "Wall time: 57 ms\n"
     ]
    }
   ],
   "source": [
    "%%time\n",
    "from sklearn.svm import SVC\n",
    "from sklearn.model_selection import train_test_split\n",
    "\n",
    "# target = 'GlucoseLevel'\n",
    "\n",
    "target = data['GlucoseLevel']\n",
    "predictors = data.drop('GlucoseLevel', axis=1)\n",
    "# Split the data into training and testing sets\n",
    "X_train, X_test, y_train, y_test = train_test_split(predictors, target, test_size=0.2)\n",
    "\n",
    "# Create an SVM model and fit it to the training data\n",
    "svm = SVC(kernel='linear')\n",
    "svm.fit(X_train, y_train)\n",
    "\n",
    "# Use the model to make predictions on the testing data\n",
    "y_pred = svm.predict(X_test)\n",
    "\n",
    "# Evaluate the performance of the model\n",
    "from sklearn.metrics import accuracy_score\n",
    "accuracy = accuracy_score(y_test, y_pred)\n",
    "print(\"Accuracy:\", accuracy)"
   ],
   "metadata": {
    "collapsed": false
   }
  },
  {
   "cell_type": "code",
   "execution_count": 131,
   "outputs": [
    {
     "data": {
      "text/plain": "     GlucoseLevel  quarter  Regular insulin dose  NPH insulin dose  \\\n0               5        2                     1                 0   \n1              41        3                     0                 0   \n2               6        3                     1                 0   \n3               3        3                     0                 0   \n4             119        4                     0                 0   \n..            ...      ...                   ...               ...   \n295           275        1                     0                 0   \n296             7        1                     1                 0   \n297            10        1                     0                 0   \n298           191        1                     0                 0   \n299             5        1                     1                 0   \n\n     UltraLente insulin dose  Unspecified blood glucose measurement  \\\n0                          0                                      0   \n1                          0                                      0   \n2                          0                                      0   \n3                          1                                      0   \n4                          0                                      0   \n..                       ...                                    ...   \n295                        0                                      0   \n296                        0                                      0   \n297                        1                                      0   \n298                        0                                      0   \n299                        0                                      0   \n\n     Pre-breakfast blood glucose measurement  \\\n0                                          0   \n1                                          0   \n2                                          0   \n3                                          0   \n4                                          0   \n..                                       ...   \n295                                        1   \n296                                        0   \n297                                        0   \n298                                        0   \n299                                        0   \n\n     Post-breakfast blood glucose measurement  \\\n0                                           0   \n1                                           0   \n2                                           0   \n3                                           0   \n4                                           0   \n..                                        ...   \n295                                         0   \n296                                         0   \n297                                         0   \n298                                         0   \n299                                         0   \n\n     Pre-lunch blood glucose measurement  \\\n0                                      0   \n1                                      0   \n2                                      0   \n3                                      0   \n4                                      0   \n..                                   ...   \n295                                    0   \n296                                    0   \n297                                    0   \n298                                    1   \n299                                    0   \n\n     Post-lunch blood glucose measurement  ...  Time_22:04:00  Time_22:05:00  \\\n0                                       0  ...              0              0   \n1                                       0  ...              0              0   \n2                                       0  ...              0              0   \n3                                       0  ...              0              0   \n4                                       0  ...              0              0   \n..                                    ...  ...            ...            ...   \n295                                     0  ...              0              0   \n296                                     0  ...              0              0   \n297                                     0  ...              0              0   \n298                                     0  ...              0              0   \n299                                     0  ...              0              0   \n\n     Time_23:15:00  Time_23:22:00  Time_23:23:00  Time_23:24:00  \\\n0                0              0              0              0   \n1                0              0              0              0   \n2                0              0              0              0   \n3                0              0              0              0   \n4                0              0              0              0   \n..             ...            ...            ...            ...   \n295              0              0              0              0   \n296              0              0              0              0   \n297              0              0              0              0   \n298              0              0              0              0   \n299              0              0              0              0   \n\n     time_of_day_Afternoon  time_of_day_Evening  time_of_day_Morning  \\\n0                        1                    0                    0   \n1                        0                    1                    0   \n2                        0                    1                    0   \n3                        0                    1                    0   \n4                        0                    0                    0   \n..                     ...                  ...                  ...   \n295                      0                    0                    1   \n296                      0                    0                    1   \n297                      0                    0                    1   \n298                      0                    0                    1   \n299                      0                    0                    1   \n\n     time_of_day_Night  \n0                    0  \n1                    0  \n2                    0  \n3                    0  \n4                    1  \n..                 ...  \n295                  0  \n296                  0  \n297                  0  \n298                  0  \n299                  0  \n\n[300 rows x 209 columns]",
      "text/html": "<div>\n<style scoped>\n    .dataframe tbody tr th:only-of-type {\n        vertical-align: middle;\n    }\n\n    .dataframe tbody tr th {\n        vertical-align: top;\n    }\n\n    .dataframe thead th {\n        text-align: right;\n    }\n</style>\n<table border=\"1\" class=\"dataframe\">\n  <thead>\n    <tr style=\"text-align: right;\">\n      <th></th>\n      <th>GlucoseLevel</th>\n      <th>quarter</th>\n      <th>Regular insulin dose</th>\n      <th>NPH insulin dose</th>\n      <th>UltraLente insulin dose</th>\n      <th>Unspecified blood glucose measurement</th>\n      <th>Pre-breakfast blood glucose measurement</th>\n      <th>Post-breakfast blood glucose measurement</th>\n      <th>Pre-lunch blood glucose measurement</th>\n      <th>Post-lunch blood glucose measurement</th>\n      <th>...</th>\n      <th>Time_22:04:00</th>\n      <th>Time_22:05:00</th>\n      <th>Time_23:15:00</th>\n      <th>Time_23:22:00</th>\n      <th>Time_23:23:00</th>\n      <th>Time_23:24:00</th>\n      <th>time_of_day_Afternoon</th>\n      <th>time_of_day_Evening</th>\n      <th>time_of_day_Morning</th>\n      <th>time_of_day_Night</th>\n    </tr>\n  </thead>\n  <tbody>\n    <tr>\n      <th>0</th>\n      <td>5</td>\n      <td>2</td>\n      <td>1</td>\n      <td>0</td>\n      <td>0</td>\n      <td>0</td>\n      <td>0</td>\n      <td>0</td>\n      <td>0</td>\n      <td>0</td>\n      <td>...</td>\n      <td>0</td>\n      <td>0</td>\n      <td>0</td>\n      <td>0</td>\n      <td>0</td>\n      <td>0</td>\n      <td>1</td>\n      <td>0</td>\n      <td>0</td>\n      <td>0</td>\n    </tr>\n    <tr>\n      <th>1</th>\n      <td>41</td>\n      <td>3</td>\n      <td>0</td>\n      <td>0</td>\n      <td>0</td>\n      <td>0</td>\n      <td>0</td>\n      <td>0</td>\n      <td>0</td>\n      <td>0</td>\n      <td>...</td>\n      <td>0</td>\n      <td>0</td>\n      <td>0</td>\n      <td>0</td>\n      <td>0</td>\n      <td>0</td>\n      <td>0</td>\n      <td>1</td>\n      <td>0</td>\n      <td>0</td>\n    </tr>\n    <tr>\n      <th>2</th>\n      <td>6</td>\n      <td>3</td>\n      <td>1</td>\n      <td>0</td>\n      <td>0</td>\n      <td>0</td>\n      <td>0</td>\n      <td>0</td>\n      <td>0</td>\n      <td>0</td>\n      <td>...</td>\n      <td>0</td>\n      <td>0</td>\n      <td>0</td>\n      <td>0</td>\n      <td>0</td>\n      <td>0</td>\n      <td>0</td>\n      <td>1</td>\n      <td>0</td>\n      <td>0</td>\n    </tr>\n    <tr>\n      <th>3</th>\n      <td>3</td>\n      <td>3</td>\n      <td>0</td>\n      <td>0</td>\n      <td>1</td>\n      <td>0</td>\n      <td>0</td>\n      <td>0</td>\n      <td>0</td>\n      <td>0</td>\n      <td>...</td>\n      <td>0</td>\n      <td>0</td>\n      <td>0</td>\n      <td>0</td>\n      <td>0</td>\n      <td>0</td>\n      <td>0</td>\n      <td>1</td>\n      <td>0</td>\n      <td>0</td>\n    </tr>\n    <tr>\n      <th>4</th>\n      <td>119</td>\n      <td>4</td>\n      <td>0</td>\n      <td>0</td>\n      <td>0</td>\n      <td>0</td>\n      <td>0</td>\n      <td>0</td>\n      <td>0</td>\n      <td>0</td>\n      <td>...</td>\n      <td>0</td>\n      <td>0</td>\n      <td>0</td>\n      <td>0</td>\n      <td>0</td>\n      <td>0</td>\n      <td>0</td>\n      <td>0</td>\n      <td>0</td>\n      <td>1</td>\n    </tr>\n    <tr>\n      <th>...</th>\n      <td>...</td>\n      <td>...</td>\n      <td>...</td>\n      <td>...</td>\n      <td>...</td>\n      <td>...</td>\n      <td>...</td>\n      <td>...</td>\n      <td>...</td>\n      <td>...</td>\n      <td>...</td>\n      <td>...</td>\n      <td>...</td>\n      <td>...</td>\n      <td>...</td>\n      <td>...</td>\n      <td>...</td>\n      <td>...</td>\n      <td>...</td>\n      <td>...</td>\n      <td>...</td>\n    </tr>\n    <tr>\n      <th>295</th>\n      <td>275</td>\n      <td>1</td>\n      <td>0</td>\n      <td>0</td>\n      <td>0</td>\n      <td>0</td>\n      <td>1</td>\n      <td>0</td>\n      <td>0</td>\n      <td>0</td>\n      <td>...</td>\n      <td>0</td>\n      <td>0</td>\n      <td>0</td>\n      <td>0</td>\n      <td>0</td>\n      <td>0</td>\n      <td>0</td>\n      <td>0</td>\n      <td>1</td>\n      <td>0</td>\n    </tr>\n    <tr>\n      <th>296</th>\n      <td>7</td>\n      <td>1</td>\n      <td>1</td>\n      <td>0</td>\n      <td>0</td>\n      <td>0</td>\n      <td>0</td>\n      <td>0</td>\n      <td>0</td>\n      <td>0</td>\n      <td>...</td>\n      <td>0</td>\n      <td>0</td>\n      <td>0</td>\n      <td>0</td>\n      <td>0</td>\n      <td>0</td>\n      <td>0</td>\n      <td>0</td>\n      <td>1</td>\n      <td>0</td>\n    </tr>\n    <tr>\n      <th>297</th>\n      <td>10</td>\n      <td>1</td>\n      <td>0</td>\n      <td>0</td>\n      <td>1</td>\n      <td>0</td>\n      <td>0</td>\n      <td>0</td>\n      <td>0</td>\n      <td>0</td>\n      <td>...</td>\n      <td>0</td>\n      <td>0</td>\n      <td>0</td>\n      <td>0</td>\n      <td>0</td>\n      <td>0</td>\n      <td>0</td>\n      <td>0</td>\n      <td>1</td>\n      <td>0</td>\n    </tr>\n    <tr>\n      <th>298</th>\n      <td>191</td>\n      <td>1</td>\n      <td>0</td>\n      <td>0</td>\n      <td>0</td>\n      <td>0</td>\n      <td>0</td>\n      <td>0</td>\n      <td>1</td>\n      <td>0</td>\n      <td>...</td>\n      <td>0</td>\n      <td>0</td>\n      <td>0</td>\n      <td>0</td>\n      <td>0</td>\n      <td>0</td>\n      <td>0</td>\n      <td>0</td>\n      <td>1</td>\n      <td>0</td>\n    </tr>\n    <tr>\n      <th>299</th>\n      <td>5</td>\n      <td>1</td>\n      <td>1</td>\n      <td>0</td>\n      <td>0</td>\n      <td>0</td>\n      <td>0</td>\n      <td>0</td>\n      <td>0</td>\n      <td>0</td>\n      <td>...</td>\n      <td>0</td>\n      <td>0</td>\n      <td>0</td>\n      <td>0</td>\n      <td>0</td>\n      <td>0</td>\n      <td>0</td>\n      <td>0</td>\n      <td>1</td>\n      <td>0</td>\n    </tr>\n  </tbody>\n</table>\n<p>300 rows × 209 columns</p>\n</div>"
     },
     "execution_count": 131,
     "metadata": {},
     "output_type": "execute_result"
    }
   ],
   "source": [
    "data"
   ],
   "metadata": {
    "collapsed": false
   }
  },
  {
   "cell_type": "code",
   "execution_count": 132,
   "outputs": [
    {
     "name": "stdout",
     "output_type": "stream",
     "text": [
      "Accuracy: 0.35\n"
     ]
    }
   ],
   "source": [
    "data1 = data\n",
    "X = data1.drop(\"GlucoseLevel\",axis=1).to_numpy()\n",
    "y = data1[\"GlucoseLevel\"].to_numpy()\n",
    "from sklearn.naive_bayes import GaussianNB\n",
    "from sklearn.model_selection import train_test_split\n",
    "nb_model = GaussianNB()\n",
    "X_train, X_test, y_train, y_test = train_test_split(X, y, test_size=0.2, random_state=60)\n",
    "nb_model.fit(X_train,y_train)\n",
    "\n",
    "y_pred = nb_model.predict(X_test)\n",
    "accuracy = accuracy_score(y_test, y_pred)\n",
    "print(\"Accuracy:\", accuracy)"
   ],
   "metadata": {
    "collapsed": false
   }
  },
  {
   "cell_type": "code",
   "execution_count": 128,
   "outputs": [
    {
     "name": "stdout",
     "output_type": "stream",
     "text": [
      "Accuracy: 0.4888888888888889\n"
     ]
    }
   ],
   "source": [
    "from sklearn.tree import DecisionTreeClassifier\n",
    "from sklearn.model_selection import train_test_split\n",
    "from sklearn.metrics import accuracy_score\n",
    "\n",
    "data1 = data\n",
    "X = data1.drop('GlucoseLevel', axis=1)\n",
    "y = data1['GlucoseLevel']\n",
    "\n",
    "##Golden value\n",
    "valra= 44\n",
    "\n",
    "# split dataset into training and testing sets\n",
    "X_train, X_test, y_train, y_test = train_test_split(X, y, test_size=0.3, random_state=valra)\n",
    "\n",
    "# create Decision Tree classifier object\n",
    "dtc = DecisionTreeClassifier(random_state=valra)\n",
    "\n",
    "# train the model using the training sets\n",
    "dtc.fit(X_train, y_train)\n",
    "\n",
    "# predict the response for test dataset\n",
    "y_pred = dtc.predict(X_test)\n",
    "\n",
    "\n",
    "# calculate accuracy score of the model\n",
    "accuracy = accuracy_score(y_test, y_pred)\n",
    "print(\"Accuracy:\", accuracy)"
   ],
   "metadata": {
    "collapsed": false
   }
  },
  {
   "cell_type": "code",
   "execution_count": 137,
   "outputs": [
    {
     "name": "stdout",
     "output_type": "stream",
     "text": [
      "Mean squared error: 2750.29\n",
      "R-squared: 0.55\n",
      "CPU times: user 4.66 s, sys: 9.16 s, total: 13.8 s\n",
      "Wall time: 2.01 s\n"
     ]
    }
   ],
   "source": [
    "%%time\n",
    "data1 = data\n",
    "from sklearn.neural_network import MLPRegressor\n",
    "from sklearn.model_selection import train_test_split\n",
    "from sklearn.metrics import mean_squared_error, r2_score\n",
    "# split dataset into features and target variable\n",
    "X = data1.drop('GlucoseLevel', axis=1)\n",
    "y = data1['GlucoseLevel']\n",
    "\n",
    "# split dataset into training and testing sets\n",
    "X_train, X_test, y_train, y_test = train_test_split(X, y, test_size=0.3, random_state=41)\n",
    "\n",
    "# create MLPRegressor object\n",
    "mlp = MLPRegressor(hidden_layer_sizes=(100,50), activation='relu', solver='adam', max_iter=1000, random_state=42)\n",
    "\n",
    "# train the model using the training sets\n",
    "mlp.fit(X_train, y_train)\n",
    "\n",
    "# make predictions using the testing set\n",
    "y_pred = mlp.predict(X_test)\n",
    "\n",
    "# calculate mean squared error and R-squared\n",
    "mse = mean_squared_error(y_test, y_pred)\n",
    "r2 = r2_score(y_test, y_pred)\n",
    "\n",
    "# print the results\n",
    "print('Mean squared error: {:.2f}'.format(mse))\n",
    "print('R-squared: {:.2f}'.format(r2))"
   ],
   "metadata": {
    "collapsed": false
   }
  },
  {
   "cell_type": "code",
   "execution_count": 142,
   "outputs": [
    {
     "name": "stdout",
     "output_type": "stream",
     "text": [
      "Mean squared error: 4014.07\n",
      "R-squared: 0.47\n",
      "CPU times: user 97 ms, sys: 0 ns, total: 97 ms\n",
      "Wall time: 95.6 ms\n"
     ]
    }
   ],
   "source": [
    "%%time\n",
    "from sklearn.ensemble import GradientBoostingRegressor\n",
    "from sklearn.model_selection import train_test_split\n",
    "from sklearn.metrics import mean_squared_error, r2_score\n",
    "\n",
    "# load dataset\n",
    "data1 = data\n",
    "\n",
    "# split dataset into features and target variable\n",
    "X = data.drop('GlucoseLevel', axis=1)\n",
    "y = data['GlucoseLevel']\n",
    "\n",
    "# split dataset into training and testing sets\n",
    "X_train, X_test, y_train, y_test = train_test_split(X, y, test_size=0.3, random_state=63)\n",
    "\n",
    "# create Gradient Boosting Regression object\n",
    "gbr = GradientBoostingRegressor(n_estimators=100, learning_rate=0.1, max_depth=1, random_state=63)\n",
    "\n",
    "# train the model using the training sets\n",
    "gbr.fit(X_train, y_train)\n",
    "\n",
    "# make predictions using the testing set\n",
    "y_pred = gbr.predict(X_test)\n",
    "\n",
    "# calculate mean squared error and R-squared\n",
    "mse = mean_squared_error(y_test, y_pred)\n",
    "r2 = r2_score(y_test, y_pred)\n",
    "\n",
    "# print the results\n",
    "print('Mean squared error: {:.2f}'.format(mse))\n",
    "print('R-squared: {:.2f}'.format(r2))\n"
   ],
   "metadata": {
    "collapsed": false
   }
  },
  {
   "cell_type": "code",
   "execution_count": 151,
   "outputs": [
    {
     "name": "stdout",
     "output_type": "stream",
     "text": [
      "Mean squared error: 8661.67\n",
      "R-squared: -0.27\n",
      "CPU times: user 21.6 ms, sys: 1.31 ms, total: 22.9 ms\n",
      "Wall time: 21.3 ms\n"
     ]
    }
   ],
   "source": [
    "%%time\n",
    "from sklearn.svm import SVR\n",
    "from sklearn.model_selection import train_test_split\n",
    "from sklearn.metrics import mean_squared_error, r2_score\n",
    "\n",
    "data1= data\n",
    "# split dataset into features and target variable\n",
    "X = data.drop('GlucoseLevel', axis=1)\n",
    "y = data['GlucoseLevel']\n",
    "\n",
    "# split dataset into training and testing sets\n",
    "X_train, X_test, y_train, y_test = train_test_split(X, y, test_size=0.3, random_state=56)\n",
    "\n",
    "# create SVR object with RBF kernel\n",
    "svr = SVR(kernel='rbf')\n",
    "\n",
    "# train the model using the training sets\n",
    "svr.fit(X_train, y_train)\n",
    "\n",
    "# make predictions using the testing set\n",
    "y_pred = svr.predict(X_test)\n",
    "\n",
    "# calculate mean squared error and R-squared\n",
    "mse = mean_squared_error(y_test, y_pred)\n",
    "r2 = r2_score(y_test, y_pred)\n",
    "\n",
    "# print the results\n",
    "print('Mean squared error: {:.2f}'.format(mse))\n",
    "print('R-squared: {:.2f}'.format(r2))\n"
   ],
   "metadata": {
    "collapsed": false
   }
  },
  {
   "cell_type": "code",
   "execution_count": null,
   "outputs": [],
   "source": [],
   "metadata": {
    "collapsed": false,
    "pycharm": {
     "is_executing": true
    }
   }
  },
  {
   "cell_type": "code",
   "execution_count": 145,
   "outputs": [],
   "source": [],
   "metadata": {
    "collapsed": false
   }
  }
 ],
 "metadata": {
  "kernelspec": {
   "display_name": "Python 3",
   "language": "python",
   "name": "python3"
  },
  "language_info": {
   "codemirror_mode": {
    "name": "ipython",
    "version": 2
   },
   "file_extension": ".py",
   "mimetype": "text/x-python",
   "name": "python",
   "nbconvert_exporter": "python",
   "pygments_lexer": "ipython2",
   "version": "2.7.6"
  }
 },
 "nbformat": 4,
 "nbformat_minor": 0
}
