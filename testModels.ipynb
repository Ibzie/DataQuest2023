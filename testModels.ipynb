{
 "cells": [
  {
   "cell_type": "code",
   "execution_count": 1,
   "metadata": {
    "collapsed": true
   },
   "outputs": [],
   "source": [
    "import pandas as pd\n",
    "import numpy as np"
   ]
  },
  {
   "cell_type": "code",
   "execution_count": 2,
   "outputs": [
    {
     "data": {
      "text/plain": "                                       Unnamed: 0        Date      Time  Code  \\\n0  dataquest-nascon23/Glucose-Data/Glucose-Data/1  1991-04-15  13:08:00    33   \n1  dataquest-nascon23/Glucose-Data/Glucose-Data/1  1991-04-15  17:17:00    62   \n2  dataquest-nascon23/Glucose-Data/Glucose-Data/1  1991-04-15  18:23:00    33   \n3  dataquest-nascon23/Glucose-Data/Glucose-Data/1  1991-04-15  18:24:00    35   \n4  dataquest-nascon23/Glucose-Data/Glucose-Data/1  1991-04-15  21:16:00    64   \n\n   GlucoseLevel     Day time_of_day  Year  Month  week_day  ...  \\\n0             5  Monday   Afternoon  1991      4         1  ...   \n1            41  Monday     Evening  1991      4         1  ...   \n2             6  Monday     Evening  1991      4         1  ...   \n3             3  Monday     Evening  1991      4         1  ...   \n4           119  Monday       Night  1991      4         1  ...   \n\n   Post-supper blood glucose measurement  Pre-snack blood glucose measurement  \\\n0                                      0                                    0   \n1                                      0                                    0   \n2                                      0                                    0   \n3                                      0                                    0   \n4                                      0                                    1   \n\n   Hypoglycemic symptoms  Typical meal ingestion  \\\n0                      0                       0   \n1                      0                       0   \n2                      0                       0   \n3                      0                       0   \n4                      0                       0   \n\n   More-than-usual meal ingestion  Less-than-usual meal ingestion  \\\n0                               0                               0   \n1                               0                               0   \n2                               0                               0   \n3                               0                               0   \n4                               0                               0   \n\n   Typical exercise activity  More-than-usual exercise activity  \\\n0                          0                                  0   \n1                          0                                  0   \n2                          0                                  0   \n3                          0                                  0   \n4                          0                                  0   \n\n   Less-than-usual exercise activity  Unspecified special event  \n0                                  0                          0  \n1                                  0                          0  \n2                                  0                          0  \n3                                  0                          0  \n4                                  0                          0  \n\n[5 rows x 30 columns]",
      "text/html": "<div>\n<style scoped>\n    .dataframe tbody tr th:only-of-type {\n        vertical-align: middle;\n    }\n\n    .dataframe tbody tr th {\n        vertical-align: top;\n    }\n\n    .dataframe thead th {\n        text-align: right;\n    }\n</style>\n<table border=\"1\" class=\"dataframe\">\n  <thead>\n    <tr style=\"text-align: right;\">\n      <th></th>\n      <th>Unnamed: 0</th>\n      <th>Date</th>\n      <th>Time</th>\n      <th>Code</th>\n      <th>GlucoseLevel</th>\n      <th>Day</th>\n      <th>time_of_day</th>\n      <th>Year</th>\n      <th>Month</th>\n      <th>week_day</th>\n      <th>...</th>\n      <th>Post-supper blood glucose measurement</th>\n      <th>Pre-snack blood glucose measurement</th>\n      <th>Hypoglycemic symptoms</th>\n      <th>Typical meal ingestion</th>\n      <th>More-than-usual meal ingestion</th>\n      <th>Less-than-usual meal ingestion</th>\n      <th>Typical exercise activity</th>\n      <th>More-than-usual exercise activity</th>\n      <th>Less-than-usual exercise activity</th>\n      <th>Unspecified special event</th>\n    </tr>\n  </thead>\n  <tbody>\n    <tr>\n      <th>0</th>\n      <td>dataquest-nascon23/Glucose-Data/Glucose-Data/1</td>\n      <td>1991-04-15</td>\n      <td>13:08:00</td>\n      <td>33</td>\n      <td>5</td>\n      <td>Monday</td>\n      <td>Afternoon</td>\n      <td>1991</td>\n      <td>4</td>\n      <td>1</td>\n      <td>...</td>\n      <td>0</td>\n      <td>0</td>\n      <td>0</td>\n      <td>0</td>\n      <td>0</td>\n      <td>0</td>\n      <td>0</td>\n      <td>0</td>\n      <td>0</td>\n      <td>0</td>\n    </tr>\n    <tr>\n      <th>1</th>\n      <td>dataquest-nascon23/Glucose-Data/Glucose-Data/1</td>\n      <td>1991-04-15</td>\n      <td>17:17:00</td>\n      <td>62</td>\n      <td>41</td>\n      <td>Monday</td>\n      <td>Evening</td>\n      <td>1991</td>\n      <td>4</td>\n      <td>1</td>\n      <td>...</td>\n      <td>0</td>\n      <td>0</td>\n      <td>0</td>\n      <td>0</td>\n      <td>0</td>\n      <td>0</td>\n      <td>0</td>\n      <td>0</td>\n      <td>0</td>\n      <td>0</td>\n    </tr>\n    <tr>\n      <th>2</th>\n      <td>dataquest-nascon23/Glucose-Data/Glucose-Data/1</td>\n      <td>1991-04-15</td>\n      <td>18:23:00</td>\n      <td>33</td>\n      <td>6</td>\n      <td>Monday</td>\n      <td>Evening</td>\n      <td>1991</td>\n      <td>4</td>\n      <td>1</td>\n      <td>...</td>\n      <td>0</td>\n      <td>0</td>\n      <td>0</td>\n      <td>0</td>\n      <td>0</td>\n      <td>0</td>\n      <td>0</td>\n      <td>0</td>\n      <td>0</td>\n      <td>0</td>\n    </tr>\n    <tr>\n      <th>3</th>\n      <td>dataquest-nascon23/Glucose-Data/Glucose-Data/1</td>\n      <td>1991-04-15</td>\n      <td>18:24:00</td>\n      <td>35</td>\n      <td>3</td>\n      <td>Monday</td>\n      <td>Evening</td>\n      <td>1991</td>\n      <td>4</td>\n      <td>1</td>\n      <td>...</td>\n      <td>0</td>\n      <td>0</td>\n      <td>0</td>\n      <td>0</td>\n      <td>0</td>\n      <td>0</td>\n      <td>0</td>\n      <td>0</td>\n      <td>0</td>\n      <td>0</td>\n    </tr>\n    <tr>\n      <th>4</th>\n      <td>dataquest-nascon23/Glucose-Data/Glucose-Data/1</td>\n      <td>1991-04-15</td>\n      <td>21:16:00</td>\n      <td>64</td>\n      <td>119</td>\n      <td>Monday</td>\n      <td>Night</td>\n      <td>1991</td>\n      <td>4</td>\n      <td>1</td>\n      <td>...</td>\n      <td>0</td>\n      <td>1</td>\n      <td>0</td>\n      <td>0</td>\n      <td>0</td>\n      <td>0</td>\n      <td>0</td>\n      <td>0</td>\n      <td>0</td>\n      <td>0</td>\n    </tr>\n  </tbody>\n</table>\n<p>5 rows × 30 columns</p>\n</div>"
     },
     "execution_count": 2,
     "metadata": {},
     "output_type": "execute_result"
    }
   ],
   "source": [
    "df = pd.read_csv(\"Features.csv\")\n",
    "df.head()"
   ],
   "metadata": {
    "collapsed": false
   }
  },
  {
   "cell_type": "code",
   "execution_count": null,
   "outputs": [],
   "source": [
    "%%time\n",
    "from sklearn.svm import SVC\n",
    "from sklearn.model_selection import train_test_split\n",
    "\n"
   ],
   "metadata": {
    "collapsed": false
   }
  }
 ],
 "metadata": {
  "kernelspec": {
   "display_name": "Python 3",
   "language": "python",
   "name": "python3"
  },
  "language_info": {
   "codemirror_mode": {
    "name": "ipython",
    "version": 2
   },
   "file_extension": ".py",
   "mimetype": "text/x-python",
   "name": "python",
   "nbconvert_exporter": "python",
   "pygments_lexer": "ipython2",
   "version": "2.7.6"
  }
 },
 "nbformat": 4,
 "nbformat_minor": 0
}
