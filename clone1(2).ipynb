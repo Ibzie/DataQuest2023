{
 "cells": [
  {
   "cell_type": "code",
   "execution_count": 31,
   "id": "dbc37d83",
   "metadata": {},
   "outputs": [],
   "source": [
    "import pandas as pd\n",
    "import numpy as np"
   ]
  },
  {
   "cell_type": "code",
   "execution_count": 32,
   "id": "f083d75b",
   "metadata": {},
   "outputs": [],
   "source": [
    "import pandas as pd\n",
    "file = 'dataquest-nascon23/Glucose-Data/Glucose-Data/1.txt'\n",
    "# Read the text file\n",
    "df = pd.read_csv(file, sep='\\t', header=None)\n",
    "\n",
    "# Rename the columns\n",
    "df.columns = ['Date', 'Time', 'Code', 'Glucose_Level']\n"
   ]
  },
  {
   "cell_type": "code",
   "execution_count": 33,
   "id": "4e453e9d",
   "metadata": {},
   "outputs": [],
   "source": [
    "import os\n",
    "import pandas as pd\n",
    "\n",
    "# Get the filename and use it as the patient name\n",
    "filename = file\n",
    "patient_name = os.path.splitext(filename)[0]\n",
    "\n",
    "# Read the text file\n",
    "df = pd.read_csv(filename, sep='\\t', header=None)\n",
    "\n",
    "# Rename the columns and add the patient name and ID columns\n",
    "df.columns = ['Date', 'Time', 'Code', 'GlucoseLevel']\n",
    "df.insert(0, 'PatientID', patient_name)\n",
    "#df.set_index('PatientID', inplace=True)\n",
    "# Remove the default index\n",
    "#df.index.name = None"
   ]
  },
  {
   "cell_type": "code",
   "execution_count": 34,
   "id": "9cc1e153",
   "metadata": {},
   "outputs": [
    {
     "data": {
      "text/plain": "                                        PatientID        Date   Time  Code  \\\n0  dataquest-nascon23/Glucose-Data/Glucose-Data/1  04-15-1991  13:08    33   \n1  dataquest-nascon23/Glucose-Data/Glucose-Data/1  04-15-1991  17:17    62   \n2  dataquest-nascon23/Glucose-Data/Glucose-Data/1  04-15-1991  18:23    33   \n3  dataquest-nascon23/Glucose-Data/Glucose-Data/1  04-15-1991  18:24    35   \n4  dataquest-nascon23/Glucose-Data/Glucose-Data/1  04-15-1991  21:16    64   \n\n   GlucoseLevel  \n0             5  \n1            41  \n2             6  \n3             3  \n4           119  ",
      "text/html": "<div>\n<style scoped>\n    .dataframe tbody tr th:only-of-type {\n        vertical-align: middle;\n    }\n\n    .dataframe tbody tr th {\n        vertical-align: top;\n    }\n\n    .dataframe thead th {\n        text-align: right;\n    }\n</style>\n<table border=\"1\" class=\"dataframe\">\n  <thead>\n    <tr style=\"text-align: right;\">\n      <th></th>\n      <th>PatientID</th>\n      <th>Date</th>\n      <th>Time</th>\n      <th>Code</th>\n      <th>GlucoseLevel</th>\n    </tr>\n  </thead>\n  <tbody>\n    <tr>\n      <th>0</th>\n      <td>dataquest-nascon23/Glucose-Data/Glucose-Data/1</td>\n      <td>04-15-1991</td>\n      <td>13:08</td>\n      <td>33</td>\n      <td>5</td>\n    </tr>\n    <tr>\n      <th>1</th>\n      <td>dataquest-nascon23/Glucose-Data/Glucose-Data/1</td>\n      <td>04-15-1991</td>\n      <td>17:17</td>\n      <td>62</td>\n      <td>41</td>\n    </tr>\n    <tr>\n      <th>2</th>\n      <td>dataquest-nascon23/Glucose-Data/Glucose-Data/1</td>\n      <td>04-15-1991</td>\n      <td>18:23</td>\n      <td>33</td>\n      <td>6</td>\n    </tr>\n    <tr>\n      <th>3</th>\n      <td>dataquest-nascon23/Glucose-Data/Glucose-Data/1</td>\n      <td>04-15-1991</td>\n      <td>18:24</td>\n      <td>35</td>\n      <td>3</td>\n    </tr>\n    <tr>\n      <th>4</th>\n      <td>dataquest-nascon23/Glucose-Data/Glucose-Data/1</td>\n      <td>04-15-1991</td>\n      <td>21:16</td>\n      <td>64</td>\n      <td>119</td>\n    </tr>\n  </tbody>\n</table>\n</div>"
     },
     "execution_count": 34,
     "metadata": {},
     "output_type": "execute_result"
    }
   ],
   "source": [
    "df.head()"
   ]
  },
  {
   "cell_type": "code",
   "execution_count": 35,
   "id": "417e2f16",
   "metadata": {},
   "outputs": [],
   "source": [
    "#day column containing day\n",
    "# Extract the day from the date and create a new column\n",
    "df['Date'] = pd.to_datetime(df['Date'])\n",
    "df['Day'] = df['Date'].dt.strftime('%A')"
   ]
  },
  {
   "cell_type": "code",
   "execution_count": 36,
   "id": "1e7c2d0b",
   "metadata": {
    "scrolled": false
   },
   "outputs": [
    {
     "data": {
      "text/plain": "                                          PatientID       Date   Time  Code  \\\n295  dataquest-nascon23/Glucose-Data/Glucose-Data/1 1991-05-14  05:53    58   \n296  dataquest-nascon23/Glucose-Data/Glucose-Data/1 1991-05-14  05:55    33   \n297  dataquest-nascon23/Glucose-Data/Glucose-Data/1 1991-05-14  05:55    35   \n298  dataquest-nascon23/Glucose-Data/Glucose-Data/1 1991-05-15  11:50    60   \n299  dataquest-nascon23/Glucose-Data/Glucose-Data/1 1991-05-15  11:52    33   \n\n     GlucoseLevel        Day  \n295           275    Tuesday  \n296             7    Tuesday  \n297            10    Tuesday  \n298           191  Wednesday  \n299             5  Wednesday  ",
      "text/html": "<div>\n<style scoped>\n    .dataframe tbody tr th:only-of-type {\n        vertical-align: middle;\n    }\n\n    .dataframe tbody tr th {\n        vertical-align: top;\n    }\n\n    .dataframe thead th {\n        text-align: right;\n    }\n</style>\n<table border=\"1\" class=\"dataframe\">\n  <thead>\n    <tr style=\"text-align: right;\">\n      <th></th>\n      <th>PatientID</th>\n      <th>Date</th>\n      <th>Time</th>\n      <th>Code</th>\n      <th>GlucoseLevel</th>\n      <th>Day</th>\n    </tr>\n  </thead>\n  <tbody>\n    <tr>\n      <th>295</th>\n      <td>dataquest-nascon23/Glucose-Data/Glucose-Data/1</td>\n      <td>1991-05-14</td>\n      <td>05:53</td>\n      <td>58</td>\n      <td>275</td>\n      <td>Tuesday</td>\n    </tr>\n    <tr>\n      <th>296</th>\n      <td>dataquest-nascon23/Glucose-Data/Glucose-Data/1</td>\n      <td>1991-05-14</td>\n      <td>05:55</td>\n      <td>33</td>\n      <td>7</td>\n      <td>Tuesday</td>\n    </tr>\n    <tr>\n      <th>297</th>\n      <td>dataquest-nascon23/Glucose-Data/Glucose-Data/1</td>\n      <td>1991-05-14</td>\n      <td>05:55</td>\n      <td>35</td>\n      <td>10</td>\n      <td>Tuesday</td>\n    </tr>\n    <tr>\n      <th>298</th>\n      <td>dataquest-nascon23/Glucose-Data/Glucose-Data/1</td>\n      <td>1991-05-15</td>\n      <td>11:50</td>\n      <td>60</td>\n      <td>191</td>\n      <td>Wednesday</td>\n    </tr>\n    <tr>\n      <th>299</th>\n      <td>dataquest-nascon23/Glucose-Data/Glucose-Data/1</td>\n      <td>1991-05-15</td>\n      <td>11:52</td>\n      <td>33</td>\n      <td>5</td>\n      <td>Wednesday</td>\n    </tr>\n  </tbody>\n</table>\n</div>"
     },
     "execution_count": 36,
     "metadata": {},
     "output_type": "execute_result"
    }
   ],
   "source": [
    "df.tail()"
   ]
  },
  {
   "cell_type": "code",
   "execution_count": 37,
   "id": "11481fc9",
   "metadata": {},
   "outputs": [],
   "source": [
    "# Convert the 'Time' column to a datetime data type\n",
    "df['Time'] = pd.to_datetime(df['Time'], errors='coerce')\n",
    "\n",
    "# Define a function to get the time of day\n",
    "def get_time_of_day(row):\n",
    "    hour = row['Time'].hour\n",
    "    if hour >= 3 and hour < 12:\n",
    "        return 'Morning'\n",
    "    elif hour >= 12 and hour < 16:\n",
    "        return 'Afternoon'\n",
    "    elif hour >= 16 and hour < 19:\n",
    "        return 'Evening'\n",
    "    else:\n",
    "        return 'Night' if hour >= 19 or hour < 3 else None\n",
    "\n",
    "# Create a new column 'time_of_day'\n",
    "df['time_of_day'] = df.apply(get_time_of_day, axis=1)\n",
    "df['Time'] = pd.to_datetime(df['Time'])\n",
    "df['Time'] = df['Time'].dt.time"
   ]
  },
  {
   "cell_type": "code",
   "execution_count": 38,
   "id": "5b745677",
   "metadata": {
    "scrolled": false
   },
   "outputs": [
    {
     "data": {
      "text/plain": "                                          PatientID       Date      Time  \\\n0    dataquest-nascon23/Glucose-Data/Glucose-Data/1 1991-04-15  13:08:00   \n1    dataquest-nascon23/Glucose-Data/Glucose-Data/1 1991-04-15  17:17:00   \n2    dataquest-nascon23/Glucose-Data/Glucose-Data/1 1991-04-15  18:23:00   \n3    dataquest-nascon23/Glucose-Data/Glucose-Data/1 1991-04-15  18:24:00   \n4    dataquest-nascon23/Glucose-Data/Glucose-Data/1 1991-04-15  21:16:00   \n..                                              ...        ...       ...   \n295  dataquest-nascon23/Glucose-Data/Glucose-Data/1 1991-05-14  05:53:00   \n296  dataquest-nascon23/Glucose-Data/Glucose-Data/1 1991-05-14  05:55:00   \n297  dataquest-nascon23/Glucose-Data/Glucose-Data/1 1991-05-14  05:55:00   \n298  dataquest-nascon23/Glucose-Data/Glucose-Data/1 1991-05-15  11:50:00   \n299  dataquest-nascon23/Glucose-Data/Glucose-Data/1 1991-05-15  11:52:00   \n\n     Code  GlucoseLevel        Day time_of_day  \n0      33             5     Monday   Afternoon  \n1      62            41     Monday     Evening  \n2      33             6     Monday     Evening  \n3      35             3     Monday     Evening  \n4      64           119     Monday       Night  \n..    ...           ...        ...         ...  \n295    58           275    Tuesday     Morning  \n296    33             7    Tuesday     Morning  \n297    35            10    Tuesday     Morning  \n298    60           191  Wednesday     Morning  \n299    33             5  Wednesday     Morning  \n\n[300 rows x 7 columns]",
      "text/html": "<div>\n<style scoped>\n    .dataframe tbody tr th:only-of-type {\n        vertical-align: middle;\n    }\n\n    .dataframe tbody tr th {\n        vertical-align: top;\n    }\n\n    .dataframe thead th {\n        text-align: right;\n    }\n</style>\n<table border=\"1\" class=\"dataframe\">\n  <thead>\n    <tr style=\"text-align: right;\">\n      <th></th>\n      <th>PatientID</th>\n      <th>Date</th>\n      <th>Time</th>\n      <th>Code</th>\n      <th>GlucoseLevel</th>\n      <th>Day</th>\n      <th>time_of_day</th>\n    </tr>\n  </thead>\n  <tbody>\n    <tr>\n      <th>0</th>\n      <td>dataquest-nascon23/Glucose-Data/Glucose-Data/1</td>\n      <td>1991-04-15</td>\n      <td>13:08:00</td>\n      <td>33</td>\n      <td>5</td>\n      <td>Monday</td>\n      <td>Afternoon</td>\n    </tr>\n    <tr>\n      <th>1</th>\n      <td>dataquest-nascon23/Glucose-Data/Glucose-Data/1</td>\n      <td>1991-04-15</td>\n      <td>17:17:00</td>\n      <td>62</td>\n      <td>41</td>\n      <td>Monday</td>\n      <td>Evening</td>\n    </tr>\n    <tr>\n      <th>2</th>\n      <td>dataquest-nascon23/Glucose-Data/Glucose-Data/1</td>\n      <td>1991-04-15</td>\n      <td>18:23:00</td>\n      <td>33</td>\n      <td>6</td>\n      <td>Monday</td>\n      <td>Evening</td>\n    </tr>\n    <tr>\n      <th>3</th>\n      <td>dataquest-nascon23/Glucose-Data/Glucose-Data/1</td>\n      <td>1991-04-15</td>\n      <td>18:24:00</td>\n      <td>35</td>\n      <td>3</td>\n      <td>Monday</td>\n      <td>Evening</td>\n    </tr>\n    <tr>\n      <th>4</th>\n      <td>dataquest-nascon23/Glucose-Data/Glucose-Data/1</td>\n      <td>1991-04-15</td>\n      <td>21:16:00</td>\n      <td>64</td>\n      <td>119</td>\n      <td>Monday</td>\n      <td>Night</td>\n    </tr>\n    <tr>\n      <th>...</th>\n      <td>...</td>\n      <td>...</td>\n      <td>...</td>\n      <td>...</td>\n      <td>...</td>\n      <td>...</td>\n      <td>...</td>\n    </tr>\n    <tr>\n      <th>295</th>\n      <td>dataquest-nascon23/Glucose-Data/Glucose-Data/1</td>\n      <td>1991-05-14</td>\n      <td>05:53:00</td>\n      <td>58</td>\n      <td>275</td>\n      <td>Tuesday</td>\n      <td>Morning</td>\n    </tr>\n    <tr>\n      <th>296</th>\n      <td>dataquest-nascon23/Glucose-Data/Glucose-Data/1</td>\n      <td>1991-05-14</td>\n      <td>05:55:00</td>\n      <td>33</td>\n      <td>7</td>\n      <td>Tuesday</td>\n      <td>Morning</td>\n    </tr>\n    <tr>\n      <th>297</th>\n      <td>dataquest-nascon23/Glucose-Data/Glucose-Data/1</td>\n      <td>1991-05-14</td>\n      <td>05:55:00</td>\n      <td>35</td>\n      <td>10</td>\n      <td>Tuesday</td>\n      <td>Morning</td>\n    </tr>\n    <tr>\n      <th>298</th>\n      <td>dataquest-nascon23/Glucose-Data/Glucose-Data/1</td>\n      <td>1991-05-15</td>\n      <td>11:50:00</td>\n      <td>60</td>\n      <td>191</td>\n      <td>Wednesday</td>\n      <td>Morning</td>\n    </tr>\n    <tr>\n      <th>299</th>\n      <td>dataquest-nascon23/Glucose-Data/Glucose-Data/1</td>\n      <td>1991-05-15</td>\n      <td>11:52:00</td>\n      <td>33</td>\n      <td>5</td>\n      <td>Wednesday</td>\n      <td>Morning</td>\n    </tr>\n  </tbody>\n</table>\n<p>300 rows × 7 columns</p>\n</div>"
     },
     "execution_count": 38,
     "metadata": {},
     "output_type": "execute_result"
    }
   ],
   "source": [
    "df"
   ]
  },
  {
   "cell_type": "code",
   "execution_count": 39,
   "id": "5a300a14",
   "metadata": {},
   "outputs": [],
   "source": [
    "#seperate column for year and month\n",
    "# Convert the 'Date' column to a datetime data type\n",
    "df['Date'] = pd.to_datetime(df['Date'])\n",
    "\n",
    "# Create new columns 'Year' and 'Month'\n",
    "df['Year'] = df['Date'].dt.year\n",
    "df['Month'] = df['Date'].dt.month\n"
   ]
  },
  {
   "cell_type": "code",
   "execution_count": 40,
   "id": "d90b50f4",
   "metadata": {
    "scrolled": false
   },
   "outputs": [
    {
     "data": {
      "text/plain": "                                        PatientID       Date      Time  Code  \\\n0  dataquest-nascon23/Glucose-Data/Glucose-Data/1 1991-04-15  13:08:00    33   \n1  dataquest-nascon23/Glucose-Data/Glucose-Data/1 1991-04-15  17:17:00    62   \n2  dataquest-nascon23/Glucose-Data/Glucose-Data/1 1991-04-15  18:23:00    33   \n3  dataquest-nascon23/Glucose-Data/Glucose-Data/1 1991-04-15  18:24:00    35   \n4  dataquest-nascon23/Glucose-Data/Glucose-Data/1 1991-04-15  21:16:00    64   \n\n   GlucoseLevel     Day time_of_day  Year  Month  \n0             5  Monday   Afternoon  1991      4  \n1            41  Monday     Evening  1991      4  \n2             6  Monday     Evening  1991      4  \n3             3  Monday     Evening  1991      4  \n4           119  Monday       Night  1991      4  ",
      "text/html": "<div>\n<style scoped>\n    .dataframe tbody tr th:only-of-type {\n        vertical-align: middle;\n    }\n\n    .dataframe tbody tr th {\n        vertical-align: top;\n    }\n\n    .dataframe thead th {\n        text-align: right;\n    }\n</style>\n<table border=\"1\" class=\"dataframe\">\n  <thead>\n    <tr style=\"text-align: right;\">\n      <th></th>\n      <th>PatientID</th>\n      <th>Date</th>\n      <th>Time</th>\n      <th>Code</th>\n      <th>GlucoseLevel</th>\n      <th>Day</th>\n      <th>time_of_day</th>\n      <th>Year</th>\n      <th>Month</th>\n    </tr>\n  </thead>\n  <tbody>\n    <tr>\n      <th>0</th>\n      <td>dataquest-nascon23/Glucose-Data/Glucose-Data/1</td>\n      <td>1991-04-15</td>\n      <td>13:08:00</td>\n      <td>33</td>\n      <td>5</td>\n      <td>Monday</td>\n      <td>Afternoon</td>\n      <td>1991</td>\n      <td>4</td>\n    </tr>\n    <tr>\n      <th>1</th>\n      <td>dataquest-nascon23/Glucose-Data/Glucose-Data/1</td>\n      <td>1991-04-15</td>\n      <td>17:17:00</td>\n      <td>62</td>\n      <td>41</td>\n      <td>Monday</td>\n      <td>Evening</td>\n      <td>1991</td>\n      <td>4</td>\n    </tr>\n    <tr>\n      <th>2</th>\n      <td>dataquest-nascon23/Glucose-Data/Glucose-Data/1</td>\n      <td>1991-04-15</td>\n      <td>18:23:00</td>\n      <td>33</td>\n      <td>6</td>\n      <td>Monday</td>\n      <td>Evening</td>\n      <td>1991</td>\n      <td>4</td>\n    </tr>\n    <tr>\n      <th>3</th>\n      <td>dataquest-nascon23/Glucose-Data/Glucose-Data/1</td>\n      <td>1991-04-15</td>\n      <td>18:24:00</td>\n      <td>35</td>\n      <td>3</td>\n      <td>Monday</td>\n      <td>Evening</td>\n      <td>1991</td>\n      <td>4</td>\n    </tr>\n    <tr>\n      <th>4</th>\n      <td>dataquest-nascon23/Glucose-Data/Glucose-Data/1</td>\n      <td>1991-04-15</td>\n      <td>21:16:00</td>\n      <td>64</td>\n      <td>119</td>\n      <td>Monday</td>\n      <td>Night</td>\n      <td>1991</td>\n      <td>4</td>\n    </tr>\n  </tbody>\n</table>\n</div>"
     },
     "execution_count": 40,
     "metadata": {},
     "output_type": "execute_result"
    }
   ],
   "source": [
    "df.head()"
   ]
  },
  {
   "cell_type": "code",
   "execution_count": 41,
   "id": "cdc02251",
   "metadata": {},
   "outputs": [],
   "source": [
    "#7 weak day\n",
    "df['week_day'] = (df['Day'] != 'Saturday') & (df['Day'] != 'Sunday')\n",
    "df['week_day'] = df['week_day'].astype(int)\n"
   ]
  },
  {
   "cell_type": "code",
   "execution_count": 42,
   "id": "9bb00eec",
   "metadata": {},
   "outputs": [],
   "source": [
    "#QUARTER OF DAY\n",
    "def get_quarter(row):\n",
    "    if row['time_of_day'] == 'Morning':\n",
    "        return 1\n",
    "    elif row['time_of_day'] == 'Afternoon':\n",
    "        return 2\n",
    "    elif row['time_of_day'] == 'Evening':\n",
    "        return 3\n",
    "    elif row['time_of_day'] == 'Night':\n",
    "        return 4\n",
    "    else:\n",
    "        return None\n",
    "\n",
    "df['quarter'] = df.apply(get_quarter, axis=1)\n"
   ]
  },
  {
   "cell_type": "code",
   "execution_count": 43,
   "id": "6b85b45a",
   "metadata": {
    "scrolled": true
   },
   "outputs": [
    {
     "data": {
      "text/plain": "                                        PatientID       Date      Time  Code  \\\n0  dataquest-nascon23/Glucose-Data/Glucose-Data/1 1991-04-15  13:08:00    33   \n1  dataquest-nascon23/Glucose-Data/Glucose-Data/1 1991-04-15  17:17:00    62   \n2  dataquest-nascon23/Glucose-Data/Glucose-Data/1 1991-04-15  18:23:00    33   \n3  dataquest-nascon23/Glucose-Data/Glucose-Data/1 1991-04-15  18:24:00    35   \n4  dataquest-nascon23/Glucose-Data/Glucose-Data/1 1991-04-15  21:16:00    64   \n\n   GlucoseLevel     Day time_of_day  Year  Month  week_day  quarter  \n0             5  Monday   Afternoon  1991      4         1        2  \n1            41  Monday     Evening  1991      4         1        3  \n2             6  Monday     Evening  1991      4         1        3  \n3             3  Monday     Evening  1991      4         1        3  \n4           119  Monday       Night  1991      4         1        4  ",
      "text/html": "<div>\n<style scoped>\n    .dataframe tbody tr th:only-of-type {\n        vertical-align: middle;\n    }\n\n    .dataframe tbody tr th {\n        vertical-align: top;\n    }\n\n    .dataframe thead th {\n        text-align: right;\n    }\n</style>\n<table border=\"1\" class=\"dataframe\">\n  <thead>\n    <tr style=\"text-align: right;\">\n      <th></th>\n      <th>PatientID</th>\n      <th>Date</th>\n      <th>Time</th>\n      <th>Code</th>\n      <th>GlucoseLevel</th>\n      <th>Day</th>\n      <th>time_of_day</th>\n      <th>Year</th>\n      <th>Month</th>\n      <th>week_day</th>\n      <th>quarter</th>\n    </tr>\n  </thead>\n  <tbody>\n    <tr>\n      <th>0</th>\n      <td>dataquest-nascon23/Glucose-Data/Glucose-Data/1</td>\n      <td>1991-04-15</td>\n      <td>13:08:00</td>\n      <td>33</td>\n      <td>5</td>\n      <td>Monday</td>\n      <td>Afternoon</td>\n      <td>1991</td>\n      <td>4</td>\n      <td>1</td>\n      <td>2</td>\n    </tr>\n    <tr>\n      <th>1</th>\n      <td>dataquest-nascon23/Glucose-Data/Glucose-Data/1</td>\n      <td>1991-04-15</td>\n      <td>17:17:00</td>\n      <td>62</td>\n      <td>41</td>\n      <td>Monday</td>\n      <td>Evening</td>\n      <td>1991</td>\n      <td>4</td>\n      <td>1</td>\n      <td>3</td>\n    </tr>\n    <tr>\n      <th>2</th>\n      <td>dataquest-nascon23/Glucose-Data/Glucose-Data/1</td>\n      <td>1991-04-15</td>\n      <td>18:23:00</td>\n      <td>33</td>\n      <td>6</td>\n      <td>Monday</td>\n      <td>Evening</td>\n      <td>1991</td>\n      <td>4</td>\n      <td>1</td>\n      <td>3</td>\n    </tr>\n    <tr>\n      <th>3</th>\n      <td>dataquest-nascon23/Glucose-Data/Glucose-Data/1</td>\n      <td>1991-04-15</td>\n      <td>18:24:00</td>\n      <td>35</td>\n      <td>3</td>\n      <td>Monday</td>\n      <td>Evening</td>\n      <td>1991</td>\n      <td>4</td>\n      <td>1</td>\n      <td>3</td>\n    </tr>\n    <tr>\n      <th>4</th>\n      <td>dataquest-nascon23/Glucose-Data/Glucose-Data/1</td>\n      <td>1991-04-15</td>\n      <td>21:16:00</td>\n      <td>64</td>\n      <td>119</td>\n      <td>Monday</td>\n      <td>Night</td>\n      <td>1991</td>\n      <td>4</td>\n      <td>1</td>\n      <td>4</td>\n    </tr>\n  </tbody>\n</table>\n</div>"
     },
     "execution_count": 43,
     "metadata": {},
     "output_type": "execute_result"
    }
   ],
   "source": [
    "df.head()"
   ]
  },
  {
   "cell_type": "code",
   "execution_count": 44,
   "id": "d83cd7ad",
   "metadata": {},
   "outputs": [
    {
     "data": {
      "text/plain": "                                        PatientID       Date      Time  Code  \\\n0  dataquest-nascon23/Glucose-Data/Glucose-Data/1 1991-04-15  13:08:00    33   \n1  dataquest-nascon23/Glucose-Data/Glucose-Data/1 1991-04-15  17:17:00    62   \n2  dataquest-nascon23/Glucose-Data/Glucose-Data/1 1991-04-15  18:23:00    33   \n3  dataquest-nascon23/Glucose-Data/Glucose-Data/1 1991-04-15  18:24:00    35   \n4  dataquest-nascon23/Glucose-Data/Glucose-Data/1 1991-04-15  21:16:00    64   \n\n   GlucoseLevel     Day time_of_day  Year  Month  week_day  quarter  \n0             5  Monday   Afternoon  1991      4         1        2  \n1            41  Monday     Evening  1991      4         1        3  \n2             6  Monday     Evening  1991      4         1        3  \n3             3  Monday     Evening  1991      4         1        3  \n4           119  Monday       Night  1991      4         1        4  ",
      "text/html": "<div>\n<style scoped>\n    .dataframe tbody tr th:only-of-type {\n        vertical-align: middle;\n    }\n\n    .dataframe tbody tr th {\n        vertical-align: top;\n    }\n\n    .dataframe thead th {\n        text-align: right;\n    }\n</style>\n<table border=\"1\" class=\"dataframe\">\n  <thead>\n    <tr style=\"text-align: right;\">\n      <th></th>\n      <th>PatientID</th>\n      <th>Date</th>\n      <th>Time</th>\n      <th>Code</th>\n      <th>GlucoseLevel</th>\n      <th>Day</th>\n      <th>time_of_day</th>\n      <th>Year</th>\n      <th>Month</th>\n      <th>week_day</th>\n      <th>quarter</th>\n    </tr>\n  </thead>\n  <tbody>\n    <tr>\n      <th>0</th>\n      <td>dataquest-nascon23/Glucose-Data/Glucose-Data/1</td>\n      <td>1991-04-15</td>\n      <td>13:08:00</td>\n      <td>33</td>\n      <td>5</td>\n      <td>Monday</td>\n      <td>Afternoon</td>\n      <td>1991</td>\n      <td>4</td>\n      <td>1</td>\n      <td>2</td>\n    </tr>\n    <tr>\n      <th>1</th>\n      <td>dataquest-nascon23/Glucose-Data/Glucose-Data/1</td>\n      <td>1991-04-15</td>\n      <td>17:17:00</td>\n      <td>62</td>\n      <td>41</td>\n      <td>Monday</td>\n      <td>Evening</td>\n      <td>1991</td>\n      <td>4</td>\n      <td>1</td>\n      <td>3</td>\n    </tr>\n    <tr>\n      <th>2</th>\n      <td>dataquest-nascon23/Glucose-Data/Glucose-Data/1</td>\n      <td>1991-04-15</td>\n      <td>18:23:00</td>\n      <td>33</td>\n      <td>6</td>\n      <td>Monday</td>\n      <td>Evening</td>\n      <td>1991</td>\n      <td>4</td>\n      <td>1</td>\n      <td>3</td>\n    </tr>\n    <tr>\n      <th>3</th>\n      <td>dataquest-nascon23/Glucose-Data/Glucose-Data/1</td>\n      <td>1991-04-15</td>\n      <td>18:24:00</td>\n      <td>35</td>\n      <td>3</td>\n      <td>Monday</td>\n      <td>Evening</td>\n      <td>1991</td>\n      <td>4</td>\n      <td>1</td>\n      <td>3</td>\n    </tr>\n    <tr>\n      <th>4</th>\n      <td>dataquest-nascon23/Glucose-Data/Glucose-Data/1</td>\n      <td>1991-04-15</td>\n      <td>21:16:00</td>\n      <td>64</td>\n      <td>119</td>\n      <td>Monday</td>\n      <td>Night</td>\n      <td>1991</td>\n      <td>4</td>\n      <td>1</td>\n      <td>4</td>\n    </tr>\n  </tbody>\n</table>\n</div>"
     },
     "execution_count": 44,
     "metadata": {},
     "output_type": "execute_result"
    }
   ],
   "source": [
    "df.head()"
   ]
  },
  {
   "cell_type": "code",
   "execution_count": 45,
   "id": "ecd6013d",
   "metadata": {},
   "outputs": [],
   "source": [
    "my_dict = {\n",
    "    33: \"Regular insulin dose\",\n",
    "    34: \"NPH insulin dose\",\n",
    "    35: \"UltraLente insulin dose\",\n",
    "    48: \"Unspecified blood glucose measurement\",\n",
    "    57: \"Unspecified blood glucose measurement\",\n",
    "    58: \"Pre-breakfast blood glucose measurement\",\n",
    "    59: \"Post-breakfast blood glucose measurement\",\n",
    "    60: \"Pre-lunch blood glucose measurement\",\n",
    "    61: \"Post-lunch blood glucose measurement\",\n",
    "    62: \"Pre-supper blood glucose measurement\",\n",
    "    63: \"Post-supper blood glucose measurement\",\n",
    "    64: \"Pre-snack blood glucose measurement\",\n",
    "    65: \"Hypoglycemic symptoms\",\n",
    "    66: \"Typical meal ingestion\",\n",
    "    67: \"More-than-usual meal ingestion\",\n",
    "    68: \"Less-than-usual meal ingestion\",\n",
    "    69: \"Typical exercise activity\",\n",
    "    70: \"More-than-usual exercise activity\",\n",
    "    71: \"Less-than-usual exercise activity\",\n",
    "    72: \"Unspecified special event\"\n",
    "}\n"
   ]
  },
  {
   "cell_type": "code",
   "execution_count": 46,
   "id": "58944906",
   "metadata": {},
   "outputs": [],
   "source": [
    "# Loop through the keys in the dictionary and assign 1 if the key is present in the code column, else 0\n",
    "for key in my_dict.keys():\n",
    "    df[my_dict[key]] = df['Code'].apply(lambda x: 1 if x == key else 0)\n"
   ]
  },
  {
   "cell_type": "code",
   "execution_count": 47,
   "id": "d6988f38",
   "metadata": {
    "scrolled": true
   },
   "outputs": [
    {
     "data": {
      "text/plain": "                                          PatientID       Date      Time  \\\n0    dataquest-nascon23/Glucose-Data/Glucose-Data/1 1991-04-15  13:08:00   \n1    dataquest-nascon23/Glucose-Data/Glucose-Data/1 1991-04-15  17:17:00   \n2    dataquest-nascon23/Glucose-Data/Glucose-Data/1 1991-04-15  18:23:00   \n3    dataquest-nascon23/Glucose-Data/Glucose-Data/1 1991-04-15  18:24:00   \n4    dataquest-nascon23/Glucose-Data/Glucose-Data/1 1991-04-15  21:16:00   \n..                                              ...        ...       ...   \n295  dataquest-nascon23/Glucose-Data/Glucose-Data/1 1991-05-14  05:53:00   \n296  dataquest-nascon23/Glucose-Data/Glucose-Data/1 1991-05-14  05:55:00   \n297  dataquest-nascon23/Glucose-Data/Glucose-Data/1 1991-05-14  05:55:00   \n298  dataquest-nascon23/Glucose-Data/Glucose-Data/1 1991-05-15  11:50:00   \n299  dataquest-nascon23/Glucose-Data/Glucose-Data/1 1991-05-15  11:52:00   \n\n     Code  GlucoseLevel        Day time_of_day  Year  Month  week_day  ...  \\\n0      33             5     Monday   Afternoon  1991      4         1  ...   \n1      62            41     Monday     Evening  1991      4         1  ...   \n2      33             6     Monday     Evening  1991      4         1  ...   \n3      35             3     Monday     Evening  1991      4         1  ...   \n4      64           119     Monday       Night  1991      4         1  ...   \n..    ...           ...        ...         ...   ...    ...       ...  ...   \n295    58           275    Tuesday     Morning  1991      5         1  ...   \n296    33             7    Tuesday     Morning  1991      5         1  ...   \n297    35            10    Tuesday     Morning  1991      5         1  ...   \n298    60           191  Wednesday     Morning  1991      5         1  ...   \n299    33             5  Wednesday     Morning  1991      5         1  ...   \n\n     Post-supper blood glucose measurement  \\\n0                                        0   \n1                                        0   \n2                                        0   \n3                                        0   \n4                                        0   \n..                                     ...   \n295                                      0   \n296                                      0   \n297                                      0   \n298                                      0   \n299                                      0   \n\n     Pre-snack blood glucose measurement  Hypoglycemic symptoms  \\\n0                                      0                      0   \n1                                      0                      0   \n2                                      0                      0   \n3                                      0                      0   \n4                                      1                      0   \n..                                   ...                    ...   \n295                                    0                      0   \n296                                    0                      0   \n297                                    0                      0   \n298                                    0                      0   \n299                                    0                      0   \n\n     Typical meal ingestion  More-than-usual meal ingestion  \\\n0                         0                               0   \n1                         0                               0   \n2                         0                               0   \n3                         0                               0   \n4                         0                               0   \n..                      ...                             ...   \n295                       0                               0   \n296                       0                               0   \n297                       0                               0   \n298                       0                               0   \n299                       0                               0   \n\n     Less-than-usual meal ingestion  Typical exercise activity  \\\n0                                 0                          0   \n1                                 0                          0   \n2                                 0                          0   \n3                                 0                          0   \n4                                 0                          0   \n..                              ...                        ...   \n295                               0                          0   \n296                               0                          0   \n297                               0                          0   \n298                               0                          0   \n299                               0                          0   \n\n     More-than-usual exercise activity  Less-than-usual exercise activity  \\\n0                                    0                                  0   \n1                                    0                                  0   \n2                                    0                                  0   \n3                                    0                                  0   \n4                                    0                                  0   \n..                                 ...                                ...   \n295                                  0                                  0   \n296                                  0                                  0   \n297                                  0                                  0   \n298                                  0                                  0   \n299                                  0                                  0   \n\n     Unspecified special event  \n0                            0  \n1                            0  \n2                            0  \n3                            0  \n4                            0  \n..                         ...  \n295                          0  \n296                          0  \n297                          0  \n298                          0  \n299                          0  \n\n[300 rows x 30 columns]",
      "text/html": "<div>\n<style scoped>\n    .dataframe tbody tr th:only-of-type {\n        vertical-align: middle;\n    }\n\n    .dataframe tbody tr th {\n        vertical-align: top;\n    }\n\n    .dataframe thead th {\n        text-align: right;\n    }\n</style>\n<table border=\"1\" class=\"dataframe\">\n  <thead>\n    <tr style=\"text-align: right;\">\n      <th></th>\n      <th>PatientID</th>\n      <th>Date</th>\n      <th>Time</th>\n      <th>Code</th>\n      <th>GlucoseLevel</th>\n      <th>Day</th>\n      <th>time_of_day</th>\n      <th>Year</th>\n      <th>Month</th>\n      <th>week_day</th>\n      <th>...</th>\n      <th>Post-supper blood glucose measurement</th>\n      <th>Pre-snack blood glucose measurement</th>\n      <th>Hypoglycemic symptoms</th>\n      <th>Typical meal ingestion</th>\n      <th>More-than-usual meal ingestion</th>\n      <th>Less-than-usual meal ingestion</th>\n      <th>Typical exercise activity</th>\n      <th>More-than-usual exercise activity</th>\n      <th>Less-than-usual exercise activity</th>\n      <th>Unspecified special event</th>\n    </tr>\n  </thead>\n  <tbody>\n    <tr>\n      <th>0</th>\n      <td>dataquest-nascon23/Glucose-Data/Glucose-Data/1</td>\n      <td>1991-04-15</td>\n      <td>13:08:00</td>\n      <td>33</td>\n      <td>5</td>\n      <td>Monday</td>\n      <td>Afternoon</td>\n      <td>1991</td>\n      <td>4</td>\n      <td>1</td>\n      <td>...</td>\n      <td>0</td>\n      <td>0</td>\n      <td>0</td>\n      <td>0</td>\n      <td>0</td>\n      <td>0</td>\n      <td>0</td>\n      <td>0</td>\n      <td>0</td>\n      <td>0</td>\n    </tr>\n    <tr>\n      <th>1</th>\n      <td>dataquest-nascon23/Glucose-Data/Glucose-Data/1</td>\n      <td>1991-04-15</td>\n      <td>17:17:00</td>\n      <td>62</td>\n      <td>41</td>\n      <td>Monday</td>\n      <td>Evening</td>\n      <td>1991</td>\n      <td>4</td>\n      <td>1</td>\n      <td>...</td>\n      <td>0</td>\n      <td>0</td>\n      <td>0</td>\n      <td>0</td>\n      <td>0</td>\n      <td>0</td>\n      <td>0</td>\n      <td>0</td>\n      <td>0</td>\n      <td>0</td>\n    </tr>\n    <tr>\n      <th>2</th>\n      <td>dataquest-nascon23/Glucose-Data/Glucose-Data/1</td>\n      <td>1991-04-15</td>\n      <td>18:23:00</td>\n      <td>33</td>\n      <td>6</td>\n      <td>Monday</td>\n      <td>Evening</td>\n      <td>1991</td>\n      <td>4</td>\n      <td>1</td>\n      <td>...</td>\n      <td>0</td>\n      <td>0</td>\n      <td>0</td>\n      <td>0</td>\n      <td>0</td>\n      <td>0</td>\n      <td>0</td>\n      <td>0</td>\n      <td>0</td>\n      <td>0</td>\n    </tr>\n    <tr>\n      <th>3</th>\n      <td>dataquest-nascon23/Glucose-Data/Glucose-Data/1</td>\n      <td>1991-04-15</td>\n      <td>18:24:00</td>\n      <td>35</td>\n      <td>3</td>\n      <td>Monday</td>\n      <td>Evening</td>\n      <td>1991</td>\n      <td>4</td>\n      <td>1</td>\n      <td>...</td>\n      <td>0</td>\n      <td>0</td>\n      <td>0</td>\n      <td>0</td>\n      <td>0</td>\n      <td>0</td>\n      <td>0</td>\n      <td>0</td>\n      <td>0</td>\n      <td>0</td>\n    </tr>\n    <tr>\n      <th>4</th>\n      <td>dataquest-nascon23/Glucose-Data/Glucose-Data/1</td>\n      <td>1991-04-15</td>\n      <td>21:16:00</td>\n      <td>64</td>\n      <td>119</td>\n      <td>Monday</td>\n      <td>Night</td>\n      <td>1991</td>\n      <td>4</td>\n      <td>1</td>\n      <td>...</td>\n      <td>0</td>\n      <td>1</td>\n      <td>0</td>\n      <td>0</td>\n      <td>0</td>\n      <td>0</td>\n      <td>0</td>\n      <td>0</td>\n      <td>0</td>\n      <td>0</td>\n    </tr>\n    <tr>\n      <th>...</th>\n      <td>...</td>\n      <td>...</td>\n      <td>...</td>\n      <td>...</td>\n      <td>...</td>\n      <td>...</td>\n      <td>...</td>\n      <td>...</td>\n      <td>...</td>\n      <td>...</td>\n      <td>...</td>\n      <td>...</td>\n      <td>...</td>\n      <td>...</td>\n      <td>...</td>\n      <td>...</td>\n      <td>...</td>\n      <td>...</td>\n      <td>...</td>\n      <td>...</td>\n      <td>...</td>\n    </tr>\n    <tr>\n      <th>295</th>\n      <td>dataquest-nascon23/Glucose-Data/Glucose-Data/1</td>\n      <td>1991-05-14</td>\n      <td>05:53:00</td>\n      <td>58</td>\n      <td>275</td>\n      <td>Tuesday</td>\n      <td>Morning</td>\n      <td>1991</td>\n      <td>5</td>\n      <td>1</td>\n      <td>...</td>\n      <td>0</td>\n      <td>0</td>\n      <td>0</td>\n      <td>0</td>\n      <td>0</td>\n      <td>0</td>\n      <td>0</td>\n      <td>0</td>\n      <td>0</td>\n      <td>0</td>\n    </tr>\n    <tr>\n      <th>296</th>\n      <td>dataquest-nascon23/Glucose-Data/Glucose-Data/1</td>\n      <td>1991-05-14</td>\n      <td>05:55:00</td>\n      <td>33</td>\n      <td>7</td>\n      <td>Tuesday</td>\n      <td>Morning</td>\n      <td>1991</td>\n      <td>5</td>\n      <td>1</td>\n      <td>...</td>\n      <td>0</td>\n      <td>0</td>\n      <td>0</td>\n      <td>0</td>\n      <td>0</td>\n      <td>0</td>\n      <td>0</td>\n      <td>0</td>\n      <td>0</td>\n      <td>0</td>\n    </tr>\n    <tr>\n      <th>297</th>\n      <td>dataquest-nascon23/Glucose-Data/Glucose-Data/1</td>\n      <td>1991-05-14</td>\n      <td>05:55:00</td>\n      <td>35</td>\n      <td>10</td>\n      <td>Tuesday</td>\n      <td>Morning</td>\n      <td>1991</td>\n      <td>5</td>\n      <td>1</td>\n      <td>...</td>\n      <td>0</td>\n      <td>0</td>\n      <td>0</td>\n      <td>0</td>\n      <td>0</td>\n      <td>0</td>\n      <td>0</td>\n      <td>0</td>\n      <td>0</td>\n      <td>0</td>\n    </tr>\n    <tr>\n      <th>298</th>\n      <td>dataquest-nascon23/Glucose-Data/Glucose-Data/1</td>\n      <td>1991-05-15</td>\n      <td>11:50:00</td>\n      <td>60</td>\n      <td>191</td>\n      <td>Wednesday</td>\n      <td>Morning</td>\n      <td>1991</td>\n      <td>5</td>\n      <td>1</td>\n      <td>...</td>\n      <td>0</td>\n      <td>0</td>\n      <td>0</td>\n      <td>0</td>\n      <td>0</td>\n      <td>0</td>\n      <td>0</td>\n      <td>0</td>\n      <td>0</td>\n      <td>0</td>\n    </tr>\n    <tr>\n      <th>299</th>\n      <td>dataquest-nascon23/Glucose-Data/Glucose-Data/1</td>\n      <td>1991-05-15</td>\n      <td>11:52:00</td>\n      <td>33</td>\n      <td>5</td>\n      <td>Wednesday</td>\n      <td>Morning</td>\n      <td>1991</td>\n      <td>5</td>\n      <td>1</td>\n      <td>...</td>\n      <td>0</td>\n      <td>0</td>\n      <td>0</td>\n      <td>0</td>\n      <td>0</td>\n      <td>0</td>\n      <td>0</td>\n      <td>0</td>\n      <td>0</td>\n      <td>0</td>\n    </tr>\n  </tbody>\n</table>\n<p>300 rows × 30 columns</p>\n</div>"
     },
     "execution_count": 47,
     "metadata": {},
     "output_type": "execute_result"
    }
   ],
   "source": [
    "df.head(300)"
   ]
  },
  {
   "cell_type": "code",
   "execution_count": 48,
   "id": "d19a4f1b",
   "metadata": {},
   "outputs": [],
   "source": [
    "# # Group the data by PatientID and iterate over each patient\n",
    "# for patient_id, patient_data in df.groupby('PatientID'):\n",
    "    \n",
    "#     # Calculate the cumulative sum of the GlucoseLevel column\n",
    "#     cumulative_sum = patient_data['GlucoseLevel'].cumsum().shift(fill_value=0)\n",
    "\n",
    "#     # Create a new column \"glucose_level_since_beginning\" with the calculated cumulative sum\n",
    "#     df.loc[patient_data.index, 'glucose_level_since_beginning'] = cumulative_sum\n",
    "\n",
    "#seperate column for year and month\n",
    "# Convert the 'Date' column to a datetime data type"
   ]
  },
  {
   "cell_type": "code",
   "execution_count": 49,
   "id": "11299c61",
   "metadata": {},
   "outputs": [],
   "source": [
    "from datetime import datetime"
   ]
  },
  {
   "cell_type": "code",
   "execution_count": 50,
   "id": "6ee246fb",
   "metadata": {},
   "outputs": [],
   "source": [
    "#time_since_beginning\n",
    "df['DateTime'] = pd.to_datetime(df['Date']) + pd.to_timedelta(df['Time'].apply(lambda x: x.strftime('%H:%M:%S')))\n",
    "grouped = df.groupby('PatientID')\n",
    "df['time_since_beginning'] = grouped['DateTime'].diff().dt.total_seconds()\n",
    "df['time_since_beginning'] = df['time_since_beginning'].replace(0, np.nan)\n",
    "df['time_since_beginning'] = df['time_since_beginning'].fillna(0)\n",
    "df = df.drop('DateTime', axis=1)\n"
   ]
  },
  {
   "cell_type": "code",
   "execution_count": 51,
   "id": "916578b5",
   "metadata": {},
   "outputs": [
    {
     "data": {
      "text/plain": "                                        PatientID       Date      Time  Code  \\\n0  dataquest-nascon23/Glucose-Data/Glucose-Data/1 1991-04-15  13:08:00    33   \n1  dataquest-nascon23/Glucose-Data/Glucose-Data/1 1991-04-15  17:17:00    62   \n2  dataquest-nascon23/Glucose-Data/Glucose-Data/1 1991-04-15  18:23:00    33   \n3  dataquest-nascon23/Glucose-Data/Glucose-Data/1 1991-04-15  18:24:00    35   \n4  dataquest-nascon23/Glucose-Data/Glucose-Data/1 1991-04-15  21:16:00    64   \n\n   GlucoseLevel     Day time_of_day  Year  Month  week_day  ...  \\\n0             5  Monday   Afternoon  1991      4         1  ...   \n1            41  Monday     Evening  1991      4         1  ...   \n2             6  Monday     Evening  1991      4         1  ...   \n3             3  Monday     Evening  1991      4         1  ...   \n4           119  Monday       Night  1991      4         1  ...   \n\n   Pre-snack blood glucose measurement  Hypoglycemic symptoms  \\\n0                                    0                      0   \n1                                    0                      0   \n2                                    0                      0   \n3                                    0                      0   \n4                                    1                      0   \n\n   Typical meal ingestion  More-than-usual meal ingestion  \\\n0                       0                               0   \n1                       0                               0   \n2                       0                               0   \n3                       0                               0   \n4                       0                               0   \n\n   Less-than-usual meal ingestion  Typical exercise activity  \\\n0                               0                          0   \n1                               0                          0   \n2                               0                          0   \n3                               0                          0   \n4                               0                          0   \n\n   More-than-usual exercise activity  Less-than-usual exercise activity  \\\n0                                  0                                  0   \n1                                  0                                  0   \n2                                  0                                  0   \n3                                  0                                  0   \n4                                  0                                  0   \n\n   Unspecified special event  time_since_beginning  \n0                          0                   0.0  \n1                          0               14940.0  \n2                          0                3960.0  \n3                          0                  60.0  \n4                          0               10320.0  \n\n[5 rows x 31 columns]",
      "text/html": "<div>\n<style scoped>\n    .dataframe tbody tr th:only-of-type {\n        vertical-align: middle;\n    }\n\n    .dataframe tbody tr th {\n        vertical-align: top;\n    }\n\n    .dataframe thead th {\n        text-align: right;\n    }\n</style>\n<table border=\"1\" class=\"dataframe\">\n  <thead>\n    <tr style=\"text-align: right;\">\n      <th></th>\n      <th>PatientID</th>\n      <th>Date</th>\n      <th>Time</th>\n      <th>Code</th>\n      <th>GlucoseLevel</th>\n      <th>Day</th>\n      <th>time_of_day</th>\n      <th>Year</th>\n      <th>Month</th>\n      <th>week_day</th>\n      <th>...</th>\n      <th>Pre-snack blood glucose measurement</th>\n      <th>Hypoglycemic symptoms</th>\n      <th>Typical meal ingestion</th>\n      <th>More-than-usual meal ingestion</th>\n      <th>Less-than-usual meal ingestion</th>\n      <th>Typical exercise activity</th>\n      <th>More-than-usual exercise activity</th>\n      <th>Less-than-usual exercise activity</th>\n      <th>Unspecified special event</th>\n      <th>time_since_beginning</th>\n    </tr>\n  </thead>\n  <tbody>\n    <tr>\n      <th>0</th>\n      <td>dataquest-nascon23/Glucose-Data/Glucose-Data/1</td>\n      <td>1991-04-15</td>\n      <td>13:08:00</td>\n      <td>33</td>\n      <td>5</td>\n      <td>Monday</td>\n      <td>Afternoon</td>\n      <td>1991</td>\n      <td>4</td>\n      <td>1</td>\n      <td>...</td>\n      <td>0</td>\n      <td>0</td>\n      <td>0</td>\n      <td>0</td>\n      <td>0</td>\n      <td>0</td>\n      <td>0</td>\n      <td>0</td>\n      <td>0</td>\n      <td>0.0</td>\n    </tr>\n    <tr>\n      <th>1</th>\n      <td>dataquest-nascon23/Glucose-Data/Glucose-Data/1</td>\n      <td>1991-04-15</td>\n      <td>17:17:00</td>\n      <td>62</td>\n      <td>41</td>\n      <td>Monday</td>\n      <td>Evening</td>\n      <td>1991</td>\n      <td>4</td>\n      <td>1</td>\n      <td>...</td>\n      <td>0</td>\n      <td>0</td>\n      <td>0</td>\n      <td>0</td>\n      <td>0</td>\n      <td>0</td>\n      <td>0</td>\n      <td>0</td>\n      <td>0</td>\n      <td>14940.0</td>\n    </tr>\n    <tr>\n      <th>2</th>\n      <td>dataquest-nascon23/Glucose-Data/Glucose-Data/1</td>\n      <td>1991-04-15</td>\n      <td>18:23:00</td>\n      <td>33</td>\n      <td>6</td>\n      <td>Monday</td>\n      <td>Evening</td>\n      <td>1991</td>\n      <td>4</td>\n      <td>1</td>\n      <td>...</td>\n      <td>0</td>\n      <td>0</td>\n      <td>0</td>\n      <td>0</td>\n      <td>0</td>\n      <td>0</td>\n      <td>0</td>\n      <td>0</td>\n      <td>0</td>\n      <td>3960.0</td>\n    </tr>\n    <tr>\n      <th>3</th>\n      <td>dataquest-nascon23/Glucose-Data/Glucose-Data/1</td>\n      <td>1991-04-15</td>\n      <td>18:24:00</td>\n      <td>35</td>\n      <td>3</td>\n      <td>Monday</td>\n      <td>Evening</td>\n      <td>1991</td>\n      <td>4</td>\n      <td>1</td>\n      <td>...</td>\n      <td>0</td>\n      <td>0</td>\n      <td>0</td>\n      <td>0</td>\n      <td>0</td>\n      <td>0</td>\n      <td>0</td>\n      <td>0</td>\n      <td>0</td>\n      <td>60.0</td>\n    </tr>\n    <tr>\n      <th>4</th>\n      <td>dataquest-nascon23/Glucose-Data/Glucose-Data/1</td>\n      <td>1991-04-15</td>\n      <td>21:16:00</td>\n      <td>64</td>\n      <td>119</td>\n      <td>Monday</td>\n      <td>Night</td>\n      <td>1991</td>\n      <td>4</td>\n      <td>1</td>\n      <td>...</td>\n      <td>1</td>\n      <td>0</td>\n      <td>0</td>\n      <td>0</td>\n      <td>0</td>\n      <td>0</td>\n      <td>0</td>\n      <td>0</td>\n      <td>0</td>\n      <td>10320.0</td>\n    </tr>\n  </tbody>\n</table>\n<p>5 rows × 31 columns</p>\n</div>"
     },
     "execution_count": 51,
     "metadata": {},
     "output_type": "execute_result"
    }
   ],
   "source": [
    "df.head()"
   ]
  },
  {
   "cell_type": "code",
   "execution_count": 52,
   "id": "5df36e06",
   "metadata": {},
   "outputs": [],
   "source": [
    "df['glucose_level_since_beginning'] = 0\n",
    "\n",
    "# Looping through each row in the dataframe and updating the new column based on the conditions\n",
    "current_patient_id = df.loc[0, 'PatientID']\n",
    "for i in range(1, len(df)):\n",
    "    if df.loc[i, 'PatientID'] != current_patient_id:\n",
    "        df.loc[i, 'glucose_level_since_beginning'] = 0\n",
    "        current_patient_id = df.loc[i, 'PatientID']\n",
    "    elif df.loc[i, 'Code'] in [61, 62, 33, 34, 35, 59, 63, 67, 68]:\n",
    "        df.loc[i, 'glucose_level_since_beginning'] = df.loc[i, 'GlucoseLevel']\n",
    "    else:\n",
    "        df.loc[i, 'glucose_level_since_beginning'] = df.loc[i-1, 'glucose_level_since_beginning']\n"
   ]
  },
  {
   "cell_type": "code",
   "execution_count": 53,
   "id": "e337d254",
   "metadata": {},
   "outputs": [
    {
     "data": {
      "text/plain": "                                         PatientID       Date      Time  Code  \\\n0   dataquest-nascon23/Glucose-Data/Glucose-Data/1 1991-04-15  13:08:00    33   \n1   dataquest-nascon23/Glucose-Data/Glucose-Data/1 1991-04-15  17:17:00    62   \n2   dataquest-nascon23/Glucose-Data/Glucose-Data/1 1991-04-15  18:23:00    33   \n3   dataquest-nascon23/Glucose-Data/Glucose-Data/1 1991-04-15  18:24:00    35   \n4   dataquest-nascon23/Glucose-Data/Glucose-Data/1 1991-04-15  21:16:00    64   \n..                                             ...        ...       ...   ...   \n95  dataquest-nascon23/Glucose-Data/Glucose-Data/1 1991-04-24  05:44:00    35   \n96  dataquest-nascon23/Glucose-Data/Glucose-Data/1 1991-04-24  11:49:00    60   \n97  dataquest-nascon23/Glucose-Data/Glucose-Data/1 1991-04-24  11:50:00    33   \n98  dataquest-nascon23/Glucose-Data/Glucose-Data/1 1991-04-24  16:40:00    62   \n99  dataquest-nascon23/Glucose-Data/Glucose-Data/1 1991-04-24  16:42:00    33   \n\n    GlucoseLevel        Day time_of_day  Year  Month  week_day  ...  \\\n0              5     Monday   Afternoon  1991      4         1  ...   \n1             41     Monday     Evening  1991      4         1  ...   \n2              6     Monday     Evening  1991      4         1  ...   \n3              3     Monday     Evening  1991      4         1  ...   \n4            119     Monday       Night  1991      4         1  ...   \n..           ...        ...         ...   ...    ...       ...  ...   \n95            10  Wednesday     Morning  1991      4         1  ...   \n96           225  Wednesday     Morning  1991      4         1  ...   \n97             6  Wednesday     Morning  1991      4         1  ...   \n98           115  Wednesday     Evening  1991      4         1  ...   \n99             6  Wednesday     Evening  1991      4         1  ...   \n\n    Hypoglycemic symptoms  Typical meal ingestion  \\\n0                       0                       0   \n1                       0                       0   \n2                       0                       0   \n3                       0                       0   \n4                       0                       0   \n..                    ...                     ...   \n95                      0                       0   \n96                      0                       0   \n97                      0                       0   \n98                      0                       0   \n99                      0                       0   \n\n    More-than-usual meal ingestion  Less-than-usual meal ingestion  \\\n0                                0                               0   \n1                                0                               0   \n2                                0                               0   \n3                                0                               0   \n4                                0                               0   \n..                             ...                             ...   \n95                               0                               0   \n96                               0                               0   \n97                               0                               0   \n98                               0                               0   \n99                               0                               0   \n\n    Typical exercise activity  More-than-usual exercise activity  \\\n0                           0                                  0   \n1                           0                                  0   \n2                           0                                  0   \n3                           0                                  0   \n4                           0                                  0   \n..                        ...                                ...   \n95                          0                                  0   \n96                          0                                  0   \n97                          0                                  0   \n98                          0                                  0   \n99                          0                                  0   \n\n    Less-than-usual exercise activity  Unspecified special event  \\\n0                                   0                          0   \n1                                   0                          0   \n2                                   0                          0   \n3                                   0                          0   \n4                                   0                          0   \n..                                ...                        ...   \n95                                  0                          0   \n96                                  0                          0   \n97                                  0                          0   \n98                                  0                          0   \n99                                  0                          0   \n\n    time_since_beginning  glucose_level_since_beginning  \n0                    0.0                              0  \n1                14940.0                             41  \n2                 3960.0                              6  \n3                   60.0                              3  \n4                10320.0                              3  \n..                   ...                            ...  \n95                  60.0                             10  \n96               21900.0                             10  \n97                  60.0                              6  \n98               17400.0                            115  \n99                 120.0                              6  \n\n[100 rows x 32 columns]",
      "text/html": "<div>\n<style scoped>\n    .dataframe tbody tr th:only-of-type {\n        vertical-align: middle;\n    }\n\n    .dataframe tbody tr th {\n        vertical-align: top;\n    }\n\n    .dataframe thead th {\n        text-align: right;\n    }\n</style>\n<table border=\"1\" class=\"dataframe\">\n  <thead>\n    <tr style=\"text-align: right;\">\n      <th></th>\n      <th>PatientID</th>\n      <th>Date</th>\n      <th>Time</th>\n      <th>Code</th>\n      <th>GlucoseLevel</th>\n      <th>Day</th>\n      <th>time_of_day</th>\n      <th>Year</th>\n      <th>Month</th>\n      <th>week_day</th>\n      <th>...</th>\n      <th>Hypoglycemic symptoms</th>\n      <th>Typical meal ingestion</th>\n      <th>More-than-usual meal ingestion</th>\n      <th>Less-than-usual meal ingestion</th>\n      <th>Typical exercise activity</th>\n      <th>More-than-usual exercise activity</th>\n      <th>Less-than-usual exercise activity</th>\n      <th>Unspecified special event</th>\n      <th>time_since_beginning</th>\n      <th>glucose_level_since_beginning</th>\n    </tr>\n  </thead>\n  <tbody>\n    <tr>\n      <th>0</th>\n      <td>dataquest-nascon23/Glucose-Data/Glucose-Data/1</td>\n      <td>1991-04-15</td>\n      <td>13:08:00</td>\n      <td>33</td>\n      <td>5</td>\n      <td>Monday</td>\n      <td>Afternoon</td>\n      <td>1991</td>\n      <td>4</td>\n      <td>1</td>\n      <td>...</td>\n      <td>0</td>\n      <td>0</td>\n      <td>0</td>\n      <td>0</td>\n      <td>0</td>\n      <td>0</td>\n      <td>0</td>\n      <td>0</td>\n      <td>0.0</td>\n      <td>0</td>\n    </tr>\n    <tr>\n      <th>1</th>\n      <td>dataquest-nascon23/Glucose-Data/Glucose-Data/1</td>\n      <td>1991-04-15</td>\n      <td>17:17:00</td>\n      <td>62</td>\n      <td>41</td>\n      <td>Monday</td>\n      <td>Evening</td>\n      <td>1991</td>\n      <td>4</td>\n      <td>1</td>\n      <td>...</td>\n      <td>0</td>\n      <td>0</td>\n      <td>0</td>\n      <td>0</td>\n      <td>0</td>\n      <td>0</td>\n      <td>0</td>\n      <td>0</td>\n      <td>14940.0</td>\n      <td>41</td>\n    </tr>\n    <tr>\n      <th>2</th>\n      <td>dataquest-nascon23/Glucose-Data/Glucose-Data/1</td>\n      <td>1991-04-15</td>\n      <td>18:23:00</td>\n      <td>33</td>\n      <td>6</td>\n      <td>Monday</td>\n      <td>Evening</td>\n      <td>1991</td>\n      <td>4</td>\n      <td>1</td>\n      <td>...</td>\n      <td>0</td>\n      <td>0</td>\n      <td>0</td>\n      <td>0</td>\n      <td>0</td>\n      <td>0</td>\n      <td>0</td>\n      <td>0</td>\n      <td>3960.0</td>\n      <td>6</td>\n    </tr>\n    <tr>\n      <th>3</th>\n      <td>dataquest-nascon23/Glucose-Data/Glucose-Data/1</td>\n      <td>1991-04-15</td>\n      <td>18:24:00</td>\n      <td>35</td>\n      <td>3</td>\n      <td>Monday</td>\n      <td>Evening</td>\n      <td>1991</td>\n      <td>4</td>\n      <td>1</td>\n      <td>...</td>\n      <td>0</td>\n      <td>0</td>\n      <td>0</td>\n      <td>0</td>\n      <td>0</td>\n      <td>0</td>\n      <td>0</td>\n      <td>0</td>\n      <td>60.0</td>\n      <td>3</td>\n    </tr>\n    <tr>\n      <th>4</th>\n      <td>dataquest-nascon23/Glucose-Data/Glucose-Data/1</td>\n      <td>1991-04-15</td>\n      <td>21:16:00</td>\n      <td>64</td>\n      <td>119</td>\n      <td>Monday</td>\n      <td>Night</td>\n      <td>1991</td>\n      <td>4</td>\n      <td>1</td>\n      <td>...</td>\n      <td>0</td>\n      <td>0</td>\n      <td>0</td>\n      <td>0</td>\n      <td>0</td>\n      <td>0</td>\n      <td>0</td>\n      <td>0</td>\n      <td>10320.0</td>\n      <td>3</td>\n    </tr>\n    <tr>\n      <th>...</th>\n      <td>...</td>\n      <td>...</td>\n      <td>...</td>\n      <td>...</td>\n      <td>...</td>\n      <td>...</td>\n      <td>...</td>\n      <td>...</td>\n      <td>...</td>\n      <td>...</td>\n      <td>...</td>\n      <td>...</td>\n      <td>...</td>\n      <td>...</td>\n      <td>...</td>\n      <td>...</td>\n      <td>...</td>\n      <td>...</td>\n      <td>...</td>\n      <td>...</td>\n      <td>...</td>\n    </tr>\n    <tr>\n      <th>95</th>\n      <td>dataquest-nascon23/Glucose-Data/Glucose-Data/1</td>\n      <td>1991-04-24</td>\n      <td>05:44:00</td>\n      <td>35</td>\n      <td>10</td>\n      <td>Wednesday</td>\n      <td>Morning</td>\n      <td>1991</td>\n      <td>4</td>\n      <td>1</td>\n      <td>...</td>\n      <td>0</td>\n      <td>0</td>\n      <td>0</td>\n      <td>0</td>\n      <td>0</td>\n      <td>0</td>\n      <td>0</td>\n      <td>0</td>\n      <td>60.0</td>\n      <td>10</td>\n    </tr>\n    <tr>\n      <th>96</th>\n      <td>dataquest-nascon23/Glucose-Data/Glucose-Data/1</td>\n      <td>1991-04-24</td>\n      <td>11:49:00</td>\n      <td>60</td>\n      <td>225</td>\n      <td>Wednesday</td>\n      <td>Morning</td>\n      <td>1991</td>\n      <td>4</td>\n      <td>1</td>\n      <td>...</td>\n      <td>0</td>\n      <td>0</td>\n      <td>0</td>\n      <td>0</td>\n      <td>0</td>\n      <td>0</td>\n      <td>0</td>\n      <td>0</td>\n      <td>21900.0</td>\n      <td>10</td>\n    </tr>\n    <tr>\n      <th>97</th>\n      <td>dataquest-nascon23/Glucose-Data/Glucose-Data/1</td>\n      <td>1991-04-24</td>\n      <td>11:50:00</td>\n      <td>33</td>\n      <td>6</td>\n      <td>Wednesday</td>\n      <td>Morning</td>\n      <td>1991</td>\n      <td>4</td>\n      <td>1</td>\n      <td>...</td>\n      <td>0</td>\n      <td>0</td>\n      <td>0</td>\n      <td>0</td>\n      <td>0</td>\n      <td>0</td>\n      <td>0</td>\n      <td>0</td>\n      <td>60.0</td>\n      <td>6</td>\n    </tr>\n    <tr>\n      <th>98</th>\n      <td>dataquest-nascon23/Glucose-Data/Glucose-Data/1</td>\n      <td>1991-04-24</td>\n      <td>16:40:00</td>\n      <td>62</td>\n      <td>115</td>\n      <td>Wednesday</td>\n      <td>Evening</td>\n      <td>1991</td>\n      <td>4</td>\n      <td>1</td>\n      <td>...</td>\n      <td>0</td>\n      <td>0</td>\n      <td>0</td>\n      <td>0</td>\n      <td>0</td>\n      <td>0</td>\n      <td>0</td>\n      <td>0</td>\n      <td>17400.0</td>\n      <td>115</td>\n    </tr>\n    <tr>\n      <th>99</th>\n      <td>dataquest-nascon23/Glucose-Data/Glucose-Data/1</td>\n      <td>1991-04-24</td>\n      <td>16:42:00</td>\n      <td>33</td>\n      <td>6</td>\n      <td>Wednesday</td>\n      <td>Evening</td>\n      <td>1991</td>\n      <td>4</td>\n      <td>1</td>\n      <td>...</td>\n      <td>0</td>\n      <td>0</td>\n      <td>0</td>\n      <td>0</td>\n      <td>0</td>\n      <td>0</td>\n      <td>0</td>\n      <td>0</td>\n      <td>120.0</td>\n      <td>6</td>\n    </tr>\n  </tbody>\n</table>\n<p>100 rows × 32 columns</p>\n</div>"
     },
     "execution_count": 53,
     "metadata": {},
     "output_type": "execute_result"
    }
   ],
   "source": [
    "df.head(100)"
   ]
  },
  {
   "cell_type": "code",
   "execution_count": 54,
   "outputs": [],
   "source": [
    "df.to_csv('Features1.csv')"
   ],
   "metadata": {
    "collapsed": false
   }
  }
 ],
 "metadata": {
  "kernelspec": {
   "display_name": "Python 3 (ipykernel)",
   "language": "python",
   "name": "python3"
  },
  "language_info": {
   "codemirror_mode": {
    "name": "ipython",
    "version": 3
   },
   "file_extension": ".py",
   "mimetype": "text/x-python",
   "name": "python",
   "nbconvert_exporter": "python",
   "pygments_lexer": "ipython3",
   "version": "3.9.12"
  }
 },
 "nbformat": 4,
 "nbformat_minor": 5
}
