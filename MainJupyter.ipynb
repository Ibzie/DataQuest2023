{
 "cells": [
  {
   "cell_type": "code",
   "execution_count": 3,
   "metadata": {
    "collapsed": true
   },
   "outputs": [],
   "source": [
    "import polars as pl\n",
    "import numpy as np"
   ]
  },
  {
   "cell_type": "code",
   "execution_count": 4,
   "outputs": [
    {
     "data": {
      "text/plain": "shape: (768, 9)\n┌─────────────┬─────────┬───────────────┬───────────────┬───┬──────┬───────────────┬─────┬─────────┐\n│ Pregnancies ┆ Glucose ┆ BloodPressure ┆ SkinThickness ┆ … ┆ BMI  ┆ DiabetesPedig ┆ Age ┆ Outcome │\n│ ---         ┆ ---     ┆ ---           ┆ ---           ┆   ┆ ---  ┆ reeFunction   ┆ --- ┆ ---     │\n│ i64         ┆ i64     ┆ i64           ┆ i64           ┆   ┆ f64  ┆ ---           ┆ i64 ┆ i64     │\n│             ┆         ┆               ┆               ┆   ┆      ┆ f64           ┆     ┆         │\n╞═════════════╪═════════╪═══════════════╪═══════════════╪═══╪══════╪═══════════════╪═════╪═════════╡\n│ 6           ┆ 148     ┆ 72            ┆ 35            ┆ … ┆ 33.6 ┆ 0.627         ┆ 50  ┆ 1       │\n│ 1           ┆ 85      ┆ 66            ┆ 29            ┆ … ┆ 26.6 ┆ 0.351         ┆ 31  ┆ 0       │\n│ 8           ┆ 183     ┆ 64            ┆ 0             ┆ … ┆ 23.3 ┆ 0.672         ┆ 32  ┆ 1       │\n│ 1           ┆ 89      ┆ 66            ┆ 23            ┆ … ┆ 28.1 ┆ 0.167         ┆ 21  ┆ 0       │\n│ …           ┆ …       ┆ …             ┆ …             ┆ … ┆ …    ┆ …             ┆ …   ┆ …       │\n│ 2           ┆ 122     ┆ 70            ┆ 27            ┆ … ┆ 36.8 ┆ 0.34          ┆ 27  ┆ 0       │\n│ 5           ┆ 121     ┆ 72            ┆ 23            ┆ … ┆ 26.2 ┆ 0.245         ┆ 30  ┆ 0       │\n│ 1           ┆ 126     ┆ 60            ┆ 0             ┆ … ┆ 30.1 ┆ 0.349         ┆ 47  ┆ 1       │\n│ 1           ┆ 93      ┆ 70            ┆ 31            ┆ … ┆ 30.4 ┆ 0.315         ┆ 23  ┆ 0       │\n└─────────────┴─────────┴───────────────┴───────────────┴───┴──────┴───────────────┴─────┴─────────┘",
      "text/html": "<div><style>\n.dataframe > thead > tr > th,\n.dataframe > tbody > tr > td {\n  text-align: right;\n}\n</style>\n<small>shape: (768, 9)</small><table border=\"1\" class=\"dataframe\"><thead><tr><th>Pregnancies</th><th>Glucose</th><th>BloodPressure</th><th>SkinThickness</th><th>Insulin</th><th>BMI</th><th>DiabetesPedigreeFunction</th><th>Age</th><th>Outcome</th></tr><tr><td>i64</td><td>i64</td><td>i64</td><td>i64</td><td>i64</td><td>f64</td><td>f64</td><td>i64</td><td>i64</td></tr></thead><tbody><tr><td>6</td><td>148</td><td>72</td><td>35</td><td>0</td><td>33.6</td><td>0.627</td><td>50</td><td>1</td></tr><tr><td>1</td><td>85</td><td>66</td><td>29</td><td>0</td><td>26.6</td><td>0.351</td><td>31</td><td>0</td></tr><tr><td>8</td><td>183</td><td>64</td><td>0</td><td>0</td><td>23.3</td><td>0.672</td><td>32</td><td>1</td></tr><tr><td>1</td><td>89</td><td>66</td><td>23</td><td>94</td><td>28.1</td><td>0.167</td><td>21</td><td>0</td></tr><tr><td>0</td><td>137</td><td>40</td><td>35</td><td>168</td><td>43.1</td><td>2.288</td><td>33</td><td>1</td></tr><tr><td>5</td><td>116</td><td>74</td><td>0</td><td>0</td><td>25.6</td><td>0.201</td><td>30</td><td>0</td></tr><tr><td>3</td><td>78</td><td>50</td><td>32</td><td>88</td><td>31.0</td><td>0.248</td><td>26</td><td>1</td></tr><tr><td>10</td><td>115</td><td>0</td><td>0</td><td>0</td><td>35.3</td><td>0.134</td><td>29</td><td>0</td></tr><tr><td>2</td><td>197</td><td>70</td><td>45</td><td>543</td><td>30.5</td><td>0.158</td><td>53</td><td>1</td></tr><tr><td>8</td><td>125</td><td>96</td><td>0</td><td>0</td><td>0.0</td><td>0.232</td><td>54</td><td>1</td></tr><tr><td>4</td><td>110</td><td>92</td><td>0</td><td>0</td><td>37.6</td><td>0.191</td><td>30</td><td>0</td></tr><tr><td>10</td><td>168</td><td>74</td><td>0</td><td>0</td><td>38.0</td><td>0.537</td><td>34</td><td>1</td></tr><tr><td>&hellip;</td><td>&hellip;</td><td>&hellip;</td><td>&hellip;</td><td>&hellip;</td><td>&hellip;</td><td>&hellip;</td><td>&hellip;</td><td>&hellip;</td></tr><tr><td>7</td><td>137</td><td>90</td><td>41</td><td>0</td><td>32.0</td><td>0.391</td><td>39</td><td>0</td></tr><tr><td>0</td><td>123</td><td>72</td><td>0</td><td>0</td><td>36.3</td><td>0.258</td><td>52</td><td>1</td></tr><tr><td>1</td><td>106</td><td>76</td><td>0</td><td>0</td><td>37.5</td><td>0.197</td><td>26</td><td>0</td></tr><tr><td>6</td><td>190</td><td>92</td><td>0</td><td>0</td><td>35.5</td><td>0.278</td><td>66</td><td>1</td></tr><tr><td>2</td><td>88</td><td>58</td><td>26</td><td>16</td><td>28.4</td><td>0.766</td><td>22</td><td>0</td></tr><tr><td>9</td><td>170</td><td>74</td><td>31</td><td>0</td><td>44.0</td><td>0.403</td><td>43</td><td>1</td></tr><tr><td>9</td><td>89</td><td>62</td><td>0</td><td>0</td><td>22.5</td><td>0.142</td><td>33</td><td>0</td></tr><tr><td>10</td><td>101</td><td>76</td><td>48</td><td>180</td><td>32.9</td><td>0.171</td><td>63</td><td>0</td></tr><tr><td>2</td><td>122</td><td>70</td><td>27</td><td>0</td><td>36.8</td><td>0.34</td><td>27</td><td>0</td></tr><tr><td>5</td><td>121</td><td>72</td><td>23</td><td>112</td><td>26.2</td><td>0.245</td><td>30</td><td>0</td></tr><tr><td>1</td><td>126</td><td>60</td><td>0</td><td>0</td><td>30.1</td><td>0.349</td><td>47</td><td>1</td></tr><tr><td>1</td><td>93</td><td>70</td><td>31</td><td>0</td><td>30.4</td><td>0.315</td><td>23</td><td>0</td></tr></tbody></table></div>"
     },
     "execution_count": 4,
     "metadata": {},
     "output_type": "execute_result"
    }
   ],
   "source": [
    "temp_data = pl.scan_csv('test.csv', ignore_errors=True)\n",
    "data = temp_data.collect()\n",
    "data"
   ],
   "metadata": {
    "collapsed": false
   }
  },
  {
   "cell_type": "code",
   "execution_count": 21,
   "outputs": [
    {
     "name": "stdout",
     "output_type": "stream",
     "text": [
      "Accuracy: 0.7467532467532467\n",
      "CPU times: user 4.2 s, sys: 0 ns, total: 4.2 s\n",
      "Wall time: 4.2 s\n"
     ]
    }
   ],
   "source": [
    "%%time\n",
    "from sklearn.svm import SVC\n",
    "from sklearn.model_selection import train_test_split\n",
    "\n",
    "# Load the dataset into a polars dataframe\n",
    "temp_data = pl.scan_csv('test.csv', ignore_errors=True)\n",
    "data = temp_data.collect()\n",
    "df = data.to_pandas()\n",
    "\n",
    "# Separate the target variable from the predictors\n",
    "target = df['Outcome']\n",
    "predictors = df.drop('Outcome', axis=1)\n",
    "# Split the data into training and testing sets\n",
    "X_train, X_test, y_train, y_test = train_test_split(predictors, target, test_size=0.2)\n",
    "\n",
    "# Create an SVM model and fit it to the training data\n",
    "svm = SVC(kernel='linear')\n",
    "svm.fit(X_train, y_train)\n",
    "\n",
    "# Use the model to make predictions on the testing data\n",
    "y_pred = svm.predict(X_test)\n",
    "\n",
    "# Evaluate the performance of the model\n",
    "from sklearn.metrics import accuracy_score\n",
    "accuracy = accuracy_score(y_test, y_pred)\n",
    "print(\"Accuracy:\", accuracy)\n"
   ],
   "metadata": {
    "collapsed": false
   }
  },
  {
   "cell_type": "code",
   "execution_count": 6,
   "outputs": [
    {
     "data": {
      "text/plain": "shape: (768, 9)\n┌─────────────┬─────────┬───────────────┬───────────────┬───┬──────┬───────────────┬─────┬─────────┐\n│ Pregnancies ┆ Glucose ┆ BloodPressure ┆ SkinThickness ┆ … ┆ BMI  ┆ DiabetesPedig ┆ Age ┆ Outcome │\n│ ---         ┆ ---     ┆ ---           ┆ ---           ┆   ┆ ---  ┆ reeFunction   ┆ --- ┆ ---     │\n│ i64         ┆ i64     ┆ i64           ┆ i64           ┆   ┆ f64  ┆ ---           ┆ i64 ┆ i64     │\n│             ┆         ┆               ┆               ┆   ┆      ┆ f64           ┆     ┆         │\n╞═════════════╪═════════╪═══════════════╪═══════════════╪═══╪══════╪═══════════════╪═════╪═════════╡\n│ 6           ┆ 148     ┆ 72            ┆ 35            ┆ … ┆ 33.6 ┆ 0.627         ┆ 50  ┆ 1       │\n│ 1           ┆ 85      ┆ 66            ┆ 29            ┆ … ┆ 26.6 ┆ 0.351         ┆ 31  ┆ 0       │\n│ 8           ┆ 183     ┆ 64            ┆ 0             ┆ … ┆ 23.3 ┆ 0.672         ┆ 32  ┆ 1       │\n│ 1           ┆ 89      ┆ 66            ┆ 23            ┆ … ┆ 28.1 ┆ 0.167         ┆ 21  ┆ 0       │\n│ …           ┆ …       ┆ …             ┆ …             ┆ … ┆ …    ┆ …             ┆ …   ┆ …       │\n│ 2           ┆ 122     ┆ 70            ┆ 27            ┆ … ┆ 36.8 ┆ 0.34          ┆ 27  ┆ 0       │\n│ 5           ┆ 121     ┆ 72            ┆ 23            ┆ … ┆ 26.2 ┆ 0.245         ┆ 30  ┆ 0       │\n│ 1           ┆ 126     ┆ 60            ┆ 0             ┆ … ┆ 30.1 ┆ 0.349         ┆ 47  ┆ 1       │\n│ 1           ┆ 93      ┆ 70            ┆ 31            ┆ … ┆ 30.4 ┆ 0.315         ┆ 23  ┆ 0       │\n└─────────────┴─────────┴───────────────┴───────────────┴───┴──────┴───────────────┴─────┴─────────┘",
      "text/html": "<div><style>\n.dataframe > thead > tr > th,\n.dataframe > tbody > tr > td {\n  text-align: right;\n}\n</style>\n<small>shape: (768, 9)</small><table border=\"1\" class=\"dataframe\"><thead><tr><th>Pregnancies</th><th>Glucose</th><th>BloodPressure</th><th>SkinThickness</th><th>Insulin</th><th>BMI</th><th>DiabetesPedigreeFunction</th><th>Age</th><th>Outcome</th></tr><tr><td>i64</td><td>i64</td><td>i64</td><td>i64</td><td>i64</td><td>f64</td><td>f64</td><td>i64</td><td>i64</td></tr></thead><tbody><tr><td>6</td><td>148</td><td>72</td><td>35</td><td>0</td><td>33.6</td><td>0.627</td><td>50</td><td>1</td></tr><tr><td>1</td><td>85</td><td>66</td><td>29</td><td>0</td><td>26.6</td><td>0.351</td><td>31</td><td>0</td></tr><tr><td>8</td><td>183</td><td>64</td><td>0</td><td>0</td><td>23.3</td><td>0.672</td><td>32</td><td>1</td></tr><tr><td>1</td><td>89</td><td>66</td><td>23</td><td>94</td><td>28.1</td><td>0.167</td><td>21</td><td>0</td></tr><tr><td>0</td><td>137</td><td>40</td><td>35</td><td>168</td><td>43.1</td><td>2.288</td><td>33</td><td>1</td></tr><tr><td>5</td><td>116</td><td>74</td><td>0</td><td>0</td><td>25.6</td><td>0.201</td><td>30</td><td>0</td></tr><tr><td>3</td><td>78</td><td>50</td><td>32</td><td>88</td><td>31.0</td><td>0.248</td><td>26</td><td>1</td></tr><tr><td>10</td><td>115</td><td>0</td><td>0</td><td>0</td><td>35.3</td><td>0.134</td><td>29</td><td>0</td></tr><tr><td>2</td><td>197</td><td>70</td><td>45</td><td>543</td><td>30.5</td><td>0.158</td><td>53</td><td>1</td></tr><tr><td>8</td><td>125</td><td>96</td><td>0</td><td>0</td><td>0.0</td><td>0.232</td><td>54</td><td>1</td></tr><tr><td>4</td><td>110</td><td>92</td><td>0</td><td>0</td><td>37.6</td><td>0.191</td><td>30</td><td>0</td></tr><tr><td>10</td><td>168</td><td>74</td><td>0</td><td>0</td><td>38.0</td><td>0.537</td><td>34</td><td>1</td></tr><tr><td>&hellip;</td><td>&hellip;</td><td>&hellip;</td><td>&hellip;</td><td>&hellip;</td><td>&hellip;</td><td>&hellip;</td><td>&hellip;</td><td>&hellip;</td></tr><tr><td>7</td><td>137</td><td>90</td><td>41</td><td>0</td><td>32.0</td><td>0.391</td><td>39</td><td>0</td></tr><tr><td>0</td><td>123</td><td>72</td><td>0</td><td>0</td><td>36.3</td><td>0.258</td><td>52</td><td>1</td></tr><tr><td>1</td><td>106</td><td>76</td><td>0</td><td>0</td><td>37.5</td><td>0.197</td><td>26</td><td>0</td></tr><tr><td>6</td><td>190</td><td>92</td><td>0</td><td>0</td><td>35.5</td><td>0.278</td><td>66</td><td>1</td></tr><tr><td>2</td><td>88</td><td>58</td><td>26</td><td>16</td><td>28.4</td><td>0.766</td><td>22</td><td>0</td></tr><tr><td>9</td><td>170</td><td>74</td><td>31</td><td>0</td><td>44.0</td><td>0.403</td><td>43</td><td>1</td></tr><tr><td>9</td><td>89</td><td>62</td><td>0</td><td>0</td><td>22.5</td><td>0.142</td><td>33</td><td>0</td></tr><tr><td>10</td><td>101</td><td>76</td><td>48</td><td>180</td><td>32.9</td><td>0.171</td><td>63</td><td>0</td></tr><tr><td>2</td><td>122</td><td>70</td><td>27</td><td>0</td><td>36.8</td><td>0.34</td><td>27</td><td>0</td></tr><tr><td>5</td><td>121</td><td>72</td><td>23</td><td>112</td><td>26.2</td><td>0.245</td><td>30</td><td>0</td></tr><tr><td>1</td><td>126</td><td>60</td><td>0</td><td>0</td><td>30.1</td><td>0.349</td><td>47</td><td>1</td></tr><tr><td>1</td><td>93</td><td>70</td><td>31</td><td>0</td><td>30.4</td><td>0.315</td><td>23</td><td>0</td></tr></tbody></table></div>"
     },
     "execution_count": 6,
     "metadata": {},
     "output_type": "execute_result"
    }
   ],
   "source": [
    "data"
   ],
   "metadata": {
    "collapsed": false
   }
  },
  {
   "cell_type": "code",
   "execution_count": 17,
   "outputs": [
    {
     "name": "stdout",
     "output_type": "stream",
     "text": [
      "Accuracy: 0.7727272727272727\n"
     ]
    }
   ],
   "source": [
    "X = data.drop(\"Outcome\").to_numpy()\n",
    "y = data[\"Outcome\"].to_numpy()\n",
    "from sklearn.naive_bayes import GaussianNB\n",
    "from sklearn.model_selection import train_test_split\n",
    "nb_model = GaussianNB()\n",
    "X_train, X_test, y_train, y_test = train_test_split(X, y, test_size=0.2, random_state=43)\n",
    "nb_model.fit(X_train,y_train)\n",
    "\n",
    "y_pred = nb_model.predict(X_test)\n",
    "accuracy = accuracy_score(y_test, y_pred)\n",
    "print(\"Accuracy:\", accuracy)\n"
   ],
   "metadata": {
    "collapsed": false
   }
  },
  {
   "cell_type": "code",
   "execution_count": 13,
   "outputs": [],
   "source": [],
   "metadata": {
    "collapsed": false
   }
  }
 ],
 "metadata": {
  "kernelspec": {
   "display_name": "Python 3",
   "language": "python",
   "name": "python3"
  },
  "language_info": {
   "codemirror_mode": {
    "name": "ipython",
    "version": 2
   },
   "file_extension": ".py",
   "mimetype": "text/x-python",
   "name": "python",
   "nbconvert_exporter": "python",
   "pygments_lexer": "ipython2",
   "version": "2.7.6"
  }
 },
 "nbformat": 4,
 "nbformat_minor": 0
}
