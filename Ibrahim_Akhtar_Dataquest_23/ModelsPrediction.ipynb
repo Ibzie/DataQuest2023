{
 "cells": [
  {
   "cell_type": "code",
   "execution_count": null,
   "outputs": [],
   "source": [],
   "metadata": {
    "collapsed": false
   }
  },
  {
   "cell_type": "code",
   "execution_count": null,
   "outputs": [],
   "source": [],
   "metadata": {
    "collapsed": false
   }
  },
  {
   "cell_type": "code",
   "execution_count": null,
   "outputs": [],
   "source": [],
   "metadata": {
    "collapsed": false
   }
  },
  {
   "cell_type": "code",
   "execution_count": null,
   "outputs": [],
   "source": [],
   "metadata": {
    "collapsed": false
   }
  },
  {
   "cell_type": "code",
   "execution_count": null,
   "outputs": [],
   "source": [],
   "metadata": {
    "collapsed": false
   }
  },
  {
   "cell_type": "code",
   "execution_count": null,
   "outputs": [],
   "source": [],
   "metadata": {
    "collapsed": false
   }
  },
  {
   "cell_type": "code",
   "execution_count": null,
   "outputs": [],
   "source": [],
   "metadata": {
    "collapsed": false
   }
  },
  {
   "cell_type": "code",
   "execution_count": null,
   "outputs": [],
   "source": [],
   "metadata": {
    "collapsed": false
   }
  },
  {
   "cell_type": "code",
   "execution_count": 165,
   "outputs": [],
   "source": [
    "import pandas as pd\n",
    "import numpy as np"
   ],
   "metadata": {
    "collapsed": false
   }
  },
  {
   "cell_type": "code",
   "execution_count": 166,
   "outputs": [],
   "source": [
    "# df = pd.read_csv('Features1.csv', index_col=False)\n",
    "# x =0\n",
    "# df = df.iloc[: , 1:]\n",
    "#\n",
    "# df = df.iloc[: , 1:]\n",
    "# del df['Day']\n",
    "# del df['Month']\n",
    "# del df['Year']\n",
    "# del df['week_day']\n",
    "# del df['Code']\n",
    "# data = pd.get_dummies(df)\n",
    "# print(data)\n",
    "# # df.iloc[1][0]\n"
   ],
   "metadata": {
    "collapsed": false
   }
  },
  {
   "cell_type": "code",
   "execution_count": 167,
   "outputs": [
    {
     "name": "stdout",
     "output_type": "stream",
     "text": [
      "       PatientID  Code GlucoseLevel  Year  Month  week_day  quarter  \\\n",
      "4              1    64          119  1991      4         1      4.0   \n",
      "6              1    58          101  1991      4         1      1.0   \n",
      "10             1    57           82  1991      4         1      1.0   \n",
      "15             1    64           89  1991      4         1      4.0   \n",
      "17             1    58          132  1991      4         1      1.0   \n",
      "...          ...   ...          ...   ...    ...       ...      ...   \n",
      "20360         49    58          172  1991      7         1      1.0   \n",
      "20366         49    34            1  1991      7         1      3.0   \n",
      "20367         49    64          351  1991      7         1      4.0   \n",
      "20369         49    34            7  1991      7         1      4.0   \n",
      "20370         49    58          130  1991      7         1      1.0   \n",
      "\n",
      "       Regular insulin dose  NPH insulin dose  UltraLente insulin dose  ...  \\\n",
      "4                         0                 0                        0  ...   \n",
      "6                         0                 0                        0  ...   \n",
      "10                        0                 0                        0  ...   \n",
      "15                        0                 0                        0  ...   \n",
      "17                        0                 0                        0  ...   \n",
      "...                     ...               ...                      ...  ...   \n",
      "20360                     0                 0                        0  ...   \n",
      "20366                     0                 1                        0  ...   \n",
      "20367                     0                 0                        0  ...   \n",
      "20369                     0                 1                        0  ...   \n",
      "20370                     0                 0                        0  ...   \n",
      "\n",
      "       Pre-snack blood glucose measurement  Hypoglycemic symptoms  \\\n",
      "4                                        1                      0   \n",
      "6                                        0                      0   \n",
      "10                                       0                      0   \n",
      "15                                       1                      0   \n",
      "17                                       0                      0   \n",
      "...                                    ...                    ...   \n",
      "20360                                    0                      0   \n",
      "20366                                    0                      0   \n",
      "20367                                    1                      0   \n",
      "20369                                    0                      0   \n",
      "20370                                    0                      0   \n",
      "\n",
      "       Typical meal ingestion  More-than-usual meal ingestion  \\\n",
      "4                           0                               0   \n",
      "6                           0                               0   \n",
      "10                          0                               0   \n",
      "15                          0                               0   \n",
      "17                          0                               0   \n",
      "...                       ...                             ...   \n",
      "20360                       0                               0   \n",
      "20366                       0                               0   \n",
      "20367                       0                               0   \n",
      "20369                       0                               0   \n",
      "20370                       0                               0   \n",
      "\n",
      "       Less-than-usual meal ingestion  Typical exercise activity  \\\n",
      "4                                   0                          0   \n",
      "6                                   0                          0   \n",
      "10                                  0                          0   \n",
      "15                                  0                          0   \n",
      "17                                  0                          0   \n",
      "...                               ...                        ...   \n",
      "20360                               0                          0   \n",
      "20366                               0                          0   \n",
      "20367                               0                          0   \n",
      "20369                               0                          0   \n",
      "20370                               0                          0   \n",
      "\n",
      "       More-than-usual exercise activity  Less-than-usual exercise activity  \\\n",
      "4                                      0                                  0   \n",
      "6                                      0                                  0   \n",
      "10                                     0                                  0   \n",
      "15                                     0                                  0   \n",
      "17                                     0                                  0   \n",
      "...                                  ...                                ...   \n",
      "20360                                  0                                  0   \n",
      "20366                                  0                                  0   \n",
      "20367                                  0                                  0   \n",
      "20369                                  0                                  0   \n",
      "20370                                  0                                  0   \n",
      "\n",
      "       Unspecified special event  glucose_level_since_beginning  \n",
      "4                              0                            3.0  \n",
      "6                              0                            7.0  \n",
      "10                             0                           10.0  \n",
      "15                             0                            3.0  \n",
      "17                             0                            7.0  \n",
      "...                          ...                            ...  \n",
      "20360                          0                            0.0  \n",
      "20366                          0                            0.0  \n",
      "20367                          0                            0.0  \n",
      "20369                          0                            0.0  \n",
      "20370                          0                            0.0  \n",
      "\n",
      "[8567 rows x 27 columns]\n",
      "Date                                        object\n",
      "Time                                        object\n",
      "Code                                         int64\n",
      "Day                                         object\n",
      "time_of_day                                 object\n",
      "Year                                         int64\n",
      "Month                                        int64\n",
      "week_day                                     int64\n",
      "quarter                                      int64\n",
      "Regular insulin dose                         int64\n",
      "NPH insulin dose                             int64\n",
      "UltraLente insulin dose                      int64\n",
      "Unspecified blood glucose measurement        int64\n",
      "Pre-breakfast blood glucose measurement      int64\n",
      "Post-breakfast blood glucose measurement     int64\n",
      "Pre-lunch blood glucose measurement          int64\n",
      "Post-lunch blood glucose measurement         int64\n",
      "Pre-supper blood glucose measurement         int64\n",
      "Post-supper blood glucose measurement        int64\n",
      "Pre-snack blood glucose measurement          int64\n",
      "Hypoglycemic symptoms                        int64\n",
      "Typical meal ingestion                       int64\n",
      "More-than-usual meal ingestion               int64\n",
      "Less-than-usual meal ingestion               int64\n",
      "Typical exercise activity                    int64\n",
      "More-than-usual exercise activity            int64\n",
      "Less-than-usual exercise activity            int64\n",
      "Unspecified special event                    int64\n",
      "dtype: object\n"
     ]
    }
   ],
   "source": [
    "csv_path = \"filename.csv\"\n",
    "dff = pd.read_csv(csv_path)\n",
    "\n",
    "\n",
    "del dff['time_of_day']\n",
    "del dff['Date']\n",
    "del dff['Day']\n",
    "del dff['Time']\n",
    "\n",
    "#for pre breakfast, post lunch codes are: 58,63, 34,48,57,66,67,68,69,70,71.72\n",
    "breakfast_codes = [58,63, 34,48,57,66,67,68,69,70,71,72,64]\n",
    "breakfast_df = dff[dff['Code'].isin(breakfast_codes)]\n",
    "\n",
    "lunch_codes = [59,60, 34,48,57,66,67,68,69,70,71,72,64]\n",
    "lunch_df = dff[dff['Code'].isin(lunch_codes)]\n",
    "\n",
    "supper_codes = [61, 62, 34,48,57,66,67,68,69,70,71,72,64]\n",
    "supper_df = dff[dff['Code'].isin(supper_codes)]\n",
    "#59, 60\n",
    "#61,62,\n",
    "# Lunch_dff = dff[dff['Code']==59 or dff['Code']==60 or dff['Code']==34 or dff['Code']== 48 or dff['Code']==57 or dff['Code']==66 or dff['Code']==67 or dff['Code']==68 or dff['Code']==69 or dff['Code']== 70 or dff['Code']==71 or dff['Code']== 72 or dff['Code']==64]\n",
    "#\n",
    "# Dinner_dff = dff[dff['Code']==61 or dff['Code']==62 or dff['Code']==34 or dff['Code']== 48 or dff['Code']==57 or dff['Code']==66 or dff['Code']==67 or dff['Code']==68 or dff['Code']==69 or dff['Code']== 70 or dff['Code']==71 or dff['Code']== 72 or dff['Code']==64]\n",
    "# breakfast_df = pd.get_dummies(breakfast_df)\n",
    "# lunch_df = pd.get_dummies(lunch_df)\n",
    "# supper_df = pd.get_dummies(supper_df)\n",
    "# breakfast_df['GlucoseLevel'] = breakfast_df['GlucoseLevel'].astype(int)\n",
    "data1 = breakfast_df\n",
    "data1 = data1.dropna()\n",
    "data2 = lunch_df\n",
    "data2 = data2.dropna()\n",
    "data3 = supper_df\n",
    "data3 = data3.dropna()\n",
    "\n",
    "print(data1)\n",
    "\n",
    "\n",
    "predict_file = '/home/ibz/Desktop/DataQuest2023/dataquest-nascon23/abc.csv'\n",
    "pred_csv = pd.read_csv(predict_file, index_col = 0)\n",
    "pred_csv = pred_csv.iloc[: , 1:]\n",
    "\n",
    "\n",
    "\n",
    "print(pred_csv.dtypes)\n",
    "# replace string values with NaN values\n",
    "pred_csv['Code'] = pred_csv['Code'].replace(\"0''\", pd.NA)\n",
    "\n",
    "# convert the column to a numeric data type\n",
    "pred_csv['Code'] = pd.to_numeric(pred_csv['Code'])\n",
    "# print(dff)"
   ],
   "metadata": {
    "collapsed": false
   }
  },
  {
   "cell_type": "markdown",
   "source": [
    "### DONT RUN THIS"
   ],
   "metadata": {
    "collapsed": false
   }
  },
  {
   "cell_type": "markdown",
   "source": [],
   "metadata": {
    "collapsed": false
   }
  },
  {
   "cell_type": "code",
   "execution_count": 168,
   "outputs": [
    {
     "name": "stdout",
     "output_type": "stream",
     "text": [
      "            Date  Code        Day time_of_day  Year  Month  week_day  quarter  \\\n",
      "ID                                                                              \n",
      "1     1990-08-01    58  Wednesday     Morning  1990      8         1        1   \n",
      "2     1990-08-01    60  Wednesday     Morning  1990      8         1        1   \n",
      "3     1990-08-01    62  Wednesday     Evening  1990      8         1        3   \n",
      "4     1990-08-02    58   Thursday     Morning  1990      8         1        1   \n",
      "5     1990-08-02    60   Thursday   Afternoon  1990      8         1        2   \n",
      "...          ...   ...        ...         ...   ...    ...       ...      ...   \n",
      "1048  1990-10-10    60  Wednesday     Morning  1990     10         1        1   \n",
      "1049  1990-10-10    62  Wednesday     Evening  1990     10         1        3   \n",
      "1050  1990-10-11    58   Thursday     Morning  1990     10         1        1   \n",
      "1051  1990-10-11    60   Thursday   Afternoon  1990     10         1        2   \n",
      "1052  1990-10-11    62   Thursday     Evening  1990     10         1        3   \n",
      "\n",
      "      Regular insulin dose  NPH insulin dose  ...  \\\n",
      "ID                                            ...   \n",
      "1                        0                 0  ...   \n",
      "2                        0                 0  ...   \n",
      "3                        0                 0  ...   \n",
      "4                        0                 0  ...   \n",
      "5                        0                 0  ...   \n",
      "...                    ...               ...  ...   \n",
      "1048                     0                 0  ...   \n",
      "1049                     0                 0  ...   \n",
      "1050                     0                 0  ...   \n",
      "1051                     0                 0  ...   \n",
      "1052                     0                 0  ...   \n",
      "\n",
      "      Post-supper blood glucose measurement  \\\n",
      "ID                                            \n",
      "1                                         0   \n",
      "2                                         0   \n",
      "3                                         0   \n",
      "4                                         0   \n",
      "5                                         0   \n",
      "...                                     ...   \n",
      "1048                                      0   \n",
      "1049                                      0   \n",
      "1050                                      0   \n",
      "1051                                      0   \n",
      "1052                                      0   \n",
      "\n",
      "      Pre-snack blood glucose measurement  Hypoglycemic symptoms  \\\n",
      "ID                                                                 \n",
      "1                                       0                      0   \n",
      "2                                       0                      0   \n",
      "3                                       0                      0   \n",
      "4                                       0                      0   \n",
      "5                                       0                      0   \n",
      "...                                   ...                    ...   \n",
      "1048                                    0                      0   \n",
      "1049                                    0                      0   \n",
      "1050                                    0                      0   \n",
      "1051                                    0                      0   \n",
      "1052                                    0                      0   \n",
      "\n",
      "      Typical meal ingestion  More-than-usual meal ingestion  \\\n",
      "ID                                                             \n",
      "1                          0                               0   \n",
      "2                          0                               0   \n",
      "3                          0                               0   \n",
      "4                          0                               0   \n",
      "5                          0                               0   \n",
      "...                      ...                             ...   \n",
      "1048                       0                               0   \n",
      "1049                       0                               0   \n",
      "1050                       0                               0   \n",
      "1051                       0                               0   \n",
      "1052                       0                               0   \n",
      "\n",
      "      Less-than-usual meal ingestion  Typical exercise activity  \\\n",
      "ID                                                                \n",
      "1                                  0                          0   \n",
      "2                                  0                          0   \n",
      "3                                  0                          0   \n",
      "4                                  0                          0   \n",
      "5                                  0                          0   \n",
      "...                              ...                        ...   \n",
      "1048                               0                          0   \n",
      "1049                               0                          0   \n",
      "1050                               0                          0   \n",
      "1051                               0                          0   \n",
      "1052                               0                          0   \n",
      "\n",
      "      More-than-usual exercise activity  Less-than-usual exercise activity  \\\n",
      "ID                                                                           \n",
      "1                                     0                                  0   \n",
      "2                                     0                                  0   \n",
      "3                                     0                                  0   \n",
      "4                                     0                                  0   \n",
      "5                                     0                                  0   \n",
      "...                                 ...                                ...   \n",
      "1048                                  0                                  0   \n",
      "1049                                  0                                  0   \n",
      "1050                                  0                                  0   \n",
      "1051                                  0                                  0   \n",
      "1052                                  0                                  0   \n",
      "\n",
      "      Unspecified special event  \n",
      "ID                               \n",
      "1                             0  \n",
      "2                             0  \n",
      "3                             0  \n",
      "4                             0  \n",
      "5                             0  \n",
      "...                         ...  \n",
      "1048                          0  \n",
      "1049                          0  \n",
      "1050                          0  \n",
      "1051                          0  \n",
      "1052                          0  \n",
      "\n",
      "[1052 rows x 27 columns]\n",
      "      Code        Day time_of_day  Year  Month  week_day  quarter  \\\n",
      "ID                                                                  \n",
      "1       58  Wednesday     Morning  1990      8         1        1   \n",
      "2       60  Wednesday     Morning  1990      8         1        1   \n",
      "3       62  Wednesday     Evening  1990      8         1        3   \n",
      "4       58   Thursday     Morning  1990      8         1        1   \n",
      "5       60   Thursday   Afternoon  1990      8         1        2   \n",
      "...    ...        ...         ...   ...    ...       ...      ...   \n",
      "1048    60  Wednesday     Morning  1990     10         1        1   \n",
      "1049    62  Wednesday     Evening  1990     10         1        3   \n",
      "1050    58   Thursday     Morning  1990     10         1        1   \n",
      "1051    60   Thursday   Afternoon  1990     10         1        2   \n",
      "1052    62   Thursday     Evening  1990     10         1        3   \n",
      "\n",
      "      Regular insulin dose  NPH insulin dose  UltraLente insulin dose  ...  \\\n",
      "ID                                                                     ...   \n",
      "1                        0                 0                        0  ...   \n",
      "2                        0                 0                        0  ...   \n",
      "3                        0                 0                        0  ...   \n",
      "4                        0                 0                        0  ...   \n",
      "5                        0                 0                        0  ...   \n",
      "...                    ...               ...                      ...  ...   \n",
      "1048                     0                 0                        0  ...   \n",
      "1049                     0                 0                        0  ...   \n",
      "1050                     0                 0                        0  ...   \n",
      "1051                     0                 0                        0  ...   \n",
      "1052                     0                 0                        0  ...   \n",
      "\n",
      "      Post-supper blood glucose measurement  \\\n",
      "ID                                            \n",
      "1                                         0   \n",
      "2                                         0   \n",
      "3                                         0   \n",
      "4                                         0   \n",
      "5                                         0   \n",
      "...                                     ...   \n",
      "1048                                      0   \n",
      "1049                                      0   \n",
      "1050                                      0   \n",
      "1051                                      0   \n",
      "1052                                      0   \n",
      "\n",
      "      Pre-snack blood glucose measurement  Hypoglycemic symptoms  \\\n",
      "ID                                                                 \n",
      "1                                       0                      0   \n",
      "2                                       0                      0   \n",
      "3                                       0                      0   \n",
      "4                                       0                      0   \n",
      "5                                       0                      0   \n",
      "...                                   ...                    ...   \n",
      "1048                                    0                      0   \n",
      "1049                                    0                      0   \n",
      "1050                                    0                      0   \n",
      "1051                                    0                      0   \n",
      "1052                                    0                      0   \n",
      "\n",
      "      Typical meal ingestion  More-than-usual meal ingestion  \\\n",
      "ID                                                             \n",
      "1                          0                               0   \n",
      "2                          0                               0   \n",
      "3                          0                               0   \n",
      "4                          0                               0   \n",
      "5                          0                               0   \n",
      "...                      ...                             ...   \n",
      "1048                       0                               0   \n",
      "1049                       0                               0   \n",
      "1050                       0                               0   \n",
      "1051                       0                               0   \n",
      "1052                       0                               0   \n",
      "\n",
      "      Less-than-usual meal ingestion  Typical exercise activity  \\\n",
      "ID                                                                \n",
      "1                                  0                          0   \n",
      "2                                  0                          0   \n",
      "3                                  0                          0   \n",
      "4                                  0                          0   \n",
      "5                                  0                          0   \n",
      "...                              ...                        ...   \n",
      "1048                               0                          0   \n",
      "1049                               0                          0   \n",
      "1050                               0                          0   \n",
      "1051                               0                          0   \n",
      "1052                               0                          0   \n",
      "\n",
      "      More-than-usual exercise activity  Less-than-usual exercise activity  \\\n",
      "ID                                                                           \n",
      "1                                     0                                  0   \n",
      "2                                     0                                  0   \n",
      "3                                     0                                  0   \n",
      "4                                     0                                  0   \n",
      "5                                     0                                  0   \n",
      "...                                 ...                                ...   \n",
      "1048                                  0                                  0   \n",
      "1049                                  0                                  0   \n",
      "1050                                  0                                  0   \n",
      "1051                                  0                                  0   \n",
      "1052                                  0                                  0   \n",
      "\n",
      "      Unspecified special event  \n",
      "ID                               \n",
      "1                             0  \n",
      "2                             0  \n",
      "3                             0  \n",
      "4                             0  \n",
      "5                             0  \n",
      "...                         ...  \n",
      "1048                          0  \n",
      "1049                          0  \n",
      "1050                          0  \n",
      "1051                          0  \n",
      "1052                          0  \n",
      "\n",
      "[1052 rows x 26 columns]\n"
     ]
    }
   ],
   "source": [
    "predict_file = '/home/ibz/Desktop/DataQuest2023/dataquest-nascon23/abc.csv'\n",
    "pred_csv = pd.read_csv(predict_file, index_col = 0)\n",
    "pred_csv = pred_csv.iloc[: , 1:]\n",
    "del pred_csv['Time']\n",
    "print(pred_csv)\n",
    "import numpy as np\n",
    "predictions =np.array([])\n",
    "predictions1 =np.array([])\n",
    "del pred_csv['Date']\n",
    "pred_csv.fillna(0)\n",
    "print(pred_csv)"
   ],
   "metadata": {
    "collapsed": false
   }
  },
  {
   "cell_type": "code",
   "execution_count": 169,
   "outputs": [
    {
     "data": {
      "text/plain": "4        119\n6        101\n10        82\n15        89\n17       132\n        ... \n20360    172\n20366      1\n20367    351\n20369      7\n20370    130\nName: GlucoseLevel, Length: 8567, dtype: object"
     },
     "execution_count": 169,
     "metadata": {},
     "output_type": "execute_result"
    }
   ],
   "source": [
    "data1['GlucoseLevel']"
   ],
   "metadata": {
    "collapsed": false
   }
  },
  {
   "cell_type": "code",
   "execution_count": 178,
   "outputs": [
    {
     "name": "stdout",
     "output_type": "stream",
     "text": [
      "    Year  Month  week_day  quarter  Regular insulin dose  NPH insulin dose  \\\n",
      "ID                                                                           \n",
      "3   1990      8         1        3                     0                 0   \n",
      "\n",
      "    UltraLente insulin dose  Unspecified blood glucose measurement  \\\n",
      "ID                                                                   \n",
      "3                         0                                      0   \n",
      "\n",
      "    Pre-breakfast blood glucose measurement  \\\n",
      "ID                                            \n",
      "3                                         0   \n",
      "\n",
      "    Post-breakfast blood glucose measurement  ...  \\\n",
      "ID                                            ...   \n",
      "3                                          0  ...   \n",
      "\n",
      "    Post-supper blood glucose measurement  \\\n",
      "ID                                          \n",
      "3                                       0   \n",
      "\n",
      "    Pre-snack blood glucose measurement  Hypoglycemic symptoms  \\\n",
      "ID                                                               \n",
      "3                                     0                      0   \n",
      "\n",
      "    Typical meal ingestion  More-than-usual meal ingestion  \\\n",
      "ID                                                           \n",
      "3                        0                               0   \n",
      "\n",
      "    Less-than-usual meal ingestion  Typical exercise activity  \\\n",
      "ID                                                              \n",
      "3                                0                          0   \n",
      "\n",
      "    More-than-usual exercise activity  Less-than-usual exercise activity  \\\n",
      "ID                                                                         \n",
      "3                                   0                                  0   \n",
      "\n",
      "    Unspecified special event  \n",
      "ID                             \n",
      "3                           0  \n",
      "\n",
      "[1 rows x 23 columns]\n"
     ]
    }
   ],
   "source": [
    "# del data1['Code']\n",
    "# del data3['Code']\n",
    "# del data2['Code']\n",
    "# del pred_csv['Code']\n",
    "# del pred_csv['time_of_day']\n",
    "# del pred_csv['Date']\n",
    "# del pred_csv['Day']\n",
    "# del pred_csv['Time']\n",
    "# del data1['Day']\n",
    "# del data3['Day']\n",
    "# del data2['Day']\n",
    "\n",
    "\n",
    "# del data1['PatientID']\n",
    "# del data2['PatientID']\n",
    "# del data3['PatientID']\n",
    "# del pred_csv['PatientID']\n",
    "\n",
    "# del data1['glucose_level_since_beginning']\n",
    "# del data2['glucose_level_since_beginning']\n",
    "# del data3['glucose_level_since_beginning']\n",
    "# del pred_csv['glucose_level_since_beginning']\n",
    "\n",
    "\n",
    "print(pred_csv.iloc[[2]])\n"
   ],
   "metadata": {
    "collapsed": false
   }
  },
  {
   "cell_type": "code",
   "execution_count": 179,
   "outputs": [
    {
     "name": "stdout",
     "output_type": "stream",
     "text": [
      "Accuracy: 0.21042395954881368\n",
      "Accuracy: 0.22544080604534006\n",
      "Accuracy: 0.2084006462035541\n"
     ]
    },
    {
     "ename": "TypeError",
     "evalue": "unsupported operand type(s) for /: 'str' and 'int'",
     "output_type": "error",
     "traceback": [
      "\u001B[0;31m---------------------------------------------------------------------------\u001B[0m",
      "\u001B[0;31mTypeError\u001B[0m                                 Traceback (most recent call last)",
      "Cell \u001B[0;32mIn[179], line 89\u001B[0m\n\u001B[1;32m     87\u001B[0m     r2\u001B[38;5;241m.\u001B[39mappend(dtc2\u001B[38;5;241m.\u001B[39mpredict(pred_csv\u001B[38;5;241m.\u001B[39miloc[[i]]))\n\u001B[1;32m     88\u001B[0m     r3\u001B[38;5;241m.\u001B[39mappend(dtc3\u001B[38;5;241m.\u001B[39mpredict(pred_csv\u001B[38;5;241m.\u001B[39miloc[[i]]))\n\u001B[0;32m---> 89\u001B[0m     avg \u001B[38;5;241m=\u001B[39m \u001B[43m(\u001B[49m\u001B[43mr1\u001B[49m\u001B[43m[\u001B[49m\u001B[38;5;241;43m-\u001B[39;49m\u001B[38;5;241;43m1\u001B[39;49m\u001B[43m]\u001B[49m\u001B[38;5;241;43m+\u001B[39;49m\u001B[43mr2\u001B[49m\u001B[43m[\u001B[49m\u001B[38;5;241;43m-\u001B[39;49m\u001B[38;5;241;43m1\u001B[39;49m\u001B[43m]\u001B[49m\u001B[38;5;241;43m+\u001B[39;49m\u001B[43mr3\u001B[49m\u001B[43m[\u001B[49m\u001B[38;5;241;43m-\u001B[39;49m\u001B[38;5;241;43m1\u001B[39;49m\u001B[43m]\u001B[49m\u001B[43m)\u001B[49m\u001B[38;5;241;43m/\u001B[39;49m\u001B[38;5;241;43m3\u001B[39;49m\n\u001B[1;32m     91\u001B[0m np\u001B[38;5;241m.\u001B[39mappend(predictions, avg)\n\u001B[1;32m     92\u001B[0m \u001B[38;5;28mprint\u001B[39m(pred_csv\u001B[38;5;241m.\u001B[39miloc[\u001B[38;5;241m0\u001B[39m])\n",
      "\u001B[0;31mTypeError\u001B[0m: unsupported operand type(s) for /: 'str' and 'int'"
     ]
    }
   ],
   "source": [
    "from sklearn.tree import DecisionTreeClassifier\n",
    "from sklearn.model_selection import train_test_split\n",
    "from sklearn.metrics import accuracy_score\n",
    "\n",
    "data1\n",
    "X = data1.drop('GlucoseLevel', axis=1)\n",
    "y = data1['GlucoseLevel']\n",
    "\n",
    "##Golden value\n",
    "valra= 67\n",
    "\n",
    "# split dataset into training and testing sets\n",
    "X_train, X_test, y_train, y_test = train_test_split(X, y, test_size=0.3, random_state=valra)\n",
    "\n",
    "# create Decision Tree classifier object\n",
    "dtc1 = DecisionTreeClassifier(random_state=valra)\n",
    "\n",
    "# train the model using the training sets\n",
    "dtc1.fit(X_train, y_train)\n",
    "\n",
    "# predict the response for test dataset\n",
    "y_pred = dtc1.predict(X_test)\n",
    "\n",
    "\n",
    "# calculate accuracy score of the model\n",
    "accuracy = accuracy_score(y_test, y_pred)\n",
    "print(\"Accuracy:\", accuracy)\n",
    "\n",
    "###############################################################\n",
    "data2\n",
    "X = data2.drop('GlucoseLevel', axis=1)\n",
    "y = data2['GlucoseLevel']\n",
    "\n",
    "##Golden value\n",
    "valra= 67\n",
    "\n",
    "# split dataset into training and testing sets\n",
    "X_train, X_test, y_train, y_test = train_test_split(X, y, test_size=0.3, random_state=valra)\n",
    "\n",
    "# create Decision Tree classifier object\n",
    "dtc2 = DecisionTreeClassifier(random_state=valra)\n",
    "\n",
    "# train the model using the training sets\n",
    "dtc2.fit(X_train, y_train)\n",
    "\n",
    "# predict the response for test dataset\n",
    "y_pred = dtc2.predict(X_test)\n",
    "\n",
    "\n",
    "# calculate accuracy score of the model\n",
    "accuracy = accuracy_score(y_test, y_pred)\n",
    "print(\"Accuracy:\", accuracy)\n",
    "#####################################################################\n",
    "data3\n",
    "X = data3.drop('GlucoseLevel', axis=1)\n",
    "y = data3['GlucoseLevel']\n",
    "\n",
    "##Golden value\n",
    "valra= 67\n",
    "\n",
    "# split dataset into training and testing sets\n",
    "X_train, X_test, y_train, y_test = train_test_split(X, y, test_size=0.3, random_state=valra)\n",
    "\n",
    "# create Decision Tree classifier object\n",
    "dtc3 = DecisionTreeClassifier(random_state=valra)\n",
    "\n",
    "# train the model using the training sets\n",
    "dtc3.fit(X_train, y_train)\n",
    "# predict the response for test dataset\n",
    "y_pred = dtc3.predict(X_test)\n",
    "\n",
    "# calculate accuracy score of the model\n",
    "accuracy = accuracy_score(y_test, y_pred)\n",
    "print(\"Accuracy:\", accuracy)\n",
    "r1, r2, r3 = [], [], []\n",
    "\n",
    "# for i in range(len(pred_csv)):\n",
    "#     print(i)\n",
    "#     r1.append(dtc1.predict(pred_csv.iloc[[i]]))\n",
    "#     r2.append(dtc2.predict(pred_csv.iloc[[i]]))\n",
    "#     r3.append(dtc3.predict(pred_csv.iloc[[i]]))\n",
    "#     avg = (r1[-1]+r2[-1]+r3[-1])/3\n",
    "#     np.append(predictions, avg)\n",
    "\n",
    "for i in range(len(pred_csv)):\n",
    "    r1.append(dtc1.predict(pred_csv.iloc[[i]]))\n",
    "    r2.append(dtc2.predict(pred_csv.iloc[[i]]))\n",
    "    r3.append(dtc3.predict(pred_csv.iloc[[i]]))\n",
    "    avg = (r1[-1]+r2[-1]+r3[-1])/3\n",
    "\n",
    "np.append(predictions, avg)\n",
    "print(pred_csv.iloc[0])"
   ],
   "metadata": {
    "collapsed": false
   }
  },
  {
   "cell_type": "code",
   "execution_count": 179,
   "outputs": [],
   "source": [],
   "metadata": {
    "collapsed": false
   }
  },
  {
   "cell_type": "code",
   "execution_count": 179,
   "outputs": [],
   "source": [],
   "metadata": {
    "collapsed": false
   }
  },
  {
   "cell_type": "code",
   "execution_count": 179,
   "outputs": [],
   "source": [],
   "metadata": {
    "collapsed": false
   }
  },
  {
   "cell_type": "code",
   "execution_count": 180,
   "outputs": [
    {
     "name": "stdout",
     "output_type": "stream",
     "text": [
      "Accuracy: 0.2164527421236873\n",
      "Accuracy: 0.22355163727959698\n",
      "Accuracy: 0.2125984251968504\n"
     ]
    },
    {
     "name": "stderr",
     "output_type": "stream",
     "text": [
      "/home/ibz/PycharmProjects/Code/DataQuest2023/lib/python3.10/site-packages/sklearn/base.py:439: UserWarning: X does not have valid feature names, but RandomForestClassifier was fitted with feature names\n",
      "  warnings.warn(\n"
     ]
    },
    {
     "ename": "ValueError",
     "evalue": "could not convert string to float: 'Year'",
     "output_type": "error",
     "traceback": [
      "\u001B[0;31m---------------------------------------------------------------------------\u001B[0m",
      "\u001B[0;31mValueError\u001B[0m                                Traceback (most recent call last)",
      "File \u001B[0;32m<timed exec>:69\u001B[0m\n",
      "File \u001B[0;32m~/PycharmProjects/Code/DataQuest2023/lib/python3.10/site-packages/sklearn/ensemble/_forest.py:820\u001B[0m, in \u001B[0;36mForestClassifier.predict\u001B[0;34m(self, X)\u001B[0m\n\u001B[1;32m    799\u001B[0m \u001B[38;5;28;01mdef\u001B[39;00m \u001B[38;5;21mpredict\u001B[39m(\u001B[38;5;28mself\u001B[39m, X):\n\u001B[1;32m    800\u001B[0m \u001B[38;5;250m    \u001B[39m\u001B[38;5;124;03m\"\"\"\u001B[39;00m\n\u001B[1;32m    801\u001B[0m \u001B[38;5;124;03m    Predict class for X.\u001B[39;00m\n\u001B[1;32m    802\u001B[0m \n\u001B[0;32m   (...)\u001B[0m\n\u001B[1;32m    818\u001B[0m \u001B[38;5;124;03m        The predicted classes.\u001B[39;00m\n\u001B[1;32m    819\u001B[0m \u001B[38;5;124;03m    \"\"\"\u001B[39;00m\n\u001B[0;32m--> 820\u001B[0m     proba \u001B[38;5;241m=\u001B[39m \u001B[38;5;28;43mself\u001B[39;49m\u001B[38;5;241;43m.\u001B[39;49m\u001B[43mpredict_proba\u001B[49m\u001B[43m(\u001B[49m\u001B[43mX\u001B[49m\u001B[43m)\u001B[49m\n\u001B[1;32m    822\u001B[0m     \u001B[38;5;28;01mif\u001B[39;00m \u001B[38;5;28mself\u001B[39m\u001B[38;5;241m.\u001B[39mn_outputs_ \u001B[38;5;241m==\u001B[39m \u001B[38;5;241m1\u001B[39m:\n\u001B[1;32m    823\u001B[0m         \u001B[38;5;28;01mreturn\u001B[39;00m \u001B[38;5;28mself\u001B[39m\u001B[38;5;241m.\u001B[39mclasses_\u001B[38;5;241m.\u001B[39mtake(np\u001B[38;5;241m.\u001B[39margmax(proba, axis\u001B[38;5;241m=\u001B[39m\u001B[38;5;241m1\u001B[39m), axis\u001B[38;5;241m=\u001B[39m\u001B[38;5;241m0\u001B[39m)\n",
      "File \u001B[0;32m~/PycharmProjects/Code/DataQuest2023/lib/python3.10/site-packages/sklearn/ensemble/_forest.py:862\u001B[0m, in \u001B[0;36mForestClassifier.predict_proba\u001B[0;34m(self, X)\u001B[0m\n\u001B[1;32m    860\u001B[0m check_is_fitted(\u001B[38;5;28mself\u001B[39m)\n\u001B[1;32m    861\u001B[0m \u001B[38;5;66;03m# Check data\u001B[39;00m\n\u001B[0;32m--> 862\u001B[0m X \u001B[38;5;241m=\u001B[39m \u001B[38;5;28;43mself\u001B[39;49m\u001B[38;5;241;43m.\u001B[39;49m\u001B[43m_validate_X_predict\u001B[49m\u001B[43m(\u001B[49m\u001B[43mX\u001B[49m\u001B[43m)\u001B[49m\n\u001B[1;32m    864\u001B[0m \u001B[38;5;66;03m# Assign chunk of trees to jobs\u001B[39;00m\n\u001B[1;32m    865\u001B[0m n_jobs, _, _ \u001B[38;5;241m=\u001B[39m _partition_estimators(\u001B[38;5;28mself\u001B[39m\u001B[38;5;241m.\u001B[39mn_estimators, \u001B[38;5;28mself\u001B[39m\u001B[38;5;241m.\u001B[39mn_jobs)\n",
      "File \u001B[0;32m~/PycharmProjects/Code/DataQuest2023/lib/python3.10/site-packages/sklearn/ensemble/_forest.py:602\u001B[0m, in \u001B[0;36mBaseForest._validate_X_predict\u001B[0;34m(self, X)\u001B[0m\n\u001B[1;32m    599\u001B[0m \u001B[38;5;250m\u001B[39m\u001B[38;5;124;03m\"\"\"\u001B[39;00m\n\u001B[1;32m    600\u001B[0m \u001B[38;5;124;03mValidate X whenever one tries to predict, apply, predict_proba.\"\"\"\u001B[39;00m\n\u001B[1;32m    601\u001B[0m check_is_fitted(\u001B[38;5;28mself\u001B[39m)\n\u001B[0;32m--> 602\u001B[0m X \u001B[38;5;241m=\u001B[39m \u001B[38;5;28;43mself\u001B[39;49m\u001B[38;5;241;43m.\u001B[39;49m\u001B[43m_validate_data\u001B[49m\u001B[43m(\u001B[49m\u001B[43mX\u001B[49m\u001B[43m,\u001B[49m\u001B[43m \u001B[49m\u001B[43mdtype\u001B[49m\u001B[38;5;241;43m=\u001B[39;49m\u001B[43mDTYPE\u001B[49m\u001B[43m,\u001B[49m\u001B[43m \u001B[49m\u001B[43maccept_sparse\u001B[49m\u001B[38;5;241;43m=\u001B[39;49m\u001B[38;5;124;43m\"\u001B[39;49m\u001B[38;5;124;43mcsr\u001B[39;49m\u001B[38;5;124;43m\"\u001B[39;49m\u001B[43m,\u001B[49m\u001B[43m \u001B[49m\u001B[43mreset\u001B[49m\u001B[38;5;241;43m=\u001B[39;49m\u001B[38;5;28;43;01mFalse\u001B[39;49;00m\u001B[43m)\u001B[49m\n\u001B[1;32m    603\u001B[0m \u001B[38;5;28;01mif\u001B[39;00m issparse(X) \u001B[38;5;129;01mand\u001B[39;00m (X\u001B[38;5;241m.\u001B[39mindices\u001B[38;5;241m.\u001B[39mdtype \u001B[38;5;241m!=\u001B[39m np\u001B[38;5;241m.\u001B[39mintc \u001B[38;5;129;01mor\u001B[39;00m X\u001B[38;5;241m.\u001B[39mindptr\u001B[38;5;241m.\u001B[39mdtype \u001B[38;5;241m!=\u001B[39m np\u001B[38;5;241m.\u001B[39mintc):\n\u001B[1;32m    604\u001B[0m     \u001B[38;5;28;01mraise\u001B[39;00m \u001B[38;5;167;01mValueError\u001B[39;00m(\u001B[38;5;124m\"\u001B[39m\u001B[38;5;124mNo support for np.int64 index based sparse matrices\u001B[39m\u001B[38;5;124m\"\u001B[39m)\n",
      "File \u001B[0;32m~/PycharmProjects/Code/DataQuest2023/lib/python3.10/site-packages/sklearn/base.py:565\u001B[0m, in \u001B[0;36mBaseEstimator._validate_data\u001B[0;34m(self, X, y, reset, validate_separately, **check_params)\u001B[0m\n\u001B[1;32m    563\u001B[0m     \u001B[38;5;28;01mraise\u001B[39;00m \u001B[38;5;167;01mValueError\u001B[39;00m(\u001B[38;5;124m\"\u001B[39m\u001B[38;5;124mValidation should be done on X, y or both.\u001B[39m\u001B[38;5;124m\"\u001B[39m)\n\u001B[1;32m    564\u001B[0m \u001B[38;5;28;01melif\u001B[39;00m \u001B[38;5;129;01mnot\u001B[39;00m no_val_X \u001B[38;5;129;01mand\u001B[39;00m no_val_y:\n\u001B[0;32m--> 565\u001B[0m     X \u001B[38;5;241m=\u001B[39m \u001B[43mcheck_array\u001B[49m\u001B[43m(\u001B[49m\u001B[43mX\u001B[49m\u001B[43m,\u001B[49m\u001B[43m \u001B[49m\u001B[43minput_name\u001B[49m\u001B[38;5;241;43m=\u001B[39;49m\u001B[38;5;124;43m\"\u001B[39;49m\u001B[38;5;124;43mX\u001B[39;49m\u001B[38;5;124;43m\"\u001B[39;49m\u001B[43m,\u001B[49m\u001B[43m \u001B[49m\u001B[38;5;241;43m*\u001B[39;49m\u001B[38;5;241;43m*\u001B[39;49m\u001B[43mcheck_params\u001B[49m\u001B[43m)\u001B[49m\n\u001B[1;32m    566\u001B[0m     out \u001B[38;5;241m=\u001B[39m X\n\u001B[1;32m    567\u001B[0m \u001B[38;5;28;01melif\u001B[39;00m no_val_X \u001B[38;5;129;01mand\u001B[39;00m \u001B[38;5;129;01mnot\u001B[39;00m no_val_y:\n",
      "File \u001B[0;32m~/PycharmProjects/Code/DataQuest2023/lib/python3.10/site-packages/sklearn/utils/validation.py:879\u001B[0m, in \u001B[0;36mcheck_array\u001B[0;34m(array, accept_sparse, accept_large_sparse, dtype, order, copy, force_all_finite, ensure_2d, allow_nd, ensure_min_samples, ensure_min_features, estimator, input_name)\u001B[0m\n\u001B[1;32m    877\u001B[0m         array \u001B[38;5;241m=\u001B[39m xp\u001B[38;5;241m.\u001B[39mastype(array, dtype, copy\u001B[38;5;241m=\u001B[39m\u001B[38;5;28;01mFalse\u001B[39;00m)\n\u001B[1;32m    878\u001B[0m     \u001B[38;5;28;01melse\u001B[39;00m:\n\u001B[0;32m--> 879\u001B[0m         array \u001B[38;5;241m=\u001B[39m \u001B[43m_asarray_with_order\u001B[49m\u001B[43m(\u001B[49m\u001B[43marray\u001B[49m\u001B[43m,\u001B[49m\u001B[43m \u001B[49m\u001B[43morder\u001B[49m\u001B[38;5;241;43m=\u001B[39;49m\u001B[43morder\u001B[49m\u001B[43m,\u001B[49m\u001B[43m \u001B[49m\u001B[43mdtype\u001B[49m\u001B[38;5;241;43m=\u001B[39;49m\u001B[43mdtype\u001B[49m\u001B[43m,\u001B[49m\u001B[43m \u001B[49m\u001B[43mxp\u001B[49m\u001B[38;5;241;43m=\u001B[39;49m\u001B[43mxp\u001B[49m\u001B[43m)\u001B[49m\n\u001B[1;32m    880\u001B[0m \u001B[38;5;28;01mexcept\u001B[39;00m ComplexWarning \u001B[38;5;28;01mas\u001B[39;00m complex_warning:\n\u001B[1;32m    881\u001B[0m     \u001B[38;5;28;01mraise\u001B[39;00m \u001B[38;5;167;01mValueError\u001B[39;00m(\n\u001B[1;32m    882\u001B[0m         \u001B[38;5;124m\"\u001B[39m\u001B[38;5;124mComplex data not supported\u001B[39m\u001B[38;5;130;01m\\n\u001B[39;00m\u001B[38;5;132;01m{}\u001B[39;00m\u001B[38;5;130;01m\\n\u001B[39;00m\u001B[38;5;124m\"\u001B[39m\u001B[38;5;241m.\u001B[39mformat(array)\n\u001B[1;32m    883\u001B[0m     ) \u001B[38;5;28;01mfrom\u001B[39;00m \u001B[38;5;21;01mcomplex_warning\u001B[39;00m\n",
      "File \u001B[0;32m~/PycharmProjects/Code/DataQuest2023/lib/python3.10/site-packages/sklearn/utils/_array_api.py:185\u001B[0m, in \u001B[0;36m_asarray_with_order\u001B[0;34m(array, dtype, order, copy, xp)\u001B[0m\n\u001B[1;32m    182\u001B[0m     xp, _ \u001B[38;5;241m=\u001B[39m get_namespace(array)\n\u001B[1;32m    183\u001B[0m \u001B[38;5;28;01mif\u001B[39;00m xp\u001B[38;5;241m.\u001B[39m\u001B[38;5;18m__name__\u001B[39m \u001B[38;5;129;01min\u001B[39;00m {\u001B[38;5;124m\"\u001B[39m\u001B[38;5;124mnumpy\u001B[39m\u001B[38;5;124m\"\u001B[39m, \u001B[38;5;124m\"\u001B[39m\u001B[38;5;124mnumpy.array_api\u001B[39m\u001B[38;5;124m\"\u001B[39m}:\n\u001B[1;32m    184\u001B[0m     \u001B[38;5;66;03m# Use NumPy API to support order\u001B[39;00m\n\u001B[0;32m--> 185\u001B[0m     array \u001B[38;5;241m=\u001B[39m \u001B[43mnumpy\u001B[49m\u001B[38;5;241;43m.\u001B[39;49m\u001B[43masarray\u001B[49m\u001B[43m(\u001B[49m\u001B[43marray\u001B[49m\u001B[43m,\u001B[49m\u001B[43m \u001B[49m\u001B[43morder\u001B[49m\u001B[38;5;241;43m=\u001B[39;49m\u001B[43morder\u001B[49m\u001B[43m,\u001B[49m\u001B[43m \u001B[49m\u001B[43mdtype\u001B[49m\u001B[38;5;241;43m=\u001B[39;49m\u001B[43mdtype\u001B[49m\u001B[43m)\u001B[49m\n\u001B[1;32m    186\u001B[0m     \u001B[38;5;28;01mreturn\u001B[39;00m xp\u001B[38;5;241m.\u001B[39masarray(array, copy\u001B[38;5;241m=\u001B[39mcopy)\n\u001B[1;32m    187\u001B[0m \u001B[38;5;28;01melse\u001B[39;00m:\n",
      "\u001B[0;31mValueError\u001B[0m: could not convert string to float: 'Year'"
     ]
    }
   ],
   "source": [
    "%%time\n",
    "from sklearn.ensemble import RandomForestClassifier\n",
    "from sklearn.model_selection import train_test_split\n",
    "from sklearn.metrics import accuracy_score\n",
    "\n",
    "data1\n",
    "# split dataset into features and target variable\n",
    "X = data1.drop('GlucoseLevel', axis=1)\n",
    "y = data1['GlucoseLevel']\n",
    "valra= 42\n",
    "# split dataset into training and testing sets\n",
    "X_train, X_test, y_train, y_test = train_test_split(X, y, test_size=0.2, random_state=valra)\n",
    "\n",
    "# create Random Forest classifier object\n",
    "rfc = RandomForestClassifier(n_estimators=50, random_state=valra)\n",
    "\n",
    "# train the model using the training sets\n",
    "rfc.fit(X_train, y_train)\n",
    "\n",
    "# predict the response for test dataset\n",
    "y_pred = rfc.predict(X_test)\n",
    "\n",
    "# calculate accuracy score of the model\n",
    "accuracy = accuracy_score(y_test, y_pred)\n",
    "print(\"Accuracy:\", accuracy)\n",
    "\n",
    "data2\n",
    "# split dataset into features and target variable\n",
    "X = data2.drop('GlucoseLevel', axis=1)\n",
    "y = data2['GlucoseLevel']\n",
    "valra= 42\n",
    "# split dataset into training and testing sets\n",
    "X_train, X_test, y_train, y_test = train_test_split(X, y, test_size=0.2, random_state=valra)\n",
    "\n",
    "# create Random Forest classifier object\n",
    "rfc2 = RandomForestClassifier(n_estimators=50, random_state=valra)\n",
    "\n",
    "# train the model using the training sets\n",
    "rfc2.fit(X_train, y_train)\n",
    "\n",
    "# predict the response for test dataset\n",
    "y_pred = rfc2.predict(X_test)\n",
    "\n",
    "# calculate accuracy score of the model\n",
    "accuracy = accuracy_score(y_test, y_pred)\n",
    "print(\"Accuracy:\", accuracy)\n",
    "\n",
    "data3\n",
    "# split dataset into features and target variable\n",
    "X = data3.drop('GlucoseLevel', axis=1)\n",
    "y = data3['GlucoseLevel']\n",
    "valra= 42\n",
    "# split dataset into training and testing sets\n",
    "X_train, X_test, y_train, y_test = train_test_split(X, y, test_size=0.2, random_state=valra)\n",
    "\n",
    "# create Random Forest classifier object\n",
    "rfc3 = RandomForestClassifier(n_estimators=50, random_state=valra)\n",
    "\n",
    "# train the model using the training sets\n",
    "rfc3.fit(X_train, y_train)\n",
    "\n",
    "# predict the response for test dataset\n",
    "y_pred = rfc3.predict(X_test)\n",
    "\n",
    "# calculate accuracy score of the model\n",
    "accuracy = accuracy_score(y_test, y_pred)\n",
    "print(\"Accuracy:\", accuracy)\n",
    "\n",
    "for i in pred_csv:\n",
    "    r1 = rfc.predict(i)\n",
    "    r2 = rfc2.predict(i)\n",
    "    r3 = rfc3.predict(i)\n",
    "    avg = (r1+r2+r3)/3\n",
    "np.append(predictions1, avg)\n",
    "print(pred_csv.iloc[0])"
   ],
   "metadata": {
    "collapsed": false
   }
  },
  {
   "cell_type": "code",
   "execution_count": 180,
   "outputs": [],
   "source": [],
   "metadata": {
    "collapsed": false
   }
  },
  {
   "cell_type": "code",
   "execution_count": 181,
   "outputs": [
    {
     "data": {
      "text/plain": "   patientID        Date   Time  Code\n0          1  1990-08-01  06:25    58\n1          1  1990-08-01  11:39    60\n2          1  1990-08-01  18:07    62\n3          1  1990-08-02  07:29    58\n4          1  1990-08-02  12:09    60",
      "text/html": "<div>\n<style scoped>\n    .dataframe tbody tr th:only-of-type {\n        vertical-align: middle;\n    }\n\n    .dataframe tbody tr th {\n        vertical-align: top;\n    }\n\n    .dataframe thead th {\n        text-align: right;\n    }\n</style>\n<table border=\"1\" class=\"dataframe\">\n  <thead>\n    <tr style=\"text-align: right;\">\n      <th></th>\n      <th>patientID</th>\n      <th>Date</th>\n      <th>Time</th>\n      <th>Code</th>\n    </tr>\n  </thead>\n  <tbody>\n    <tr>\n      <th>0</th>\n      <td>1</td>\n      <td>1990-08-01</td>\n      <td>06:25</td>\n      <td>58</td>\n    </tr>\n    <tr>\n      <th>1</th>\n      <td>1</td>\n      <td>1990-08-01</td>\n      <td>11:39</td>\n      <td>60</td>\n    </tr>\n    <tr>\n      <th>2</th>\n      <td>1</td>\n      <td>1990-08-01</td>\n      <td>18:07</td>\n      <td>62</td>\n    </tr>\n    <tr>\n      <th>3</th>\n      <td>1</td>\n      <td>1990-08-02</td>\n      <td>07:29</td>\n      <td>58</td>\n    </tr>\n    <tr>\n      <th>4</th>\n      <td>1</td>\n      <td>1990-08-02</td>\n      <td>12:09</td>\n      <td>60</td>\n    </tr>\n  </tbody>\n</table>\n</div>"
     },
     "execution_count": 181,
     "metadata": {},
     "output_type": "execute_result"
    }
   ],
   "source": [
    "path_to_prediction_file = \"/home/ibz/Desktop/DataQuest2023/dataquest-nascon23/to_predict.csv\"\n",
    "prediction_data = pd.read_csv(path_to_prediction_file)\n",
    "prediction_data = prediction_data.iloc[: , 1:]\n",
    "prediction_values = prediction_data[['Value']]\n",
    "del prediction_data['Value']\n",
    "prediction_data.head()\n",
    "# prediction_values.head()"
   ],
   "metadata": {
    "collapsed": false
   }
  },
  {
   "cell_type": "markdown",
   "source": [
    "### Cleaning Data"
   ],
   "metadata": {
    "collapsed": false
   }
  },
  {
   "cell_type": "code",
   "execution_count": 182,
   "outputs": [
    {
     "name": "stdout",
     "output_type": "stream",
     "text": [
      "            Date   Time  Code  Value\n",
      "ID                                  \n",
      "1     1990-08-01  06:25    58    NaN\n",
      "2     1990-08-01  11:39    60    NaN\n",
      "3     1990-08-01  18:07    62    NaN\n",
      "4     1990-08-02  07:29    58    NaN\n",
      "5     1990-08-02  12:09    60    NaN\n",
      "...          ...    ...   ...    ...\n",
      "1048  1990-10-10  11:57    60    NaN\n",
      "1049  1990-10-10  17:49    62    NaN\n",
      "1050  1990-10-11  06:04    58    NaN\n",
      "1051  1990-10-11  12:03    60    NaN\n",
      "1052  1990-10-11  17:00    62    NaN\n",
      "\n",
      "[1052 rows x 4 columns]\n"
     ]
    }
   ],
   "source": [
    "predict_file = '/home/ibz/Desktop/DataQuest2023/dataquest-nascon23/to_predict.csv'\n",
    "pred_csv = pd.read_csv(predict_file, index_col = 0)\n",
    "pred_csv = pred_csv.iloc[: , 1:]\n",
    "print(pred_csv)"
   ],
   "metadata": {
    "collapsed": false
   }
  },
  {
   "cell_type": "code",
   "execution_count": 183,
   "outputs": [
    {
     "data": {
      "text/plain": "ID\n1       58\n2       60\n3       62\n4       58\n5       60\n        ..\n1048    60\n1049    62\n1050    58\n1051    60\n1052    62\nName: Code, Length: 1052, dtype: int64"
     },
     "execution_count": 183,
     "metadata": {},
     "output_type": "execute_result"
    }
   ],
   "source": [
    "pred_csv['Code']"
   ],
   "metadata": {
    "collapsed": false
   }
  },
  {
   "cell_type": "code",
   "execution_count": 184,
   "outputs": [
    {
     "data": {
      "text/plain": "60"
     },
     "execution_count": 184,
     "metadata": {},
     "output_type": "execute_result"
    }
   ],
   "source": [
    "pred_csv.loc[2][2]"
   ],
   "metadata": {
    "collapsed": false
   }
  },
  {
   "cell_type": "code",
   "execution_count": 185,
   "outputs": [],
   "source": [
    "code_dictionary = {\n",
    "    33: 'Regular insulin dose',\n",
    "    34: 'NPH insulin dose',\n",
    "    35: 'UltraLente insulin dose',\n",
    "    48: 'Unspecified blood glucose measurement',\n",
    "    57: 'Unspecified blood glucose measurement',\n",
    "    58: 'Pre-breakfast blood glucose measurement',\n",
    "    59: 'Post-breakfast blood glucose measurement',\n",
    "    60: 'Pre-lunch blood glucose measurement',\n",
    "    61: 'Post-lunch blood glucose measurement',\n",
    "    62: 'Pre-supper blood glucose measurement',\n",
    "    63: 'Post-supper blood glucose measurement',\n",
    "    64: 'Pre-snack blood glucose measurement',\n",
    "    65: 'Hypoglycemic symptoms',\n",
    "    66: 'Typical meal ingestion',\n",
    "    67: 'More-than-usual meal ingestion',\n",
    "    68: 'Less-than-usual meal ingestion',\n",
    "    69: 'Typical exercise activity',\n",
    "    70: 'More-than-usual exercise activity',\n",
    "    71: 'Less-than-usual exercise activity',\n",
    "    72: 'Unspecified special event'\n",
    "}"
   ],
   "metadata": {
    "collapsed": false
   }
  },
  {
   "cell_type": "markdown",
   "source": [
    "# Data Prediction"
   ],
   "metadata": {
    "collapsed": false
   }
  },
  {
   "cell_type": "code",
   "execution_count": 186,
   "outputs": [
    {
     "ename": "IndexError",
     "evalue": "index 0 is out of bounds for axis 0 with size 0",
     "output_type": "error",
     "traceback": [
      "\u001B[0;31m---------------------------------------------------------------------------\u001B[0m",
      "\u001B[0;31mIndexError\u001B[0m                                Traceback (most recent call last)",
      "Cell \u001B[0;32mIn[186], line 2\u001B[0m\n\u001B[1;32m      1\u001B[0m \u001B[38;5;28;01mfor\u001B[39;00m i \u001B[38;5;129;01min\u001B[39;00m \u001B[38;5;28mrange\u001B[39m(\u001B[38;5;241m0\u001B[39m, \u001B[38;5;28mlen\u001B[39m(pred_csv[\u001B[38;5;124m'\u001B[39m\u001B[38;5;124mDate\u001B[39m\u001B[38;5;124m'\u001B[39m])):\n\u001B[0;32m----> 2\u001B[0m     pred_csv[\u001B[38;5;124m'\u001B[39m\u001B[38;5;124mGlucose\u001B[39m\u001B[38;5;124m'\u001B[39m] \u001B[38;5;241m=\u001B[39m (\u001B[43mpredictions\u001B[49m\u001B[43m[\u001B[49m\u001B[43mi\u001B[49m\u001B[43m]\u001B[49m\u001B[38;5;241m+\u001B[39mpredictions1[i])\u001B[38;5;241m/\u001B[39m\u001B[38;5;241m2\u001B[39m\n",
      "\u001B[0;31mIndexError\u001B[0m: index 0 is out of bounds for axis 0 with size 0"
     ]
    }
   ],
   "source": [
    "for i in range(0, len(pred_csv['Date'])):\n",
    "    pred_csv['Glucose'] = (predictions[i]+predictions1[i])/2"
   ],
   "metadata": {
    "collapsed": false
   }
  },
  {
   "cell_type": "code",
   "execution_count": null,
   "outputs": [],
   "source": [],
   "metadata": {
    "collapsed": false,
    "pycharm": {
     "is_executing": true
    }
   }
  },
  {
   "cell_type": "code",
   "execution_count": null,
   "outputs": [],
   "source": [],
   "metadata": {
    "collapsed": false,
    "pycharm": {
     "is_executing": true
    }
   }
  },
  {
   "cell_type": "code",
   "execution_count": 50,
   "outputs": [],
   "source": [],
   "metadata": {
    "collapsed": false
   }
  }
 ],
 "metadata": {
  "kernelspec": {
   "display_name": "Python 3",
   "language": "python",
   "name": "python3"
  },
  "language_info": {
   "codemirror_mode": {
    "name": "ipython",
    "version": 2
   },
   "file_extension": ".py",
   "mimetype": "text/x-python",
   "name": "python",
   "nbconvert_exporter": "python",
   "pygments_lexer": "ipython2",
   "version": "2.7.6"
  }
 },
 "nbformat": 4,
 "nbformat_minor": 0
}
